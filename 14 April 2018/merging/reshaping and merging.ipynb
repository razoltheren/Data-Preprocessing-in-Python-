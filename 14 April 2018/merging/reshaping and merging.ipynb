{
 "cells": [
  {
   "cell_type": "markdown",
   "metadata": {
    "collapsed": true
   },
   "source": [
    "<div class=\"alert alert-info\">\n",
    "*Objective of this sheet*\n",
    "</div>\n",
    "\n",
    "* concatenating\n",
    "* merging\n",
    "* reshaping (pivoting)"
   ]
  },
  {
   "cell_type": "code",
   "execution_count": null,
   "metadata": {},
   "outputs": [],
   "source": [
    "import pandas as pd"
   ]
  },
  {
   "cell_type": "code",
   "execution_count": null,
   "metadata": {},
   "outputs": [],
   "source": []
  },
  {
   "cell_type": "code",
   "execution_count": null,
   "metadata": {},
   "outputs": [],
   "source": [
    "# 1 Concatenating : the pandas.concat( ) function concatenates the objects along an axis.\n",
    "NZ_population = pd.DataFrame({\n",
    "        'city': ['Auckland','Wellington','Hamilton'],\n",
    "        'population' : [1534700,412500,235900],\n",
    "        'density': [1413,929,269]\n",
    "    })\n",
    "NZ_population"
   ]
  },
  {
   "cell_type": "code",
   "execution_count": null,
   "metadata": {},
   "outputs": [],
   "source": [
    "AUS_population = pd.DataFrame({\n",
    "        'city': ['Sydney','Melbourne','Perth'],\n",
    "        'population' : [5029768,4725316,2022044],\n",
    "        'density': [1900 ,1500,1000 ]\n",
    "    })\n",
    "AUS_population"
   ]
  },
  {
   "cell_type": "code",
   "execution_count": null,
   "metadata": {},
   "outputs": [],
   "source": [
    "# for concatenation we have to just pass the dataframe objects, here we have two, but even can be more then that\n",
    "con = pd.concat([NZ_population, AUS_population])\n",
    "con"
   ]
  },
  {
   "cell_type": "code",
   "execution_count": null,
   "metadata": {},
   "outputs": [],
   "source": [
    "# if we will have a look at the above index, we can see above the index are taken what were originally,\n",
    "# now we will make it a continous index continous index\n",
    "df = pd.concat([NZ_population, AUS_population], ignore_index = True)\n",
    "df"
   ]
  },
  {
   "cell_type": "code",
   "execution_count": null,
   "metadata": {},
   "outputs": [],
   "source": [
    "# now to retrive a particular data from the dataframe, e.g I want to retreve Australia data\n",
    "dif = pd.concat([NZ_population, AUS_population], keys=['NZ','AUS'])\n",
    "dif\n",
    "# now it has created an additional index for a subset of a datframe"
   ]
  },
  {
   "cell_type": "code",
   "execution_count": null,
   "metadata": {},
   "outputs": [],
   "source": [
    "# it will be helpful to retrieve a subset of a dataframe\n",
    "dif.loc['AUS']\n",
    "\n",
    "# so to get the orignal dataframe back it is a good choice"
   ]
  },
  {
   "cell_type": "code",
   "execution_count": null,
   "metadata": {},
   "outputs": [],
   "source": [
    "#  If we just want to concatenate column wise,then  \n",
    "NZ_population = pd.DataFrame({\n",
    "        'city': ['Auckland','Wellington','Hamilton'],\n",
    "        'population' : [1534700,412500,235900]})\n",
    "NZ_population"
   ]
  },
  {
   "cell_type": "code",
   "execution_count": null,
   "metadata": {},
   "outputs": [],
   "source": [
    "AUS_population = pd.DataFrame({\n",
    "        'city': ['Sydney','Melbourne','Perth'],\n",
    "        'population' : [5029768,4725316,2022044] })\n",
    "AUS_population"
   ]
  },
  {
   "cell_type": "code",
   "execution_count": null,
   "metadata": {},
   "outputs": [],
   "source": [
    "# this is how we can concate columns wise\n",
    "df1 = pd.concat([NZ_population,AUS_population], axis = 1)\n",
    "df1"
   ]
  },
  {
   "cell_type": "code",
   "execution_count": null,
   "metadata": {},
   "outputs": [],
   "source": [
    "# we can also join the dataframe with a series, now down temperature_df is my dataframe\n",
    "AUS_population"
   ]
  },
  {
   "cell_type": "code",
   "execution_count": null,
   "metadata": {},
   "outputs": [],
   "source": [
    "# now we are creating a series\n",
    "s = pd.Series([1900 ,1500,1000 ], name = 'density')\n",
    "s"
   ]
  },
  {
   "cell_type": "code",
   "execution_count": null,
   "metadata": {},
   "outputs": [],
   "source": [
    "#so down we have added series to the  dataframe\n",
    "pd.concat([AUS_population, s], axis = 1)"
   ]
  },
  {
   "cell_type": "code",
   "execution_count": null,
   "metadata": {},
   "outputs": [],
   "source": []
  },
  {
   "cell_type": "code",
   "execution_count": null,
   "metadata": {},
   "outputs": [],
   "source": []
  },
  {
   "cell_type": "code",
   "execution_count": null,
   "metadata": {},
   "outputs": [],
   "source": [
    "#2 MERGE DataFrame : the pandas.merge( ) function connects the rows in a DataFrame based on keys it implements join operations. \n",
    "AUS_population = pd.DataFrame({\n",
    "        'city': ['Sydney','Melbourne','Perth'],\n",
    "        'population' : [5029768,4725316,2022044]})\n",
    "AUS_population"
   ]
  },
  {
   "cell_type": "code",
   "execution_count": null,
   "metadata": {},
   "outputs": [],
   "source": [
    "AUS_density = pd.DataFrame({\n",
    "        'city': ['Sydney','Melbourne','Perth','Adelaide'],\n",
    "'density': [1900 ,1500,1000,1300 ]})\n",
    "AUS_density"
   ]
  },
  {
   "cell_type": "code",
   "execution_count": null,
   "metadata": {},
   "outputs": [],
   "source": [
    "# now we want to join these two dataframes by merge function\n",
    "data = pd.merge(AUS_population,AUS_density ,right_on = 'city', left_on = 'city')\n",
    "data\n",
    "# it is better then concat, because it is looking the values in the cities and then merging\n",
    "# inner join is by defauklt, we can also use outer, left or right as well"
   ]
  },
  {
   "cell_type": "code",
   "execution_count": null,
   "metadata": {},
   "outputs": [],
   "source": [
    "# in the same way here we have used the left join\n",
    "data = pd.merge(AUS_population,AUS_density ,on = 'city', how = 'left')\n",
    "data\n",
    "# if we will write here the right join then Adelade will come."
   ]
  },
  {
   "cell_type": "code",
   "execution_count": null,
   "metadata": {},
   "outputs": [],
   "source": [
    "#  in the same way here we have used the outer join, here we are setting the data first.\n",
    "NZ_population = pd.DataFrame({\n",
    "        'city': ['Auckland','Wellington','Hamilton'],\n",
    "        'population' : [1534700,412500,235900],\n",
    "        'density': [1413,929,269]\n",
    "    })\n",
    "NZ_population"
   ]
  },
  {
   "cell_type": "code",
   "execution_count": null,
   "metadata": {},
   "outputs": [],
   "source": [
    "AUS_population = pd.DataFrame({\n",
    "        'city': ['Sydney','Melbourne','Perth'],\n",
    "        'population' : [5029768,4725316,2022044],\n",
    "        'density': [1900 ,1500,1000 ]\n",
    "    })\n",
    "AUS_population"
   ]
  },
  {
   "cell_type": "code",
   "execution_count": null,
   "metadata": {},
   "outputs": [],
   "source": [
    "#df3 = pd.merge(NZ_population,AUS_population,on='city', how = 'outer')\n",
    "\n",
    "## here suffixes will come handy, it will distinguish between the two columns \n",
    "df3 = pd.merge(NZ_population,AUS_population,on='city', how = 'outer', suffixes=('_left','_right'))\n",
    "\n",
    "df3"
   ]
  },
  {
   "cell_type": "code",
   "execution_count": null,
   "metadata": {},
   "outputs": [],
   "source": []
  },
  {
   "cell_type": "code",
   "execution_count": null,
   "metadata": {},
   "outputs": [],
   "source": [
    "#3                                           Pivot tables\n",
    "df =pd.read_excel('pivo.xlsx')\n",
    "df\n"
   ]
  },
  {
   "cell_type": "code",
   "execution_count": null,
   "metadata": {},
   "outputs": [],
   "source": [
    "# pivot functions arguments \n",
    "\n",
    "df2 = df.pivot_table(index='date', columns='city', values = 'humidity')\n",
    "df2\n",
    "\n",
    "# we can see three things written above i.e. index, columns and values:\n",
    "# index : what I want on 'X' axis or as rows?\n",
    "# columns: what do I want to present in the columns? \n",
    "# values: what data I want to present?\n",
    "# mean is the default function that comes!\n",
    "\n",
    "# In pivot method: the columns shold have most number of unique values.\n",
    "# condensing the dataframe by aligning the common values.\n",
    "\n"
   ]
  },
  {
   "cell_type": "code",
   "execution_count": null,
   "metadata": {},
   "outputs": [],
   "source": [
    "# Why pivot table?  Pivot table is used to summarize and aggregate data inside dataframe\n",
    "\n",
    "df =pd.read_excel('pitab.xlsx')\n",
    "df"
   ]
  },
  {
   "cell_type": "code",
   "execution_count": null,
   "metadata": {},
   "outputs": [],
   "source": [
    "# we have aggregated the input dataframe into meaningful output: we can use any number of functions\n",
    "df.pivot_table(index='city', columns = 'date', aggfunc='mean')\n",
    "\n",
    "# aggfunc can be anything like mean,sum, median etc"
   ]
  },
  {
   "cell_type": "code",
   "execution_count": null,
   "metadata": {},
   "outputs": [],
   "source": []
  },
  {
   "cell_type": "code",
   "execution_count": null,
   "metadata": {},
   "outputs": [],
   "source": [
    "# seing another example of using the pivot in Python.\n",
    "import seaborn as sns"
   ]
  },
  {
   "cell_type": "code",
   "execution_count": null,
   "metadata": {},
   "outputs": [],
   "source": [
    "# loading the dataset for the using purpose. This entire data is related to the TITANIC ship.\n",
    "titanic = sns.load_dataset('titanic')"
   ]
  },
  {
   "cell_type": "code",
   "execution_count": null,
   "metadata": {},
   "outputs": [],
   "source": [
    "# How many people survived the attack?\n",
    "titanic.pivot_table(values = 'survived', index='sex', columns='class', aggfunc = 'mean')"
   ]
  },
  {
   "cell_type": "code",
   "execution_count": null,
   "metadata": {},
   "outputs": [],
   "source": [
    "# MULTILEVEL PIVOT TABLES :  cut here means bining \n",
    "# binning :  Binning or discretization is the process of transforming numerical variables into categorical counterparts.\n",
    "# An example is to bin values for Age into categories such as 20-39, 40-59, and 60-79. Numerical variables are usually \n",
    "#discretized in the modeling methods \n",
    "age = pd.cut(titanic['age'], [0,18,80])\n",
    "titanic.pivot_table(values = 'survived', index =  ['sex', age], columns = ['class'])"
   ]
  },
  {
   "cell_type": "code",
   "execution_count": null,
   "metadata": {},
   "outputs": [],
   "source": []
  },
  {
   "cell_type": "markdown",
   "metadata": {},
   "source": [
    "###                                                      Exercise"
   ]
  },
  {
   "cell_type": "markdown",
   "metadata": {
    "collapsed": true
   },
   "source": [
    "##### Q1 Please rerun the cells and try to understand the logic."
   ]
  },
  {
   "cell_type": "code",
   "execution_count": null,
   "metadata": {},
   "outputs": [],
   "source": []
  },
  {
   "cell_type": "markdown",
   "metadata": {
    "collapsed": true
   },
   "source": [
    "##### Q2 Please tell the difference between pivot and the groupby. When which technique should be used?"
   ]
  },
  {
   "cell_type": "code",
   "execution_count": null,
   "metadata": {},
   "outputs": [],
   "source": []
  },
  {
   "cell_type": "markdown",
   "metadata": {
    "collapsed": true
   },
   "source": [
    "###### Q3 What is the default join of the concatenation?"
   ]
  },
  {
   "cell_type": "code",
   "execution_count": null,
   "metadata": {},
   "outputs": [],
   "source": []
  }
 ],
 "metadata": {
  "kernelspec": {
   "display_name": "Python 3",
   "language": "python",
   "name": "python3"
  },
  "language_info": {
   "codemirror_mode": {
    "name": "ipython",
    "version": 3
   },
   "file_extension": ".py",
   "mimetype": "text/x-python",
   "name": "python",
   "nbconvert_exporter": "python",
   "pygments_lexer": "ipython3",
   "version": "3.6.4"
  }
 },
 "nbformat": 4,
 "nbformat_minor": 2
}

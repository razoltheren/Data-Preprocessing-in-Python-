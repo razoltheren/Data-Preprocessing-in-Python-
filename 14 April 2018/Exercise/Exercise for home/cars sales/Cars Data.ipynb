{
 "cells": [
  {
   "cell_type": "markdown",
   "metadata": {},
   "source": [
    "<div class=\"alert alert-info\">\n",
    "*Please give the answers to the below three questions?*\n",
    "</div>\n",
    "\n",
    "* Q1 - What all makers of cars are present in the datasets?\n",
    "* Q2 - For Audi what body style is preferred by the buyers?\n",
    "* Q3 - What is the mean price for cars for which the number of doors is four?\n"
   ]
  },
  {
   "cell_type": "code",
   "execution_count": null,
   "metadata": {},
   "outputs": [],
   "source": []
  }
 ],
 "metadata": {
  "anaconda-cloud": {},
  "kernelspec": {
   "display_name": "Python 3",
   "language": "python",
   "name": "python3"
  },
  "language_info": {
   "codemirror_mode": {
    "name": "ipython",
    "version": 3
   },
   "file_extension": ".py",
   "mimetype": "text/x-python",
   "name": "python",
   "nbconvert_exporter": "python",
   "pygments_lexer": "ipython3",
   "version": "3.6.4"
  }
 },
 "nbformat": 4,
 "nbformat_minor": 2
}

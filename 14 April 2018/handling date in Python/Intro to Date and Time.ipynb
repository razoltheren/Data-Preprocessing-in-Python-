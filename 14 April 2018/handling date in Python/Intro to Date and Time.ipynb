{
 "cells": [
  {
   "cell_type": "markdown",
   "metadata": {},
   "source": [
    "<div class=\"alert alert-info\">\n",
    "*Objective of this sheet*\n",
    "</div>\n",
    "\n",
    "* What is datetime in Python\n",
    "* Introduction to  Timestamp\n",
    "* Difference between the datetime and Timestamp\n",
    "* Extracting date, day and month format in Timestamp"
   ]
  },
  {
   "cell_type": "code",
   "execution_count": 1,
   "metadata": {},
   "outputs": [],
   "source": [
    "import pandas as pd\n",
    "import datetime as dt      # datetime is not an exclusive library, it is module built into the Python language.\n",
    "# however not triggered by default. Reason is to preserve memory. Not every project will deal with dates and time\n",
    "# so there is no point utilizing the memory.\n"
   ]
  },
  {
   "cell_type": "code",
   "execution_count": 2,
   "metadata": {},
   "outputs": [],
   "source": [
    "# Some methods in the datetime.\n",
    "todays_date = dt.date(2018, 11, 17)   # we can see the default starts with the year, month and then the day."
   ]
  },
  {
   "cell_type": "code",
   "execution_count": 3,
   "metadata": {},
   "outputs": [
    {
     "name": "stdout",
     "output_type": "stream",
     "text": [
      "2018\n",
      "11\n",
      "17\n"
     ]
    }
   ],
   "source": [
    "# we can also take all these elements out from the existing one.\n",
    "print (todays_date.year)\n",
    "print(todays_date.month)\n",
    "print(todays_date.day)"
   ]
  },
  {
   "cell_type": "code",
   "execution_count": 4,
   "metadata": {},
   "outputs": [
    {
     "data": {
      "text/plain": [
       "datetime.datetime(2018, 11, 17, 11, 23, 44)"
      ]
     },
     "execution_count": 4,
     "metadata": {},
     "output_type": "execute_result"
    }
   ],
   "source": [
    "# In order to consider even the time into the equation we have to use the timestamp.\n",
    "dt.datetime(2018, 11, 17, 11, 23, 44)   # here 11 is the hour, 23 is the minute and 44 stands for the seconds"
   ]
  },
  {
   "cell_type": "code",
   "execution_count": null,
   "metadata": {},
   "outputs": [],
   "source": []
  },
  {
   "cell_type": "code",
   "execution_count": 5,
   "metadata": {},
   "outputs": [
    {
     "name": "stdout",
     "output_type": "stream",
     "text": [
      "2019-04-14 09:22:21.342379\n"
     ]
    }
   ],
   "source": [
    "# Use pythons datetime:\n",
    "from datetime import datetime\n",
    "now = datetime.now()                 # checking for the current datetime\n",
    "print(now)               "
   ]
  },
  {
   "cell_type": "code",
   "execution_count": 6,
   "metadata": {},
   "outputs": [
    {
     "name": "stdout",
     "output_type": "stream",
     "text": [
      "18000 days, 9:22:18.854381\n"
     ]
    }
   ],
   "source": [
    "# now I am trying to put my own datetime\n",
    "t1 = datetime.now()\n",
    "t2 = datetime(1970, 1, 1)      #a random date I am giving\n",
    "diff = t1 - t2\n",
    "print(diff)"
   ]
  },
  {
   "cell_type": "code",
   "execution_count": 7,
   "metadata": {},
   "outputs": [
    {
     "name": "stdout",
     "output_type": "stream",
     "text": [
      "<class 'datetime.timedelta'>\n"
     ]
    }
   ],
   "source": [
    "# okey now let us check for the above datatypes.\n",
    "print(type(diff))       # timedelta gives the difference between two time"
   ]
  },
  {
   "cell_type": "code",
   "execution_count": 8,
   "metadata": {},
   "outputs": [
    {
     "data": {
      "text/plain": [
       "Timestamp('2018-12-18 00:00:00')"
      ]
     },
     "execution_count": 8,
     "metadata": {},
     "output_type": "execute_result"
    }
   ],
   "source": [
    "## Pandas has got the timestamp Object.\n",
    "pd.Timestamp(\"2018-12-18\")   #just cuz we have not defined the time, it has defaulted to midnight."
   ]
  },
  {
   "cell_type": "code",
   "execution_count": 9,
   "metadata": {},
   "outputs": [
    {
     "data": {
      "text/plain": [
       "Timestamp('2018-12-18 00:00:00')"
      ]
     },
     "execution_count": 9,
     "metadata": {},
     "output_type": "execute_result"
    }
   ],
   "source": [
    "# Also we can just check alternative ways to deal with this.\n",
    "pd.Timestamp('18/12/2018')   #Python is able to read this, it know what to give as a string and what as an integer.\n"
   ]
  },
  {
   "cell_type": "code",
   "execution_count": 10,
   "metadata": {},
   "outputs": [
    {
     "data": {
      "text/plain": [
       "Timestamp('2019-01-02 08:45:22')"
      ]
     },
     "execution_count": 10,
     "metadata": {},
     "output_type": "execute_result"
    }
   ],
   "source": [
    "# Now let us add time as well.\n",
    "pd.Timestamp('2019-01-02 08:45:22')   "
   ]
  },
  {
   "cell_type": "code",
   "execution_count": 11,
   "metadata": {},
   "outputs": [
    {
     "data": {
      "text/plain": [
       "Timestamp('2018-11-17 00:00:00')"
      ]
     },
     "execution_count": 11,
     "metadata": {},
     "output_type": "execute_result"
    }
   ],
   "source": [
    "# Now let us try to transform the Datetime Object to timestamp.\n",
    "pd.Timestamp(dt.datetime(2018,11,17))"
   ]
  },
  {
   "cell_type": "markdown",
   "metadata": {},
   "source": [
    "#### Question - In the above example please add the time component as well"
   ]
  },
  {
   "cell_type": "markdown",
   "metadata": {},
   "source": [
    "##  Now come the main question, if datetime is there, then why do we need Timestamp?\n",
    "The answer is similar to the inbuilt lists and the pandas Series, Timestamp has got:\n",
    "* more flexibility\n",
    "* more functionality\n",
    "* Ultimately Timestamp provides us more things that we can do with it"
   ]
  },
  {
   "cell_type": "code",
   "execution_count": null,
   "metadata": {},
   "outputs": [],
   "source": []
  },
  {
   "cell_type": "code",
   "execution_count": null,
   "metadata": {},
   "outputs": [],
   "source": [
    "# The pandas DatetimeIndex object\n",
    "dates = ['2018-12-10', '2018-12-11', '2018-12-17']\n",
    "pd.DatetimeIndex(dates)\n",
    "\n",
    "# as DatetimeIndex serves all the three elements as one."
   ]
  },
  {
   "cell_type": "code",
   "execution_count": null,
   "metadata": {},
   "outputs": [],
   "source": [
    "# Now let us put it as an index for a Series.\n",
    "check_date = pd.DatetimeIndex(dates)\n",
    "lists = [123,4432,8865]\n",
    "pd.Series(lists, index = check_date )"
   ]
  },
  {
   "cell_type": "code",
   "execution_count": null,
   "metadata": {},
   "outputs": [],
   "source": []
  },
  {
   "cell_type": "code",
   "execution_count": null,
   "metadata": {},
   "outputs": [],
   "source": [
    "# Flexibility of Pandas datetime module.\n",
    "## pd.to_datetime() method:\n",
    "\n",
    "pd.to_datetime('2018-12-04')"
   ]
  },
  {
   "cell_type": "code",
   "execution_count": null,
   "metadata": {},
   "outputs": [],
   "source": [
    "pd.to_datetime(dt.date(2018, 12, 6))"
   ]
  },
  {
   "cell_type": "code",
   "execution_count": null,
   "metadata": {},
   "outputs": [],
   "source": [
    "# lets see the level of flexibility that exists:\n",
    "pd.to_datetime(['2017-01-03', '2018/02/09', '2019', 'July 4th, 1996'])\n",
    "\n",
    "# just observe the 4 elements defined in the above list.\n",
    "# 4rd element just has 2019 in it, still it takes the first day as default.\n",
    "# and "
   ]
  },
  {
   "cell_type": "code",
   "execution_count": null,
   "metadata": {},
   "outputs": [],
   "source": [
    "# So just look at the behavior in the one dimensional case.\n",
    "times = pd.Series(['2017-01-03', '2018/02/09', '2019', 'July 4th, 1996'])\n",
    "times\n",
    "# originally this is how it looks!"
   ]
  },
  {
   "cell_type": "code",
   "execution_count": null,
   "metadata": {},
   "outputs": [],
   "source": [
    "# Now let us change it in the datetime format.\n",
    "pd.to_datetime(times)\n",
    "\n",
    "# Points to observe over here:\n",
    "# In order to maintain the consistency it has opted foe the same format."
   ]
  },
  {
   "cell_type": "code",
   "execution_count": null,
   "metadata": {},
   "outputs": [],
   "source": [
    "# If the data is messy the normal error that we frequently get is:\n",
    "dates = pd.Series(['2018-10-28', '2018-10-09', 'first_Session', '2018-2-31'])\n",
    "dates    #this is a Series, comprised of all the string values"
   ]
  },
  {
   "cell_type": "code",
   "execution_count": null,
   "metadata": {},
   "outputs": [],
   "source": [
    "# So to overcome this shortcoming, what we can do is:\n",
    "pd.to_datetime(dates, errors = 'coerce')\n",
    "\n",
    "# by writing coerce we are asking the program to ignore the errors that we are finding on the way."
   ]
  },
  {
   "cell_type": "code",
   "execution_count": null,
   "metadata": {},
   "outputs": [],
   "source": []
  },
  {
   "cell_type": "code",
   "execution_count": null,
   "metadata": {},
   "outputs": [],
   "source": [
    "# Create range of dates with the pd.date_range() method.\n",
    "pd.date_range(start = '2018-11-28', end = '2018-12-18', freq = 'D' )\n",
    "\n",
    "# In the above case it has proceeded with the frequrncy of one day. So the increment is of one day.\n",
    "\n"
   ]
  },
  {
   "cell_type": "code",
   "execution_count": null,
   "metadata": {},
   "outputs": [],
   "source": [
    "# The above object that we have created is the timestamp. \n",
    "times = pd.date_range(start = '2018-11-28', end = '2018-12-18', freq = 'D' )\n",
    "\n",
    "# we can confirm it by writing the type\n",
    "type(times)"
   ]
  },
  {
   "cell_type": "code",
   "execution_count": null,
   "metadata": {},
   "outputs": [],
   "source": [
    "# Now if we want to increase the increment of days in the above exampl.\n",
    "pd.date_range(start = '2018-11-28', end = '2018-12-18', freq = 'MS' )\n",
    "\n",
    "# we need to fidle just with the 'freq'. Likewise we can play with the freq parameter.\n",
    "# Plese try - 'A','H', '3H', 'M', 'MS', 'B'"
   ]
  },
  {
   "cell_type": "code",
   "execution_count": null,
   "metadata": {},
   "outputs": [],
   "source": [
    "# Another important parameter is the 'periods'.\n",
    "pd.date_range(start = '2012-09-09', periods = 10, freq = 'D')\n",
    "\n",
    "# if we are using the periods, then there is no need to define the 'end' parameter, it will take that value through\n",
    "# periods parameters\n",
    "\n",
    "# likewise we ca also leave the start parameter and just define the 'end' and post that look at the data.\n",
    "# Please perform that action."
   ]
  },
  {
   "cell_type": "code",
   "execution_count": null,
   "metadata": {},
   "outputs": [],
   "source": []
  },
  {
   "cell_type": "code",
   "execution_count": null,
   "metadata": {},
   "outputs": [],
   "source": [
    "## The power of the .dt accesor!(to access the special cases.)\n",
    "some_dates = pd.date_range(start = '2018-10-28', end = '2018-12-25', freq = '5D')"
   ]
  },
  {
   "cell_type": "code",
   "execution_count": null,
   "metadata": {},
   "outputs": [],
   "source": [
    "s = pd.Series(some_dates)\n",
    "s.head()"
   ]
  },
  {
   "cell_type": "code",
   "execution_count": null,
   "metadata": {},
   "outputs": [],
   "source": [
    "s.dt.date   # we want the date"
   ]
  },
  {
   "cell_type": "code",
   "execution_count": null,
   "metadata": {},
   "outputs": [],
   "source": [
    "s.dt.day_name()    #find the day of particular date"
   ]
  },
  {
   "cell_type": "code",
   "execution_count": null,
   "metadata": {},
   "outputs": [],
   "source": [
    "s.dt.month    # will give the month of a particular date"
   ]
  },
  {
   "cell_type": "code",
   "execution_count": null,
   "metadata": {},
   "outputs": [],
   "source": []
  }
 ],
 "metadata": {
  "kernelspec": {
   "display_name": "Python 3",
   "language": "python",
   "name": "python3"
  },
  "language_info": {
   "codemirror_mode": {
    "name": "ipython",
    "version": 3
   },
   "file_extension": ".py",
   "mimetype": "text/x-python",
   "name": "python",
   "nbconvert_exporter": "python",
   "pygments_lexer": "ipython3",
   "version": "3.6.4"
  }
 },
 "nbformat": 4,
 "nbformat_minor": 2
}

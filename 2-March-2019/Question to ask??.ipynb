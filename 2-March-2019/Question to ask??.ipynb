{
 "cells": [
  {
   "cell_type": "markdown",
   "metadata": {},
   "source": [
    "# Important things to understand??  \n",
    "* Why are we here? \n",
    "* Qualities of a data scientist?\n",
    "* What are the things we have learnt in R. Have we fallen in love with 'R'. Why or Why Not?\n",
    "* Post R why Python?? - (Most Important Question.)"
   ]
  },
  {
   "cell_type": "code",
   "execution_count": null,
   "metadata": {},
   "outputs": [],
   "source": []
  },
  {
   "cell_type": "markdown",
   "metadata": {},
   "source": [
    "“Data science is the future, and it is better to be on the cutting-edge than left behind.”  - Arnaud Perigord\n",
    "\n",
    "“Being able to obtain, process, and build models out of data, which will ultimately be used for their predictive capabilities [...]  is incredibly exciting in my view”  - Lise Vaudor\n",
    "\n",
    "“One of the things that makes data science so interesting is how fast it’s evolving”  - Lon Riesberg"
   ]
  },
  {
   "cell_type": "code",
   "execution_count": null,
   "metadata": {},
   "outputs": [],
   "source": []
  },
  {
   "cell_type": "markdown",
   "metadata": {},
   "source": [
    "# Qualities of a data scientist?\n",
    "\n",
    "<- Great data scientist is obsessed with solving problems, not new tools.\n",
    "\n",
    "<- Great data scientist wants to find the solution and knows it’s not perfect.\n",
    "\n",
    "<- Great data scientist is the ultimate communicator.\n",
    "\n",
    "\n",
    "[Please click link to read the full aticle](https://www.kdnuggets.com/2017/03/what-makes-great-data-scientist.html)"
   ]
  },
  {
   "cell_type": "code",
   "execution_count": null,
   "metadata": {},
   "outputs": [],
   "source": []
  },
  {
   "cell_type": "markdown",
   "metadata": {},
   "source": [
    "Out of the above three points, which one will we be focusing on the most in this course and why??\n",
    "\n",
    "- Please discuss and answer the given question "
   ]
  },
  {
   "cell_type": "code",
   "execution_count": null,
   "metadata": {},
   "outputs": [],
   "source": []
  }
 ],
 "metadata": {
  "kernelspec": {
   "display_name": "Python 3",
   "language": "python",
   "name": "python3"
  },
  "language_info": {
   "codemirror_mode": {
    "name": "ipython",
    "version": 3
   },
   "file_extension": ".py",
   "mimetype": "text/x-python",
   "name": "python",
   "nbconvert_exporter": "python",
   "pygments_lexer": "ipython3",
   "version": "3.6.4"
  }
 },
 "nbformat": 4,
 "nbformat_minor": 2
}

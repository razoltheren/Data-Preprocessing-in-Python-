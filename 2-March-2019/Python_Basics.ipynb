{
 "cells": [
  {
   "cell_type": "markdown",
   "metadata": {
    "collapsed": true
   },
   "source": [
    "#                                           Here we go!\n",
    " \n",
    "* What are the data types in Python?  \n",
    "* What is a variable and rules to keep in mind while defining a variable?\n",
    "* Type of errors in Python?\n",
    "* Booleans and Logical Operators\n",
    "* Conditional statement in form of if elif and else In python?"
   ]
  },
  {
   "cell_type": "markdown",
   "metadata": {},
   "source": [
    "Building blocks of programs:\n",
    "input\n",
    "output\n",
    "sequential execurtion\n",
    "conditional execution\n",
    "repeated execution\n",
    "reuse"
   ]
  },
  {
   "cell_type": "code",
   "execution_count": null,
   "metadata": {},
   "outputs": [],
   "source": [
    "#1. A                                     Data Types\n",
    "String\n",
    "Integers\n",
    "Float"
   ]
  },
  {
   "cell_type": "code",
   "execution_count": null,
   "metadata": {},
   "outputs": [],
   "source": [
    "#Strings : Immutable objects,  \n",
    "best_cricketer = 'Virat Kholi'\n",
    "type(best_cricketer)"
   ]
  },
  {
   "cell_type": "code",
   "execution_count": null,
   "metadata": {},
   "outputs": [],
   "source": [
    "devine_number = '9'\n",
    "type(devine_number)"
   ]
  },
  {
   "cell_type": "code",
   "execution_count": null,
   "metadata": {},
   "outputs": [],
   "source": [
    "#1. B Floats: integers consisting decimal points - mathematical computation are handled\n",
    "going_great = 90.56\n",
    "type(going_great)"
   ]
  },
  {
   "cell_type": "code",
   "execution_count": null,
   "metadata": {},
   "outputs": [],
   "source": [
    "#1. C Integers: are the whole numbers - mathematical computation is handled here as well\n",
    "integers = 55\n",
    "type(integers)"
   ]
  },
  {
   "cell_type": "code",
   "execution_count": null,
   "metadata": {},
   "outputs": [],
   "source": []
  },
  {
   "cell_type": "code",
   "execution_count": null,
   "metadata": {},
   "outputs": [],
   "source": [
    "# 2 - What is a variable and rules to keep in mind while defining a variable?  "
   ]
  },
  {
   "cell_type": "code",
   "execution_count": null,
   "metadata": {},
   "outputs": [],
   "source": [
    "# should not start with number\n",
    "saiioo = 'SENAP'"
   ]
  },
  {
   "cell_type": "code",
   "execution_count": null,
   "metadata": {},
   "outputs": [],
   "source": [
    "sai = 8\n",
    "SAI = 8"
   ]
  },
  {
   "cell_type": "code",
   "execution_count": null,
   "metadata": {},
   "outputs": [],
   "source": [
    "SAI = 65"
   ]
  },
  {
   "cell_type": "code",
   "execution_count": null,
   "metadata": {},
   "outputs": [],
   "source": [
    "# should not have an illegal character_\n",
    "_country_nameeeeee_ejtidjk = 'Australia'"
   ]
  },
  {
   "cell_type": "code",
   "execution_count": null,
   "metadata": {},
   "outputs": [],
   "source": [
    "# should not be python keyword\n",
    "del = 45.98"
   ]
  },
  {
   "cell_type": "code",
   "execution_count": null,
   "metadata": {},
   "outputs": [],
   "source": [
    "# djsk\n",
    "'''ksldjfjdl\n",
    "fjdlfmdmfld\n",
    "fjdfdk'''"
   ]
  },
  {
   "cell_type": "markdown",
   "metadata": {},
   "source": [
    "Operators         (+,-,/,*,and **)            PEMDAS"
   ]
  },
  {
   "cell_type": "markdown",
   "metadata": {},
   "source": [
    "var = 18 / 6 \n",
    "print(type(var))"
   ]
  },
  {
   "cell_type": "code",
   "execution_count": null,
   "metadata": {},
   "outputs": [],
   "source": [
    "#   commenting \n",
    "var = 18 // 6\n",
    "print(type(var))"
   ]
  },
  {
   "cell_type": "code",
   "execution_count": null,
   "metadata": {},
   "outputs": [],
   "source": [
    "# code block commenting\n",
    "# in line commenting"
   ]
  },
  {
   "cell_type": "code",
   "execution_count": null,
   "metadata": {},
   "outputs": [],
   "source": [
    "#   commenting -"
   ]
  },
  {
   "cell_type": "code",
   "execution_count": null,
   "metadata": {},
   "outputs": [],
   "source": []
  },
  {
   "cell_type": "code",
   "execution_count": null,
   "metadata": {},
   "outputs": [],
   "source": [
    "#3            Types of errors in Python?\n",
    "a - Compilation errors\n",
    " 1 - Syntax error\n",
    " 2 - Name error \n",
    " 3 - Value error\n",
    "b - Runtime errors\n",
    " 4 - zero division error\n",
    "# runtime errors are more dangerous as we have to look into our data for figuring out the mistake."
   ]
  },
  {
   "cell_type": "code",
   "execution_count": null,
   "metadata": {},
   "outputs": [],
   "source": [
    "#3.1 Syntax error - Code that does not work with the current programing language\n",
    "ankush ==1 1"
   ]
  },
  {
   "cell_type": "code",
   "execution_count": null,
   "metadata": {},
   "outputs": [],
   "source": [
    "#3.2 Name error - Code that tries to use something that does not exist.\n",
    "dele(1)"
   ]
  },
  {
   "cell_type": "code",
   "execution_count": null,
   "metadata": {},
   "outputs": [],
   "source": [
    "#3.3 Value error - There's something wrong with the way your formula is typed\n",
    "purchase_price = int(input())"
   ]
  },
  {
   "cell_type": "code",
   "execution_count": null,
   "metadata": {},
   "outputs": [],
   "source": [
    "# 3.4 Zero division Error.\n",
    "times_pro = 4 / 0"
   ]
  },
  {
   "cell_type": "code",
   "execution_count": null,
   "metadata": {},
   "outputs": [],
   "source": [
    "# "
   ]
  },
  {
   "cell_type": "code",
   "execution_count": null,
   "metadata": {},
   "outputs": [],
   "source": []
  },
  {
   "cell_type": "code",
   "execution_count": null,
   "metadata": {},
   "outputs": [],
   "source": [
    "#4                           Booleans and Logical Operators\n",
    "# Boolean operators check for the combination of multiple relational operators.\n",
    "cat=4\n",
    "dog=2\n",
    "mamals=(cat==dog) #False because x and y are not the same\n",
    "mamals=(cat==cat) #True because x and y are the same"
   ]
  },
  {
   "cell_type": "code",
   "execution_count": null,
   "metadata": {},
   "outputs": [],
   "source": [
    "#Comparison is by value\n",
    "hi = 123456789\n",
    "HI = 123456789\n",
    "print(id(HI),id(hi)) #Different strings, as the space occupied by both of them is dirrenent.\n",
    "# id - is the function that returns the location of a value in memory"
   ]
  },
  {
   "cell_type": "code",
   "execution_count": null,
   "metadata": {},
   "outputs": [],
   "source": [
    "print(HI == hi) \n",
    "#As both of them are having the same value, hence the result is coming as true"
   ]
  },
  {
   "cell_type": "code",
   "execution_count": null,
   "metadata": {},
   "outputs": [],
   "source": [
    "# Logical Operators -> Checks if things are true\n",
    "cow_has_how_many_legs=4\n",
    "Numers_of_wings_birds_have=2\n",
    "print(cow_has_how_many_legs>1 and Numers_of_wings_birds_have>1) \n",
    "#True because both are greater than 1"
   ]
  },
  {
   "cell_type": "code",
   "execution_count": null,
   "metadata": {},
   "outputs": [],
   "source": [
    "cow_has_how_many_legs=4\n",
    "Numers_of_wings_birds_have=2\n",
    "print(cow_has_how_many_legs<-60 and Numers_of_wings_birds_have<-35)\n",
    "#False because both are False"
   ]
  },
  {
   "cell_type": "code",
   "execution_count": null,
   "metadata": {},
   "outputs": [],
   "source": []
  },
  {
   "cell_type": "code",
   "execution_count": null,
   "metadata": {},
   "outputs": [],
   "source": [
    "#5.           if elif and else In python?\n",
    "bahubali = float(input(\"No. of actors in the movie: \"))\n",
    "if bahubali > 15:\n",
    "    print('Ohh, is it!')\n",
    "elif bahubali < 15:\n",
    "    print ('I do not think so')\n",
    "else: \n",
    "    print ('bingoo!!!')"
   ]
  },
  {
   "cell_type": "code",
   "execution_count": null,
   "metadata": {},
   "outputs": [],
   "source": [
    "# if statement: A conditinoal control structure that runs a block of code only if a certain condition is true.\n",
    "#Elif statement: is like if statement that are always followd by a condition.\n",
    "# Else: A conditional control structure that runs a block of code if all preceding if and elif statements \n",
    "# have been false.    "
   ]
  }
 ],
 "metadata": {
  "kernelspec": {
   "display_name": "Python 3",
   "language": "python",
   "name": "python3"
  },
  "language_info": {
   "codemirror_mode": {
    "name": "ipython",
    "version": 3
   },
   "file_extension": ".py",
   "mimetype": "text/x-python",
   "name": "python",
   "nbconvert_exporter": "python",
   "pygments_lexer": "ipython3",
   "version": "3.6.4"
  }
 },
 "nbformat": 4,
 "nbformat_minor": 1
}

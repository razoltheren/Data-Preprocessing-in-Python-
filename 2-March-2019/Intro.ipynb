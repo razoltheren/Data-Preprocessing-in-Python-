{
 "cells": [
  {
   "cell_type": "markdown",
   "metadata": {},
   "source": [
    " #                                         *Topics to be covered*\n",
    "- What makes Python special?  \n",
    "- In the arena of data science why 'Python'?\n",
    "- What is ANACONDA?"
   ]
  },
  {
   "cell_type": "markdown",
   "metadata": {
    "collapsed": true
   },
   "source": [
    "<div class=\"alert alert-danger\">\n",
    "</div>"
   ]
  },
  {
   "cell_type": "markdown",
   "metadata": {},
   "source": [
    "# 1.  A very short introduction:  Why Python???\n",
    "- Python is a high level language\n",
    " * Easy to understand, as it is like reading english.\n",
    " * It is far from machine code(0 and 1). Infact many layers ahead.It needs to be run by another program called interpreter for\n",
    "     compilation.\n",
    " * Debugging is also easier.  \n",
    "- Python is a interpreter language\n",
    "   * Interpreter language: SOURCE CODE  -> INTERPRETER -> OUTPUT \n",
    "   * Compiler language:    SOURCE CODE -> COMPILER -> OBJECT CODE -> EXECUTOR -> OUTPUT  "
   ]
  },
  {
   "cell_type": "markdown",
   "metadata": {
    "collapsed": true
   },
   "source": [
    "<div class=\"alert alert-danger\">\n",
    "</div>"
   ]
  },
  {
   "cell_type": "markdown",
   "metadata": {},
   "source": [
    "# 2. Why Python for Data Science\n",
    "- Easy to Learn : For non computer science backround easy to move through.\n",
    "- Scalability : In comparison to other statisitcal languages, it is faster.\n",
    "- Support of great datascience libraries : Numpy, StatsModels, Pandas and Scikit-Learn.\n",
    "- Phenomenal community rise "
   ]
  },
  {
   "cell_type": "markdown",
   "metadata": {
    "collapsed": true
   },
   "source": [
    "<div class=\"alert alert-danger\">     </div>"
   ]
  },
  {
   "cell_type": "markdown",
   "metadata": {},
   "source": [
    "# 3. ANACONDA\n",
    "* In 2012 it came into existance.\n",
    "* Is free and open source distribution of the Python programing language.\n",
    "* It aims at simplifyiing package management and deployement.\n"
   ]
  },
  {
   "cell_type": "markdown",
   "metadata": {},
   "source": [
    "<div class=\"alert alert-info\">\n",
    "*Questions and Answers.*\n",
    "</div>"
   ]
  },
  {
   "cell_type": "markdown",
   "metadata": {},
   "source": [
    "- Q1 - Please specify three points supporting why should we learn Python?"
   ]
  },
  {
   "cell_type": "markdown",
   "metadata": {},
   "source": [
    "- Q2 - Where is Python having upper hand in comparison to other data science languages or Projects? "
   ]
  },
  {
   "cell_type": "markdown",
   "metadata": {},
   "source": [
    "- Q3 - Please specify the role of Anaconda for Python?"
   ]
  }
 ],
 "metadata": {
  "kernelspec": {
   "display_name": "Python 3",
   "language": "python",
   "name": "python3"
  },
  "language_info": {
   "codemirror_mode": {
    "name": "ipython",
    "version": 3
   },
   "file_extension": ".py",
   "mimetype": "text/x-python",
   "name": "python",
   "nbconvert_exporter": "python",
   "pygments_lexer": "ipython3",
   "version": "3.6.4"
  }
 },
 "nbformat": 4,
 "nbformat_minor": 2
}

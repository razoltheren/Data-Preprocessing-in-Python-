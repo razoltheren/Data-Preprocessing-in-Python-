{
 "cells": [
  {
   "cell_type": "markdown",
   "metadata": {},
   "source": [
    "# Dictionaries\n",
    "                                              Python Dictionaries\n",
    "Each key is separated from its value by a colon (:), the items are separated by commas, and the whole thing is enclosed \n",
    "in curly braces.An empty dictionary without any items is written with just two curly braces, like this: {}.\n",
    "    \n",
    "<div class=\"alert alert-danger\">\n",
    "\n",
    "Features of Dictionary</div>\n",
    "- Dictionaries keys are unique.\n",
    "- Values may or may not be unique, it does not matter.Also the values can be immutable.\n",
    "- Key of the dictionary has to be immutable. "
   ]
  },
  {
   "cell_type": "code",
   "execution_count": null,
   "metadata": {},
   "outputs": [],
   "source": [
    "dict = {(1,23,45):[2,34,56],'919860':['age','place'],'Profession':''}\n",
    "dict\n",
    "#Dictionaries does not support the sequence operation of the sequence data types like strings, tuples and lists."
   ]
  },
  {
   "cell_type": "code",
   "execution_count": null,
   "metadata": {},
   "outputs": [],
   "source": [
    "  ## Can build up a dict by starting with the the empty dict {}\n",
    "  ## and storing key/value pairs into the dict like this:\n",
    "  ## dict[key] = value-for-that-key\n",
    "  dict = {}\n",
    "  dict['a'] = ['alpha','ankush','shimla','hp']\n",
    "  dict['g'] = 'gamma'\n",
    "  dict['o'] = 'omega'\n",
    "\n",
    "  print (dict)  ## {'a': 'alpha', 'o': 'omega', 'g': 'gamma'}\n",
    "\n"
   ]
  },
  {
   "cell_type": "code",
   "execution_count": null,
   "metadata": {},
   "outputs": [],
   "source": [
    "print (dict.values())"
   ]
  },
  {
   "cell_type": "code",
   "execution_count": null,
   "metadata": {},
   "outputs": [],
   "source": [
    "# Accessing Values in Dictionary:\n",
    "dict = {'Name':'John Farnham','Age':70,'Profession':'Singer'}\n",
    "print (dict['Name'])\n",
    "print (dict['Profession'])"
   ]
  },
  {
   "cell_type": "code",
   "execution_count": null,
   "metadata": {},
   "outputs": [],
   "source": [
    "# Updating dictionary by addition of new key values\n",
    "dict = {'Name':'John Farnham','Age':70,'Profession':'Singer'}\n",
    "\n",
    "dict['Age'] = 68\n",
    "dict['career spanning'] = '50 years'\n",
    "\n",
    "print (\"new value of age is: \", dict['Age'])\n",
    "print (\"new value of newly added key is: \", dict['career spanning'])"
   ]
  },
  {
   "cell_type": "code",
   "execution_count": null,
   "metadata": {},
   "outputs": [],
   "source": [
    "dict"
   ]
  },
  {
   "cell_type": "code",
   "execution_count": null,
   "metadata": {},
   "outputs": [],
   "source": [
    "# Delete Dictionary Elements\n",
    "dict = {'Name':'John Farnham','Age':70,'Profession':'Singer'}\n",
    " \n",
    "#del dict['Name']; # remove entry with key 'Name'\n",
    "#dict.clear();     # remove all entries in dict\n",
    "#del dict ;        # delete entire dictionary"
   ]
  },
  {
   "cell_type": "code",
   "execution_count": null,
   "metadata": {},
   "outputs": [],
   "source": [
    "dict = {'Name':'John Farnham','Age':70,'Profession':'Singer'}\n",
    "del dict['Name']; # remove entry with key 'Name'\n",
    "dict"
   ]
  },
  {
   "cell_type": "code",
   "execution_count": null,
   "metadata": {},
   "outputs": [],
   "source": [
    "dict = {'Name':'John Farnham','Age':70,'Profession':'Singer'}\n",
    "dict.clear();     # remove all entries in dict\n",
    "dict"
   ]
  },
  {
   "cell_type": "code",
   "execution_count": null,
   "metadata": {},
   "outputs": [],
   "source": [
    "dict = {'Name':'John Farnham','Age':70,'Profession':'Singer'}\n",
    "del dict ; # delete entire dictionary\n",
    "dict"
   ]
  },
  {
   "cell_type": "code",
   "execution_count": null,
   "metadata": {},
   "outputs": [],
   "source": [
    "# Update: Merging two Dictionaries\n",
    "dict = {'Name':'Jorden','Age':60,'Profession':'player'}   #initial dictionary\n",
    "dict1 = {'name':'sanath','age':48,'Prof':'cricketer'}     \n",
    "dict.update(dict1)                                          \n",
    "dict                               "
   ]
  },
  {
   "cell_type": "code",
   "execution_count": null,
   "metadata": {},
   "outputs": [],
   "source": []
  },
  {
   "cell_type": "markdown",
   "metadata": {},
   "source": [
    "<div class=\"alert alert-info\">\n",
    "*Questions and Answers.*\n",
    "</div>\n",
    "* Q1 - Please search what is OrderedDict?"
   ]
  },
  {
   "cell_type": "code",
   "execution_count": null,
   "metadata": {},
   "outputs": [],
   "source": []
  },
  {
   "cell_type": "markdown",
   "metadata": {},
   "source": [
    "* Q2 -  How is Dictionary different from lists and Tuples?"
   ]
  },
  {
   "cell_type": "code",
   "execution_count": null,
   "metadata": {},
   "outputs": [],
   "source": []
  },
  {
   "cell_type": "markdown",
   "metadata": {},
   "source": [
    "* Q3 - Please search atleast three use cases of the Dictionary in the data science?"
   ]
  },
  {
   "cell_type": "code",
   "execution_count": null,
   "metadata": {},
   "outputs": [],
   "source": []
  },
  {
   "cell_type": "markdown",
   "metadata": {},
   "source": [
    "* Q4 - How to create lists from a dictionary? (Please check out for items and then proceed)"
   ]
  },
  {
   "cell_type": "code",
   "execution_count": null,
   "metadata": {},
   "outputs": [],
   "source": []
  }
 ],
 "metadata": {
  "kernelspec": {
   "display_name": "Python 3",
   "language": "python",
   "name": "python3"
  },
  "language_info": {
   "codemirror_mode": {
    "name": "ipython",
    "version": 3
   },
   "file_extension": ".py",
   "mimetype": "text/x-python",
   "name": "python",
   "nbconvert_exporter": "python",
   "pygments_lexer": "ipython3",
   "version": "3.6.4"
  }
 },
 "nbformat": 4,
 "nbformat_minor": 2
}

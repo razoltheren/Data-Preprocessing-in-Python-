{
 "cells": [
  {
   "cell_type": "markdown",
   "metadata": {},
   "source": [
    "# Defining the python data structures\n",
    "- Lists\n",
    "- Tuples "
   ]
  },
  {
   "cell_type": "markdown",
   "metadata": {},
   "source": [
    "<div class=\"alert alert-danger\">\n",
    "\n",
    "Why one dimension data Structure?\n",
    "</div>"
   ]
  },
  {
   "cell_type": "code",
   "execution_count": null,
   "metadata": {},
   "outputs": [],
   "source": [
    "# Lists:\n",
    "-> Lists are collections where we have more than one value.\n",
    "-> List - Python has a great built-in list type named \"list\". List literals are written within square brackets [ ].\n",
    "-> To access the data the first element is placed at 0.(Python is a zero index language)"
   ]
  },
  {
   "cell_type": "code",
   "execution_count": null,
   "metadata": {},
   "outputs": [],
   "source": [
    "# Below we are defining a list.\n",
    "again_colors = ['red', 'blue', 'green',2,'fet']"
   ]
  },
  {
   "cell_type": "code",
   "execution_count": null,
   "metadata": {},
   "outputs": [],
   "source": [
    "# if we will look at the type, it will come up as lists\n",
    "type(again_colors)"
   ]
  },
  {
   "cell_type": "markdown",
   "metadata": {},
   "source": [
    " \n",
    " <div class=\"alert alert-danger\">\n",
    " Features of Lists:</div>\n",
    "- List constants are surrounded by square brackets and the elements are seperated by the commas.\n",
    "- A list element can be any python object(even another list).\n",
    "- A list can be empty\n",
    "- Lists are mutable(we can change the elements of a list)."
   ]
  },
  {
   "cell_type": "markdown",
   "metadata": {},
   "source": [
    "# Exploring the slicing part \n",
    "* Python is a zero index language\n",
    "* With this logic of zero index, let us explore more of lists as well, by extracting those few values from the lists which we want to."
   ]
  },
  {
   "cell_type": "markdown",
   "metadata": {},
   "source": [
    "# Features of slicing:\n",
    "- slicing creates a new list. \n",
    "- Slicing : Slicing uses the symbol : to access a part of a list \n",
    "- list[first index: last index: step] list[:]"
   ]
  },
  {
   "cell_type": "code",
   "execution_count": null,
   "metadata": {},
   "outputs": [],
   "source": [
    "colors = ['red', 'blue', 'green',2,'fet']\n",
    "# slicing is used to get the elements out of the lists"
   ]
  },
  {
   "cell_type": "code",
   "execution_count": null,
   "metadata": {},
   "outputs": [],
   "source": [
    "# indexing in lists\n",
    "print (colors[0])"
   ]
  },
  {
   "cell_type": "code",
   "execution_count": null,
   "metadata": {},
   "outputs": [],
   "source": [
    "a = [20, 341, 5672, 343, 5674, 85]"
   ]
  },
  {
   "cell_type": "code",
   "execution_count": null,
   "metadata": {},
   "outputs": [],
   "source": [
    "a[2:4]"
   ]
  },
  {
   "cell_type": "code",
   "execution_count": null,
   "metadata": {},
   "outputs": [],
   "source": [
    "a[:-1]"
   ]
  },
  {
   "cell_type": "code",
   "execution_count": null,
   "metadata": {},
   "outputs": [],
   "source": [
    "a[:]"
   ]
  },
  {
   "cell_type": "code",
   "execution_count": null,
   "metadata": {},
   "outputs": [],
   "source": [
    "a[2:]"
   ]
  },
  {
   "cell_type": "code",
   "execution_count": null,
   "metadata": {},
   "outputs": [],
   "source": [
    "a[2:-1]"
   ]
  },
  {
   "cell_type": "code",
   "execution_count": null,
   "metadata": {},
   "outputs": [],
   "source": []
  },
  {
   "cell_type": "markdown",
   "metadata": {},
   "source": [
    "<div class=\"alert alert-info\">\n",
    "*Questions and Answers.*\n",
    "</div>\n",
    "\n",
    "- Q1 - Please define your own list with 10 elements"
   ]
  },
  {
   "cell_type": "code",
   "execution_count": null,
   "metadata": {},
   "outputs": [],
   "source": []
  },
  {
   "cell_type": "markdown",
   "metadata": {},
   "source": [
    "- Q2 - Please select elements between 4 to 8"
   ]
  },
  {
   "cell_type": "code",
   "execution_count": null,
   "metadata": {},
   "outputs": [],
   "source": []
  },
  {
   "cell_type": "markdown",
   "metadata": {},
   "source": [
    "- Q3 - Is Python zero indexing language? What exactly does that mean?"
   ]
  },
  {
   "cell_type": "code",
   "execution_count": null,
   "metadata": {},
   "outputs": [],
   "source": []
  },
  {
   "cell_type": "markdown",
   "metadata": {},
   "source": [
    "# useful methods in Lists\n",
    "some of the useful methods we have in the lists are append,extend,index,in,insert,remove,sort."
   ]
  },
  {
   "cell_type": "code",
   "execution_count": null,
   "metadata": {},
   "outputs": [],
   "source": [
    "# append:\n",
    "alphabet = []   # it is a null list"
   ]
  },
  {
   "cell_type": "code",
   "execution_count": null,
   "metadata": {},
   "outputs": [],
   "source": [
    "alphabet.append('a')\n",
    "alphabet.append(99)\n",
    "alphabet.append(567)\n",
    "alphabet\n",
    "#The List stays in order and the new elements are added at the end of the list  "
   ]
  },
  {
   "cell_type": "code",
   "execution_count": null,
   "metadata": {},
   "outputs": [],
   "source": [
    "# extend:\n",
    "#if we want to append several elements then using extend is a better option\n",
    "alphabet = ['a','b']             #this is orignal list\n",
    "alphabet.extend(['c','d','e'])            # extending the list by adding c,d,e to a,b\n",
    "alphabet"
   ]
  },
  {
   "cell_type": "code",
   "execution_count": null,
   "metadata": {},
   "outputs": [],
   "source": [
    "my_list = ['a','b','c','b', 'a']\n",
    "my_list.index('b', 2)"
   ]
  },
  {
   "cell_type": "code",
   "execution_count": null,
   "metadata": {},
   "outputs": [],
   "source": [
    "# to find if something is in the list - two operaters are used to check if some item is in list or not\n",
    "some = [1,9,22,10,16]"
   ]
  },
  {
   "cell_type": "code",
   "execution_count": null,
   "metadata": {},
   "outputs": [],
   "source": [
    "# does some variable have 9\n",
    "9 in some"
   ]
  },
  {
   "cell_type": "code",
   "execution_count": null,
   "metadata": {},
   "outputs": [],
   "source": [
    "# Insert: To insert an element where we want it to be in a list\n",
    "\n",
    "my_list = ['a','b','c','b', 'a']\n",
    "my_list.insert(2, 'a')\n",
    "my_list"
   ]
  },
  {
   "cell_type": "code",
   "execution_count": null,
   "metadata": {},
   "outputs": [],
   "source": [
    "# remove : we can remove the first occurence of an element\n",
    "my_list = ['a', 'b', 'a', 'c', 'b', 'a']\n",
    "my_list.remove('a')\n",
    "my_list"
   ]
  },
  {
   "cell_type": "code",
   "execution_count": null,
   "metadata": {},
   "outputs": [],
   "source": [
    "# count : count the number of element of a kind:\n",
    "my_list = ['a', 'b', 'a', 'c', 'b', 'a']\n",
    "my_list.count('b')"
   ]
  },
  {
   "cell_type": "code",
   "execution_count": null,
   "metadata": {},
   "outputs": [],
   "source": [
    "# list within a list - also called as Nested List\n",
    "sd = [2,3,455,[54,67]]"
   ]
  },
  {
   "cell_type": "code",
   "execution_count": null,
   "metadata": {},
   "outputs": [],
   "source": []
  },
  {
   "cell_type": "markdown",
   "metadata": {},
   "source": [
    "<div class=\"alert alert-info\">\n",
    "*Questions and Answers.*\n",
    "</div>\n",
    "\n",
    "* Q1 - What Will Be The Output Of The Following Code Snippet?\n",
    "\n",
    "a=[1,2,3,4,5,6,7,8,9]\n",
    "print(a[::2])"
   ]
  },
  {
   "cell_type": "code",
   "execution_count": null,
   "metadata": {},
   "outputs": [],
   "source": [
    "# Ans 1 "
   ]
  },
  {
   "cell_type": "markdown",
   "metadata": {},
   "source": [
    "* Q2 - How to delete multiple items from a list?\n",
    "my_list = ['p','r','o','b','l','e','m']\n",
    "\n",
    "I want between o and e to be deleted?"
   ]
  },
  {
   "cell_type": "code",
   "execution_count": null,
   "metadata": {},
   "outputs": [],
   "source": [
    "# Ans 2 "
   ]
  },
  {
   "cell_type": "markdown",
   "metadata": {},
   "source": [
    "* Q3 - Please Sort the below list in the ascending order?\n",
    "\n",
    "my_list = [3, 8, 1, 6, 0, 8, 4]"
   ]
  },
  {
   "cell_type": "code",
   "execution_count": null,
   "metadata": {},
   "outputs": [],
   "source": [
    "# Ans 3 "
   ]
  },
  {
   "cell_type": "code",
   "execution_count": null,
   "metadata": {},
   "outputs": [],
   "source": []
  },
  {
   "cell_type": "markdown",
   "metadata": {},
   "source": [
    "#                                                    TUPLES\n",
    " \n",
    " <div class=\"alert alert-danger\">\n",
    " Features of Tuple:</div>\n",
    "Tuples are similar to Lists. There are two distinct points that demarcate between the two.\n",
    "- Tuples are written within the parenthesis.\n",
    "- Tuples are immutable."
   ]
  },
  {
   "cell_type": "markdown",
   "metadata": {},
   "source": [
    "Similaritis between lists and tuples\n",
    "- Tuples indices are zero-based, so the first element of a non-empty tuple is always t[0]\n",
    "- Negative indices count from the end of the tuple, just as with a list.\n",
    "- Slicing too works like a list.when we slice a tuple a new tuple is generated."
   ]
  },
  {
   "cell_type": "markdown",
   "metadata": {},
   "source": [
    "                         NOTE - Indexing creates a new tuple, i.e. it takes extra memory"
   ]
  },
  {
   "cell_type": "code",
   "execution_count": null,
   "metadata": {},
   "outputs": [],
   "source": [
    "tuples = (1,2,3) \n",
    "tuples[0]"
   ]
  },
  {
   "cell_type": "code",
   "execution_count": null,
   "metadata": {},
   "outputs": [],
   "source": [
    "tuples[-1]"
   ]
  },
  {
   "cell_type": "code",
   "execution_count": null,
   "metadata": {},
   "outputs": [],
   "source": [
    "tuples[1:3]  # this is a new tuple"
   ]
  },
  {
   "cell_type": "code",
   "execution_count": null,
   "metadata": {},
   "outputs": [],
   "source": [
    "# in and not in used in tuples as well\n",
    "1 in tuples"
   ]
  },
  {
   "cell_type": "markdown",
   "metadata": {},
   "source": [
    "\n",
    "#        Methods are missing in tuple\n",
    "- An element cannot be added to a tuple. So no append or extend\n",
    "- We cannot remove elements from a tuple.  So no remove or pop\n",
    "\n",
    "NOTE:  only count and index works in tuple. along with it in operator also works."
   ]
  },
  {
   "cell_type": "markdown",
   "metadata": {},
   "source": [
    "- We generally use tuple for heterogeneous datatypes and list for homogeneous datatypes.\n",
    "- Since tuple are immutable, iterating through tuple is faster than with list.\n",
    "- If you have data that doesn't change, implementing it as tuple will guarantee that it remains write-protected.\n",
    "- Tuples that contain immutable elements can be used as key for a dictionary. With list, this is not possible. #"
   ]
  },
  {
   "cell_type": "code",
   "execution_count": null,
   "metadata": {},
   "outputs": [],
   "source": [
    "tuples = (1,'first',True,67.540)\n",
    "tuples"
   ]
  },
  {
   "cell_type": "code",
   "execution_count": null,
   "metadata": {},
   "outputs": [],
   "source": [
    "# nested tuple:\n",
    "n_tuple = (\"mouse\", [8, 4, 6], (1, 2, 3))\n",
    "print(n_tuple[1][1])\n",
    "print(n_tuple[2][2])\n",
    "\n",
    "# we cannot change the element of a tuple, but the item of a mutable element can be changed with a tuple"
   ]
  },
  {
   "cell_type": "code",
   "execution_count": null,
   "metadata": {},
   "outputs": [],
   "source": [
    "# appending a list within a tuple\n",
    "n_tuple[1].append(2)\n",
    "n_tuple"
   ]
  },
  {
   "cell_type": "code",
   "execution_count": null,
   "metadata": {},
   "outputs": [],
   "source": [
    "Built in Functions for tuple\n",
    "Built-in functions like all(), any(), enumerate(), len(), max(), min(), sorted(), tuple() etc."
   ]
  },
  {
   "cell_type": "code",
   "execution_count": null,
   "metadata": {},
   "outputs": [],
   "source": [
    "language = ['P', 'y', 't', 'h', 'o', 'n']\n",
    "print(language[:-4])"
   ]
  },
  {
   "cell_type": "code",
   "execution_count": null,
   "metadata": {},
   "outputs": [],
   "source": [
    "# converting tuples into lists\n",
    "# below we have tuples\n",
    "t = ('my', 'name', 'is', 'mr', 'tuple')\n",
    "t"
   ]
  },
  {
   "cell_type": "code",
   "execution_count": null,
   "metadata": {},
   "outputs": [],
   "source": [
    "# We are converting tuple to list\n",
    "ramil = list(t)\n",
    "ramil"
   ]
  },
  {
   "cell_type": "code",
   "execution_count": null,
   "metadata": {},
   "outputs": [],
   "source": [
    "#converting lists to tuples\n",
    "l = ['my', 'name', 'is', 'mr', 'list']\n",
    "l"
   ]
  },
  {
   "cell_type": "code",
   "execution_count": null,
   "metadata": {},
   "outputs": [],
   "source": []
  },
  {
   "cell_type": "markdown",
   "metadata": {},
   "source": [
    "<div class=\"alert alert-info\">\n",
    "*Questions and Answers.*\n",
    "</div>\n",
    "\n"
   ]
  },
  {
   "cell_type": "markdown",
   "metadata": {},
   "source": [
    "* Q1 - What is the difference between the list and the tuple?"
   ]
  },
  {
   "cell_type": "code",
   "execution_count": null,
   "metadata": {},
   "outputs": [],
   "source": []
  },
  {
   "cell_type": "markdown",
   "metadata": {},
   "source": [
    "* Q2 - How can we convert a tuple into a list?"
   ]
  },
  {
   "cell_type": "code",
   "execution_count": null,
   "metadata": {},
   "outputs": [],
   "source": []
  }
 ],
 "metadata": {
  "kernelspec": {
   "display_name": "Python 3",
   "language": "python",
   "name": "python3"
  },
  "language_info": {
   "codemirror_mode": {
    "name": "ipython",
    "version": 3
   },
   "file_extension": ".py",
   "mimetype": "text/x-python",
   "name": "python",
   "nbconvert_exporter": "python",
   "pygments_lexer": "ipython3",
   "version": "3.6.4"
  }
 },
 "nbformat": 4,
 "nbformat_minor": 2
}

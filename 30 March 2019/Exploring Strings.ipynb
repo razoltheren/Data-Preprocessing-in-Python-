{
 "cells": [
  {
   "cell_type": "markdown",
   "metadata": {},
   "source": [
    "## Topics in this jupyter notebook:\n",
    "* Features of strings\n",
    "* slicing / slicing in strings\n",
    "* Operations of strings:\n",
    " * Appending\n",
    " * Concatenation\n",
    " * Multiplication\n",
    "* Important methods of strings\n",
    " * upper\n",
    " * swapcase\n",
    " * len\n",
    " * replace\n",
    "* Format in strings"
   ]
  },
  {
   "cell_type": "markdown",
   "metadata": {},
   "source": [
    "###   Characterstics of a string:\n",
    "\n",
    "* Anything that is delimited within a quotation mark is termed as a string\n",
    "* Strings can have spaces. e.g 'Python is a very interesting'\n",
    "* Python strings are immutable\n",
    "\n",
    "What is immutable? Unchangeable which means once created then we can just overwrtie, but cannot make any change \n",
    "\n"
   ]
  },
  {
   "cell_type": "code",
   "execution_count": null,
   "metadata": {},
   "outputs": [],
   "source": [
    "# How to access the characters in a string?      Through 'slicing'\n",
    "\n",
    "# A point to keep in mind??      Python is a zero indexed language!!\n",
    "\n",
    "day = 'saturday'\n",
    "\n",
    "# here we have defined a varibale day, now if we want to call the 'r' in the day. For this we use slicing\n",
    "# for this we will start counting s from zero and then go till 'r'. here we have just used the place of the word.\n",
    "\n",
    "day[4]\n"
   ]
  },
  {
   "cell_type": "markdown",
   "metadata": {},
   "source": [
    "### In this case we want to get just a single word but few words. For this we use slicing. \n",
    "\n",
    "* print word[0]          :    get one char of the word\n",
    "* print word[0:1]        : get one char of the word (same as above)\n",
    "* print word[0:3]        : get the first three char\n",
    "* print word[:3]         : get the first three char\n",
    "* print word[3:]         : get all but the three first char"
   ]
  },
  {
   "cell_type": "code",
   "execution_count": null,
   "metadata": {},
   "outputs": [],
   "source": [
    "# Lets try out the above examples on a string the we have defined above.\n",
    "day[0]"
   ]
  },
  {
   "cell_type": "markdown",
   "metadata": {},
   "source": [
    "<div class=\"alert alert-danger\">\n",
    " Likewiese please go ahead and write for the below parts as well:</div>\n"
   ]
  },
  {
   "cell_type": "code",
   "execution_count": null,
   "metadata": {},
   "outputs": [],
   "source": [
    "word = \"pneumonoultramicroscopicsilicovolcanoconiosis\""
   ]
  },
  {
   "cell_type": "code",
   "execution_count": null,
   "metadata": {},
   "outputs": [],
   "source": [
    "word[0:1]\n"
   ]
  },
  {
   "cell_type": "code",
   "execution_count": null,
   "metadata": {},
   "outputs": [],
   "source": [
    "word[0:3]\n"
   ]
  },
  {
   "cell_type": "code",
   "execution_count": null,
   "metadata": {},
   "outputs": [],
   "source": [
    "word[:3]\n"
   ]
  },
  {
   "cell_type": "code",
   "execution_count": null,
   "metadata": {},
   "outputs": [],
   "source": [
    "word[3:]"
   ]
  },
  {
   "cell_type": "code",
   "execution_count": null,
   "metadata": {},
   "outputs": [],
   "source": []
  },
  {
   "cell_type": "code",
   "execution_count": null,
   "metadata": {},
   "outputs": [],
   "source": [
    "###. Largely used operstions in Python Strings: Addition, Multiplications & Appending\n",
    "\n",
    "two_days = 'saturday' + ' ' + 'sunday'\n",
    "print(two_days)\n",
    "\n",
    "# so the addition plays the role of concatenation in strings"
   ]
  },
  {
   "cell_type": "code",
   "execution_count": null,
   "metadata": {},
   "outputs": [],
   "source": [
    "# Multiplication: comes in handy if we want the multilple copies of a particular strings.\n",
    "\n",
    "multiplication_use = 'note_counts ' * 2\n",
    "print(multiplication_use)"
   ]
  },
  {
   "cell_type": "code",
   "execution_count": null,
   "metadata": {},
   "outputs": [],
   "source": [
    "# Appending:  for appending we use += sign.\n",
    "\n",
    "a = 'first_word'\n",
    "\n",
    "a += ' second_word'\n",
    "\n",
    "print(a)"
   ]
  },
  {
   "cell_type": "code",
   "execution_count": null,
   "metadata": {},
   "outputs": [],
   "source": []
  },
  {
   "cell_type": "code",
   "execution_count": null,
   "metadata": {},
   "outputs": [],
   "source": [
    "###.    Important methods in python:\n",
    "\n",
    "# Changing strings to the upper and lower case:\n",
    "check_string = 'Python is the BEST programing language'\n",
    "\n",
    "print(check_string.upper())\n",
    "\n",
    "# over here everything gets changed to the upper case.\n"
   ]
  },
  {
   "cell_type": "code",
   "execution_count": null,
   "metadata": {},
   "outputs": [],
   "source": [
    "# In order to change all the characters in python to lower case we use -  .lower\n",
    "\n",
    "# Please  help me with this one.\n",
    "\n"
   ]
  },
  {
   "cell_type": "code",
   "execution_count": null,
   "metadata": {},
   "outputs": [],
   "source": [
    "# swapcase: again an interesting method in Python. It just makes the upper case lower and vice a vera.\n",
    "\n",
    "check_capitalize = 'Python is an interpreter language. though comparatively slow but very effective.'\n",
    "\n",
    "print(check_capitalize.swapcase())"
   ]
  },
  {
   "cell_type": "code",
   "execution_count": null,
   "metadata": {},
   "outputs": [],
   "source": [
    "# Replace: In order to change a substring by a string we can use replace.  \n",
    "#.      Again the question is - Is the strings property of immutability being compromised?\n",
    "\n",
    "check_string = 'Does replace method work fine'\n",
    "\n",
    "checked_string = check_string.replace('Does', 'Absolutely')\n",
    "\n",
    "print(checked_string)"
   ]
  },
  {
   "cell_type": "code",
   "execution_count": null,
   "metadata": {},
   "outputs": [],
   "source": [
    "# Length: getting to know the leaght of the string.\n",
    "\n",
    "find_numbers = 'how long is our string.'\n",
    "\n",
    "print(len(find_numbers))\n",
    "\n",
    "# It is comprised of 23 characters."
   ]
  },
  {
   "cell_type": "code",
   "execution_count": null,
   "metadata": {},
   "outputs": [],
   "source": []
  },
  {
   "cell_type": "markdown",
   "metadata": {},
   "source": [
    " Please refer to following [link](https://www.tutorialspoint.com/python/python_strings.htm) for knowing more about strings"
   ]
  },
  {
   "cell_type": "markdown",
   "metadata": {},
   "source": [
    "### Using the formatter class to format the strings usage!(Pretty handy stuff)\n",
    "\n"
   ]
  },
  {
   "cell_type": "code",
   "execution_count": null,
   "metadata": {},
   "outputs": [],
   "source": [
    "# To get the string on the basis of the position of the values.\n",
    "\n",
    "print(\"Python has {0} data types and  my favorate one is  {1}\".format(3,'strings')) \n",
    "\n",
    "# Here inside the curly brackets we are defining the positions of the required strings."
   ]
  },
  {
   "cell_type": "code",
   "execution_count": null,
   "metadata": {},
   "outputs": [],
   "source": [
    "# . On the same lines we can also use the formats, but this time on the basis of variable names.\n",
    "\n",
    "print(\"Python has {how_many} data types and  my favorate one is  {which}\".format(how_many = 3, which = 'strings')) #Accessing values by name"
   ]
  },
  {
   "cell_type": "code",
   "execution_count": null,
   "metadata": {},
   "outputs": [],
   "source": []
  },
  {
   "cell_type": "markdown",
   "metadata": {},
   "source": [
    "<div class=\"alert alert-info\">\n",
    "*Questions and Answers.*"
   ]
  },
  {
   "cell_type": "markdown",
   "metadata": {},
   "source": [
    "Q1 - Out of the given string please take out the letter n?\n",
    "\n",
    "string_name = 'monoxide'\n"
   ]
  },
  {
   "cell_type": "code",
   "execution_count": null,
   "metadata": {},
   "outputs": [],
   "source": [
    "A1 - "
   ]
  },
  {
   "cell_type": "markdown",
   "metadata": {},
   "source": [
    "Q2 - Please find the length of the given string?\n",
    "\n",
    "find_len = 'Plaster of Paris'"
   ]
  },
  {
   "cell_type": "code",
   "execution_count": null,
   "metadata": {},
   "outputs": [],
   "source": [
    "A2 - "
   ]
  },
  {
   "cell_type": "code",
   "execution_count": null,
   "metadata": {},
   "outputs": [],
   "source": [
    "Q3 - Please put the variable at last of the given string. \n",
    "variable = 7\n",
    "string = \"String is comprised of the varible which has the value of \""
   ]
  },
  {
   "cell_type": "code",
   "execution_count": null,
   "metadata": {},
   "outputs": [],
   "source": [
    "A 3."
   ]
  }
 ],
 "metadata": {
  "kernelspec": {
   "display_name": "Python 3",
   "language": "python",
   "name": "python3"
  },
  "language_info": {
   "codemirror_mode": {
    "name": "ipython",
    "version": 3
   },
   "file_extension": ".py",
   "mimetype": "text/x-python",
   "name": "python",
   "nbconvert_exporter": "python",
   "pygments_lexer": "ipython3",
   "version": "3.6.4"
  }
 },
 "nbformat": 4,
 "nbformat_minor": 2
}

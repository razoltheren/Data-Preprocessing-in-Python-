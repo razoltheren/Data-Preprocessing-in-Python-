{
 "cells": [
  {
   "cell_type": "markdown",
   "metadata": {},
   "source": [
    "<div class=\"alert alert-info\">\n",
    "*Objective of this sheet*\n",
    "</div>\n",
    "\n",
    "* Be good at what all things we have covered till date\n",
    "* Resources related to Python and data science\n",
    "* How to aviod building bad models. Things to keep in mind before we proceed with the ML and DL/"
   ]
  },
  {
   "cell_type": "code",
   "execution_count": null,
   "metadata": {},
   "outputs": [],
   "source": []
  },
  {
   "cell_type": "markdown",
   "metadata": {},
   "source": [
    "## <span style = 'color : Blue'>Before unstructured data chips in master the art of structured data ? </span>\n",
    "\n",
    "* Structured data: Refers to a data with high level of organization.\n",
    " * Depends on a data model\n",
    " * Easily entered, stored, queried and analyzed\n",
    " * SQL is used for the management of the structured data\n",
    " \n",
    "* Unstructured data: All thnigs that cannot be classified and fit into one simple model.\n",
    " * photos and graphic images\n",
    " * PDF files, powerpoint presentations, and word processing document\n",
    " * videos\n",
    " * streaming and instrument data\n",
    " "
   ]
  },
  {
   "cell_type": "markdown",
   "metadata": {},
   "source": [
    "## <span style = 'color : Blue'>On various upcoming applications both the structure and unstructued data are used collectively </span>\n",
    "\n",
    "The basic definitions of the two is:\n",
    "* Structured data - When the data fields are defined and data is organized according to those fields/labels.\n",
    "* Unstructured data - When the data is without predefined data model or organizing scheme.\n",
    "\n",
    "#### <span style = 'color : green'>for example in case of social media analytical data </span>\n",
    "* Structured data can be used for the quantitative approachs\n",
    " * who, what, when, where, how and how many\n",
    "* Unstructured data for qualitative analysis\n",
    " * i.e. Why?\n",
    " * sentiment analysis"
   ]
  },
  {
   "cell_type": "code",
   "execution_count": null,
   "metadata": {},
   "outputs": [],
   "source": []
  },
  {
   "cell_type": "markdown",
   "metadata": {},
   "source": [
    "## <span style = 'color : Blue'>How do I stay up-to-date as a data scientist? </span>\n",
    "\n",
    "\n",
    "[Learn Python bootcamp for everyone. Lecturs and exercise ](https://datamastery.gitlab.io/msabc/august2018.html)\n",
    "\n",
    "[weekly news on Python related stuff](https://www.pythonweekly.com/)\n",
    "\n",
    "[concepts related to Python and data science are explained in this site](http://pbpython.com/)\n",
    "\n",
    "\n",
    "[lecture series on linear algebra](https://ocw.mit.edu/courses/mathematics/18-06-linear-algebra-spring-2010/video-lectures/)\n",
    "\n",
    "[to get the required knowledge and the datasets of different industries](http://www.databaseanswers.org/data_models/index_all_models.htm)\n",
    "\n",
    "[Advance Projects in the sphere of  data Science](http://drivendata.co/projects.html)\n",
    "\n",
    "\n",
    "[great data science picks every tuesday newsletter](https://dataelixir.com/)\n",
    "\n",
    "\n",
    "\n",
    "\n"
   ]
  },
  {
   "cell_type": "code",
   "execution_count": null,
   "metadata": {},
   "outputs": [],
   "source": []
  },
  {
   "cell_type": "markdown",
   "metadata": {},
   "source": [
    "## <span style = 'color : Blue'>How to avoid building bad models </span>\n",
    "\n",
    "\n",
    "#### <span style = 'color : green'>Few things to follow </span>\n",
    "* Start with the end in mind\n",
    "* Do recognize and mitigate uncertainty : Data imperfectly reflects the real-world\n",
    "* Do encourage inquisitiveness\n",
    "*  Do avoid collinear data\n",
    "* Do use business based approvals\n",
    "\n",
    "#### <span style = 'color : green'>Clearly some dont's </span>\n",
    "* Do not work in isolation\n",
    "* Do not assume you already have a right data\n",
    "* Do not use unbalanced samples\n",
    "* Do not stop iteratively improving\n",
    "* Do not hide patterns in aggregates"
   ]
  },
  {
   "cell_type": "code",
   "execution_count": null,
   "metadata": {},
   "outputs": [],
   "source": []
  }
 ],
 "metadata": {
  "kernelspec": {
   "display_name": "Python 3",
   "language": "python",
   "name": "python3"
  },
  "language_info": {
   "codemirror_mode": {
    "name": "ipython",
    "version": 3
   },
   "file_extension": ".py",
   "mimetype": "text/x-python",
   "name": "python",
   "nbconvert_exporter": "python",
   "pygments_lexer": "ipython3",
   "version": "3.6.4"
  }
 },
 "nbformat": 4,
 "nbformat_minor": 2
}

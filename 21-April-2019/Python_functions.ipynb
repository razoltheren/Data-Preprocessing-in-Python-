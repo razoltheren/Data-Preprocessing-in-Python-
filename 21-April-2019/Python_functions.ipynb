{
 "cells": [
  {
   "cell_type": "markdown",
   "metadata": {},
   "source": [
    "#                             Functions\n",
    "## Background for functions:\n",
    "Basic math -> y = f(x)\n",
    "## so over here the f is a function."
   ]
  },
  {
   "cell_type": "markdown",
   "metadata": {},
   "source": [
    "## Some features that we should keep in mind:\n",
    "*  Function does not have any memory. After opening the new session we cannot call the old function.\n",
    "*  While defining a function whatever argument we have given, the results will remain the same.That means even \n",
    "     after running the function for 50 times output will not change.  # are we having any exceptional function????\n",
    "*  Functions are Objects1, this means we can assign a function to a new variable."
   ]
  },
  {
   "cell_type": "code",
   "execution_count": null,
   "metadata": {},
   "outputs": [],
   "source": [
    "#  Compartmentalize codes: to write codes in such a way that the sections can be reused either in the same program \n",
    "                           or in the different programs.\n",
    "def is the keyword.\n",
    "def name:    ->here name is nothing but the name of the function.\n",
    "    \n",
    "def name()  -> these parenthesis are for the arguments.\n",
    "\n",
    "anything that a function does will be indented under the function defination.\n",
    "\n",
    "def Ketty():\n",
    "    print(\"woow\")\n",
    "    return"
   ]
  },
  {
   "cell_type": "code",
   "execution_count": null,
   "metadata": {},
   "outputs": [],
   "source": [
    "def baba():\n",
    "    #always a good idea to put a mark before the function\n",
    "    \n",
    "code does not get executed until we just call the function by its name."
   ]
  },
  {
   "cell_type": "code",
   "execution_count": 1,
   "metadata": {},
   "outputs": [],
   "source": [
    "# CASE1- starting with the simple functions \n",
    "# simple functions:  Has got the function definition and the function call\n",
    "def hello():\n",
    "    # greeting hi in punjabi\n",
    "    print('sat shree akal')\n",
    "    return"
   ]
  },
  {
   "cell_type": "code",
   "execution_count": 2,
   "metadata": {},
   "outputs": [
    {
     "name": "stdout",
     "output_type": "stream",
     "text": [
      "sat shree akal\n"
     ]
    }
   ],
   "source": [
    "hello()        # simple function would simply recall what has been predefined."
   ]
  },
  {
   "cell_type": "code",
   "execution_count": 5,
   "metadata": {},
   "outputs": [],
   "source": [
    "# CASE2 - Required argument functions\n",
    "def kufupanda(str):\n",
    "    # recommending a course in Times Pro.\n",
    "    print(\"What about the courses in Times Pro? \", str)\n",
    "    return\n",
    "# what will happen? Any string that we would pass will will be assigned to a variable str. This is called a required argument\n",
    "#function beacuse the argument is required. If we do not provide an argument then we get an error."
   ]
  },
  {
   "cell_type": "code",
   "execution_count": 4,
   "metadata": {},
   "outputs": [
    {
     "name": "stdout",
     "output_type": "stream",
     "text": [
      "What about the courses in Times Pro?  Courses are good,but Python for Data Analysis is taken by a jerk!!\n"
     ]
    }
   ],
   "source": [
    "kufupanda('Courses are good,but Python for Data Analysis is taken by a jerk!!')"
   ]
  },
  {
   "cell_type": "code",
   "execution_count": 8,
   "metadata": {},
   "outputs": [],
   "source": [
    "# CASE3 - Calculation using the arguments\n",
    "def cost_per_class(money,hours):\n",
    "    # calculating the cost per hour\n",
    "    letscheckout = money//hours\n",
    "    print(letscheckout)\n",
    "    return"
   ]
  },
  {
   "cell_type": "code",
   "execution_count": 9,
   "metadata": {},
   "outputs": [
    {
     "name": "stdout",
     "output_type": "stream",
     "text": [
      "694\n"
     ]
    }
   ],
   "source": [
    "# we are calling the given argument\n",
    "\n",
    "cost_per_class(200000,288)\n",
    "\n",
    "#   Few things to notice here:\n",
    "#1 - If we will not call the argument then we will get an error. Any guess what will be the error type?\n",
    "#2 - Ordering of the arguments has to be perfectly aligned with the function definition. Hence please be cautious about \n",
    "#      the arguments."
   ]
  },
  {
   "cell_type": "code",
   "execution_count": 61,
   "metadata": {},
   "outputs": [
    {
     "name": "stdout",
     "output_type": "stream",
     "text": [
      "694\n"
     ]
    }
   ],
   "source": [
    "# CASE4 - 'Key-word argument function' \n",
    "\n",
    "#In a function o Pretty useful, though I do not see people using it often.\n",
    "#In the upper example while calling the functin in case of arguments I have to take care of the ordering. Now key-word makes a\n",
    "#great sense in this regards.\n",
    "cost_per_class(hours = 288, money = 200000) \n",
    "# as ordering will not be our concern now. This is an added advantage. But as I said before, I have seen very less cases  \n",
    "# of people writing these functions."
   ]
  },
  {
   "cell_type": "code",
   "execution_count": 64,
   "metadata": {},
   "outputs": [],
   "source": [
    "# CASE5 -  Defalut Function argument\n",
    "# Out of the total number of arguments we have set, we could fix any of the arguments while definining the function itself.\n",
    "# it is useful just in one case, if the user does not define a parameter, it will automatically define the parameter.\n",
    "\n",
    "def great_going(name = \"\", gender = \"MALE\", occupation = \"\"):\n",
    "    print(\"Name:\",  name)\n",
    "    print(\"Gender:\", gender)\n",
    "    print(\"Occupation:\", occupation)\n",
    "    return"
   ]
  },
  {
   "cell_type": "code",
   "execution_count": 65,
   "metadata": {},
   "outputs": [
    {
     "name": "stdout",
     "output_type": "stream",
     "text": [
      "Name: Roger Federer\n",
      "Gender: MALE\n",
      "Occupation: A legendry Tennis star\n"
     ]
    }
   ],
   "source": [
    "great_going(name =\"Roger Federer\", occupation = \"A legendry Tennis star\")\n",
    "\n",
    "# This cell has run succesfully just because we had provided the default argument for the gender. "
   ]
  },
  {
   "cell_type": "code",
   "execution_count": null,
   "metadata": {},
   "outputs": [],
   "source": [
    "'''  Why 'return', why not just the print\":  To make the function truly portable. That means I should be able to use them \n",
    "        in different environments. When I am printing the results of the function then it does not become portable. Hence\n",
    "        retrun statement would come in handy. Just because of this we use the return statement.'''\n"
   ]
  },
  {
   "cell_type": "markdown",
   "metadata": {},
   "source": [
    "### Uniqueness about functions: It does not get executed where it is being written rather at place where it is called later."
   ]
  },
  {
   "cell_type": "code",
   "execution_count": null,
   "metadata": {},
   "outputs": [],
   "source": []
  },
  {
   "cell_type": "markdown",
   "metadata": {},
   "source": [
    "## How to apply the python function on a dataframe"
   ]
  },
  {
   "cell_type": "code",
   "execution_count": 38,
   "metadata": {},
   "outputs": [],
   "source": [
    "import pandas as pd\n",
    "df = pd.DataFrame({\"one\" : [12,32,44,56], \"two\" : [23,44,32,0], \"three\" : [\"in\",\"two\",\"three\",\"four\"]})"
   ]
  },
  {
   "cell_type": "code",
   "execution_count": 41,
   "metadata": {},
   "outputs": [],
   "source": [
    "def func(x):\n",
    "    if x > 25:\n",
    "        return x"
   ]
  },
  {
   "cell_type": "code",
   "execution_count": 39,
   "metadata": {},
   "outputs": [],
   "source": [
    "def num(x):\n",
    "    return x.upper()"
   ]
  },
  {
   "cell_type": "code",
   "execution_count": 44,
   "metadata": {},
   "outputs": [],
   "source": [
    "df[\"six\"] = df[\"two\"].apply(func)"
   ]
  },
  {
   "cell_type": "code",
   "execution_count": 45,
   "metadata": {},
   "outputs": [
    {
     "data": {
      "text/html": [
       "<div>\n",
       "<style scoped>\n",
       "    .dataframe tbody tr th:only-of-type {\n",
       "        vertical-align: middle;\n",
       "    }\n",
       "\n",
       "    .dataframe tbody tr th {\n",
       "        vertical-align: top;\n",
       "    }\n",
       "\n",
       "    .dataframe thead th {\n",
       "        text-align: right;\n",
       "    }\n",
       "</style>\n",
       "<table border=\"1\" class=\"dataframe\">\n",
       "  <thead>\n",
       "    <tr style=\"text-align: right;\">\n",
       "      <th></th>\n",
       "      <th>one</th>\n",
       "      <th>two</th>\n",
       "      <th>three</th>\n",
       "      <th>six</th>\n",
       "    </tr>\n",
       "  </thead>\n",
       "  <tbody>\n",
       "    <tr>\n",
       "      <th>0</th>\n",
       "      <td>12</td>\n",
       "      <td>23</td>\n",
       "      <td>in</td>\n",
       "      <td>NaN</td>\n",
       "    </tr>\n",
       "    <tr>\n",
       "      <th>1</th>\n",
       "      <td>32</td>\n",
       "      <td>44</td>\n",
       "      <td>two</td>\n",
       "      <td>44.0</td>\n",
       "    </tr>\n",
       "    <tr>\n",
       "      <th>2</th>\n",
       "      <td>44</td>\n",
       "      <td>32</td>\n",
       "      <td>three</td>\n",
       "      <td>32.0</td>\n",
       "    </tr>\n",
       "    <tr>\n",
       "      <th>3</th>\n",
       "      <td>56</td>\n",
       "      <td>0</td>\n",
       "      <td>four</td>\n",
       "      <td>NaN</td>\n",
       "    </tr>\n",
       "  </tbody>\n",
       "</table>\n",
       "</div>"
      ],
      "text/plain": [
       "   one  two  three   six\n",
       "0   12   23     in   NaN\n",
       "1   32   44    two  44.0\n",
       "2   44   32  three  32.0\n",
       "3   56    0   four   NaN"
      ]
     },
     "execution_count": 45,
     "metadata": {},
     "output_type": "execute_result"
    }
   ],
   "source": [
    "df"
   ]
  },
  {
   "cell_type": "code",
   "execution_count": 50,
   "metadata": {},
   "outputs": [
    {
     "data": {
      "text/plain": [
       "0       IN\n",
       "1      TWO\n",
       "2    THREE\n",
       "3     FOUR\n",
       "Name: three, dtype: object"
      ]
     },
     "execution_count": 50,
     "metadata": {},
     "output_type": "execute_result"
    }
   ],
   "source": [
    "df[\"three\"].apply(lambda x : x.upper())"
   ]
  },
  {
   "cell_type": "code",
   "execution_count": null,
   "metadata": {},
   "outputs": [],
   "source": []
  },
  {
   "cell_type": "code",
   "execution_count": null,
   "metadata": {},
   "outputs": [],
   "source": []
  }
 ],
 "metadata": {
  "kernelspec": {
   "display_name": "Python 3",
   "language": "python",
   "name": "python3"
  },
  "language_info": {
   "codemirror_mode": {
    "name": "ipython",
    "version": 3
   },
   "file_extension": ".py",
   "mimetype": "text/x-python",
   "name": "python",
   "nbconvert_exporter": "python",
   "pygments_lexer": "ipython3",
   "version": "3.6.4"
  }
 },
 "nbformat": 4,
 "nbformat_minor": 2
}

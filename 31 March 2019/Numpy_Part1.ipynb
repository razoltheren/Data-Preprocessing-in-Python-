{
 "cells": [
  {
   "cell_type": "markdown",
   "metadata": {},
   "source": [
    "#                                     Numpy\n",
    "* Why Numpy?\n",
    "* Data structures of Numpy\n",
    "* Demonstration of why numpy uses less memory, is fast and also convenient.\n",
    "* Exploring one Dimensional array's with Numpy"
   ]
  },
  {
   "cell_type": "markdown",
   "metadata": {},
   "source": [
    "Features of Numpy we should remember!\n",
    "\n",
    "* Numpy is the fundamental package for scientific computing in python.\n",
    " * Scientific Computing is the collection of tools, techniques, and theories required to solve on a computer mathematical models of problems in Science and Engineering.\n",
    "* Features of numpy array's:\n",
    " * Numpy allows vectorization\n",
    " * Is faster than the list, Numpy is based on C.\n",
    " * Array's are of single type. (Lists can accomodate all types/ numpy does one at a time)\n",
    " * Mathematical operations can be performed over an entier array.\n",
    " "
   ]
  },
  {
   "cell_type": "code",
   "execution_count": null,
   "metadata": {},
   "outputs": [],
   "source": [
    "import numpy as np\n",
    "its_an_array = np.array([1,2,3])"
   ]
  },
  {
   "cell_type": "code",
   "execution_count": null,
   "metadata": {},
   "outputs": [],
   "source": [
    "its_an_array"
   ]
  },
  {
   "cell_type": "markdown",
   "metadata": {},
   "source": [
    "Post runing the above cell, we need to see how exactly it looks?"
   ]
  },
  {
   "cell_type": "code",
   "execution_count": null,
   "metadata": {},
   "outputs": [],
   "source": []
  },
  {
   "cell_type": "markdown",
   "metadata": {},
   "source": [
    "* - If it is looking like a list, then why should we be reading about array?\n",
    "\n",
    "Mjorly because of the below reasons:\n",
    "- less memory\n",
    "- convenient\n",
    "- fast"
   ]
  },
  {
   "cell_type": "code",
   "execution_count": null,
   "metadata": {},
   "outputs": [],
   "source": [
    "# Importing the required libraries.\n",
    "import sys   \n",
    "import numpy as np\n"
   ]
  },
  {
   "cell_type": "code",
   "execution_count": null,
   "metadata": {},
   "outputs": [],
   "source": [
    "#                                     Demonstrating the less memory case :-\n",
    "# creating a python list                         \n",
    "lists = range(5000)\n",
    "print(sys.getsizeof(1) * len(lists))\n",
    "# in below case the result is showing the number of bytes."
   ]
  },
  {
   "cell_type": "code",
   "execution_count": null,
   "metadata": {},
   "outputs": [],
   "source": [
    "array = np.arange(5000)\n",
    "print(array.size * array.itemsize)\n",
    "# array.size - is the total length of the array\n",
    "# array.itemsize is the size of an element"
   ]
  },
  {
   "cell_type": "markdown",
   "metadata": {},
   "source": [
    "* `itemsize` : Length of one array element in bytes."
   ]
  },
  {
   "cell_type": "code",
   "execution_count": null,
   "metadata": {},
   "outputs": [],
   "source": []
  },
  {
   "cell_type": "code",
   "execution_count": null,
   "metadata": {},
   "outputs": [],
   "source": [
    "#  above we can see the numbers in form of the 140000 and 40000.\n",
    "# Their these values are showing the BYTES. lists are taking the 140000 Bytes and the numpy taking the 40000 bytes "
   ]
  },
  {
   "cell_type": "code",
   "execution_count": null,
   "metadata": {},
   "outputs": [],
   "source": [
    "#                                Convenient\n",
    "# In case of list when I am trying to add two elements of the list, it is concatenatng.\n",
    "list1 = [1,2,3,4]\n",
    "list2  = [5,6,7,8]\n",
    "suming_both = list1 + list2\n",
    "suming_both"
   ]
  },
  {
   "cell_type": "code",
   "execution_count": null,
   "metadata": {},
   "outputs": [],
   "source": [
    "# okey! now let us try doing any other mathematical operation over the lists.\n",
    "spicy = list1 * list2\n",
    "spicy"
   ]
  },
  {
   "cell_type": "code",
   "execution_count": null,
   "metadata": {},
   "outputs": [],
   "source": [
    "#  now let us see doing the same functinoality over an array:\n",
    "array1 = np.array([1,2,3,4])\n",
    "array2 = np.array([5,6,7,8])\n",
    "suming_both = array1 + array2\n",
    "print(suming_both)"
   ]
  },
  {
   "cell_type": "code",
   "execution_count": null,
   "metadata": {},
   "outputs": [],
   "source": [
    "# at same time, let us check for the multiplication as well.\n",
    "array1 * array2 "
   ]
  },
  {
   "cell_type": "code",
   "execution_count": null,
   "metadata": {},
   "outputs": [],
   "source": []
  },
  {
   "cell_type": "markdown",
   "metadata": {},
   "source": [
    "Numpy is also fast. Please check out the link for the justification.\n",
    "\n",
    "[How come numpy is faster than python list](http://stackoverflow.com/questions/993984/why-numpy-instead-of-python-lists)"
   ]
  },
  {
   "cell_type": "code",
   "execution_count": null,
   "metadata": {},
   "outputs": [],
   "source": [
    "a = np.arange(10000)\n",
    "%timeit a + 1  "
   ]
  },
  {
   "cell_type": "code",
   "execution_count": null,
   "metadata": {},
   "outputs": [],
   "source": [
    "# \n",
    "l = range(10000)\n",
    "%timeit [i+1 for i in l] "
   ]
  },
  {
   "cell_type": "markdown",
   "metadata": {},
   "source": [
    "[difference between the timings](https://stackoverflow.com/questions/11813999/what-do-ns-and-us-stand-for-in-timeit-result)"
   ]
  },
  {
   "cell_type": "code",
   "execution_count": null,
   "metadata": {},
   "outputs": [],
   "source": []
  },
  {
   "cell_type": "markdown",
   "metadata": {},
   "source": [
    "## One Dimensional array's with Numpy"
   ]
  },
  {
   "cell_type": "code",
   "execution_count": null,
   "metadata": {},
   "outputs": [],
   "source": [
    "# here K is list and if we wanted to go ahead with the mathematical operation, we had to loop over each element.\n",
    "k = [12,3,4,8,12]\n",
    "\n",
    "\n",
    "# we can see the looping that was required.\n",
    "for i in k:\n",
    "    print(i * 2)"
   ]
  },
  {
   "cell_type": "code",
   "execution_count": null,
   "metadata": {},
   "outputs": [],
   "source": [
    "# With the numpy array we can see the amount of flexibility we got:\n",
    "\n",
    "change_k = np.array(k)\n",
    "\n",
    "change_k * 2"
   ]
  },
  {
   "cell_type": "code",
   "execution_count": null,
   "metadata": {},
   "outputs": [],
   "source": []
  },
  {
   "cell_type": "markdown",
   "metadata": {},
   "source": [
    "### Subsetting and slicing"
   ]
  },
  {
   "cell_type": "code",
   "execution_count": null,
   "metadata": {},
   "outputs": [],
   "source": [
    "#Subsetting and slicing is exactly like what we have done before.\n",
    "\n",
    "# what should we write to get the first three elements.  Please help!!\n",
    "\n",
    "change_k"
   ]
  },
  {
   "cell_type": "code",
   "execution_count": null,
   "metadata": {},
   "outputs": [],
   "source": [
    "# if just want last two elements, then hat should we write.   Please help!!\n",
    "\n",
    "change_k"
   ]
  },
  {
   "cell_type": "code",
   "execution_count": null,
   "metadata": {},
   "outputs": [],
   "source": []
  },
  {
   "cell_type": "markdown",
   "metadata": {},
   "source": [
    "###  Logical Indexing or Boolean Indexing"
   ]
  },
  {
   "cell_type": "code",
   "execution_count": null,
   "metadata": {},
   "outputs": [],
   "source": [
    "# Firstly lets define a numpy array.\n",
    "\n",
    "import numpy as np\n",
    "\n",
    "y = np.array([24,32,67,96,33])"
   ]
  },
  {
   "cell_type": "code",
   "execution_count": null,
   "metadata": {},
   "outputs": [],
   "source": [
    "## This is how our array looks like.\n",
    "y"
   ]
  },
  {
   "cell_type": "code",
   "execution_count": null,
   "metadata": {},
   "outputs": [],
   "source": [
    "##.   now we want to check what all values are greater than 35.\n",
    "y > 35"
   ]
  },
  {
   "cell_type": "code",
   "execution_count": null,
   "metadata": {},
   "outputs": [],
   "source": [
    "# likewise we can also do other comparisons. e.g.\n",
    "\n",
    "y == 33\n",
    "\n",
    "# also we can perform other functions such as !=, >=, <= etc."
   ]
  },
  {
   "cell_type": "code",
   "execution_count": null,
   "metadata": {},
   "outputs": [],
   "source": [
    "# This same information can be used for doing the subsetting. \n",
    "\n",
    "y[y > 33]\n",
    "\n",
    "# here we are defining first whether y is greater than 22 and then we are putting this back in the y array. "
   ]
  },
  {
   "cell_type": "code",
   "execution_count": null,
   "metadata": {},
   "outputs": [],
   "source": [
    "# Going with the above logice please give the values that are equal to 44. It has to be in subsetting form\n",
    "\n"
   ]
  }
 ],
 "metadata": {
  "kernelspec": {
   "display_name": "Python 3",
   "language": "python",
   "name": "python3"
  },
  "language_info": {
   "codemirror_mode": {
    "name": "ipython",
    "version": 3
   },
   "file_extension": ".py",
   "mimetype": "text/x-python",
   "name": "python",
   "nbconvert_exporter": "python",
   "pygments_lexer": "ipython3",
   "version": "3.6.4"
  }
 },
 "nbformat": 4,
 "nbformat_minor": 2
}

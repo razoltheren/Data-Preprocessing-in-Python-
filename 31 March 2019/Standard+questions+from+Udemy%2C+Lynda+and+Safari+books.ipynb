{
 "cells": [
  {
   "cell_type": "code",
   "execution_count": null,
   "metadata": {
    "collapsed": true
   },
   "outputs": [],
   "source": [
    "# Q1 - Which of the following expressions corresponds to a dictionary with no elements?\n",
    "a - {}\n",
    "b - None\n",
    "c - ()\n",
    "d - []"
   ]
  },
  {
   "cell_type": "code",
   "execution_count": null,
   "metadata": {
    "collapsed": true
   },
   "outputs": [],
   "source": [
    "# Q2 - Given an existing dictionary favorites, what Python statement adds the key \"fruit\" to this dictionary with\n",
    "#      the corresponding value \"blackberry\"?\n",
    "a - favorites[\"fruit\" = \"blackberry\"]\n",
    "b - favorites{\"fruit\" : \"blackberry\"}\n",
    "c - favorites[\"fruit\"] = \"blackberry\"\n",
    "d - favorites = {\"fruit\" : \"blackberry\"}"
   ]
  },
  {
   "cell_type": "code",
   "execution_count": null,
   "metadata": {
    "collapsed": true
   },
   "outputs": [],
   "source": [
    "# Q3  - Keys in a dictionary can have which of the following types?\n",
    "a - Numbers\n",
    "b - Dictionaries\n",
    "c - Tuples\n",
    "d - Lists"
   ]
  },
  {
   "cell_type": "code",
   "execution_count": null,
   "metadata": {
    "collapsed": true
   },
   "outputs": [],
   "source": [
    "# Q4 - Values in a dictionary can have which of the following types?\n",
    "a - Dictionaries\n",
    "b - Tuples\n",
    "c - Lists\n",
    "d - Numbers"
   ]
  },
  {
   "cell_type": "code",
   "execution_count": null,
   "metadata": {
    "collapsed": true
   },
   "outputs": [],
   "source": [
    "# Q5 - What code should replace the question marks so that the two forms are equivalent? \n",
    "a - items(my_dict)\n",
    "b - my_dict.keys()\n",
    "c - list(my_dict)\n",
    "d - my_dict.values()\n",
    "e - my_dict.keys_values()\n",
    "f - my_dict.items()\n"
   ]
  },
  {
   "cell_type": "code",
   "execution_count": null,
   "metadata": {
    "collapsed": true
   },
   "outputs": [],
   "source": [
    "# Q6 - What does the following Python Program print out?\n",
    "\n",
    "str1 = \"Hello\"\n",
    "str2 = 'there'\n",
    "bob = str1 + str2\n",
    "print bob\n",
    "\n",
    "a - Hello There\n",
    "b - Hellothere\n",
    "c - Hello + There\n",
    "d - error\n"
   ]
  },
  {
   "cell_type": "code",
   "execution_count": null,
   "metadata": {
    "collapsed": true
   },
   "outputs": [],
   "source": [
    "# Q7 - What is the difference between a Python tuple and Python list?\n",
    "\n",
    "a - Tuples can be expanded after they are created and lists cannot\n",
    "b - Lists maintain the order of the items and tuples do not maintain order\n",
    "c - Lists are indexed by integers and tuples are indexed by strings\n",
    "d - Lists are mutable and tuples are not mutable\n"
   ]
  },
  {
   "cell_type": "code",
   "execution_count": null,
   "metadata": {
    "collapsed": true
   },
   "outputs": [],
   "source": [
    "# Q8 -  In the following Python code, what will end up in the variable y?\n",
    "\n",
    "x = { 'chuck' : 1 , 'fred' : 42, 'jan': 100}\n",
    "y = x.items()\n",
    "\n",
    "a - A list of tuples\n",
    "b - A list of integers\n",
    "c - A tuple with three integers\n",
    "d - A list of strings"
   ]
  },
  {
   "cell_type": "code",
   "execution_count": null,
   "metadata": {
    "collapsed": true
   },
   "outputs": [],
   "source": [
    "# Q9 -  If the variable data is a Python list, how do we sort it in reverse order?\n",
    "\n",
    "a - data.sort(reverse=True)\n",
    "b - data = data.sort(-1)\n",
    "c - data = sortrev(data)\n",
    "d - data.sort.reverse()\n"
   ]
  },
  {
   "cell_type": "code",
   "execution_count": null,
   "metadata": {
    "collapsed": true
   },
   "outputs": [],
   "source": [
    "# Q10 - Using the following tuple, how would you print 'Wed'?\n",
    "\n",
    "days = ('Mon', 'Tue', 'Wed', 'Thu', 'Fri', 'Sat', 'Sun')\n",
    "\n",
    "a - print(days.get(1,-1))\n",
    "b - print(days[2])\n",
    "c - print(days(2))\n",
    "d - print(days{2})\n",
    "e - print[days(2)]\n",
    "f - print(days[1])\n"
   ]
  },
  {
   "cell_type": "code",
   "execution_count": null,
   "metadata": {
    "collapsed": true
   },
   "outputs": [],
   "source": [
    "# Q11 - What will the following Python code print out?\n",
    "\n",
    "friends = [ 'Joseph', 'Glenn', 'Sally' ]\n",
    "friends.sort()\n",
    "\n",
    "\n",
    "print(friends[0])\n",
    "1 – Sally\n",
    "2 – Glenn\n",
    "3 – friends\n",
    "4 - Joseph\n"
   ]
  },
  {
   "cell_type": "code",
   "execution_count": null,
   "metadata": {
    "collapsed": true
   },
   "outputs": [],
   "source": [
    "# Q12 - Which of the following slicing operations will produce the list [12, 3]?\n",
    "     t = [9, 41, 12, 3, 74, 15]\n",
    "    \n",
    "a - t[:]\n",
    "b - t[1:3]\n",
    "c - t[2:2]\n",
    "d - t[2:4]\n",
    "e - t[12:3]\n"
   ]
  },
  {
   "cell_type": "code",
   "execution_count": null,
   "metadata": {
    "collapsed": true
   },
   "outputs": [],
   "source": [
    "# Q13 - What list method adds a new item to the end of an existing list?\n",
    "\n",
    "a - append()\n",
    "b - forward()\n",
    "c - index()\n",
    "d - add()\n",
    "e - pop()\n"
   ]
  },
  {
   "cell_type": "code",
   "execution_count": null,
   "metadata": {
    "collapsed": true
   },
   "outputs": [],
   "source": [
    "# Q14 - What does the following Python code print out?\n",
    "\n",
    "first = [1, 2, 3]\n",
    "second = [4, 5, 6]\n",
    "c = first + second\n",
    "print(len(c))\n",
    "\n",
    "a – 15\n",
    "b – 6\n",
    "c - [1, 2, 3, 4, 5, 6]\n",
    "d – 21"
   ]
  },
  {
   "cell_type": "code",
   "execution_count": null,
   "metadata": {
    "collapsed": true
   },
   "outputs": [],
   "source": [
    "# Q15 - Which command is invalid Python syntax to create a list x?\n",
    "\n",
    "a - x = [\"this\", \"is\", \"a\" True \"list\"]\n",
    "\n",
    "b - x = [\"this\", \"is\", \"a\", True, \"list\"]\n",
    "\n",
    "c - x = [\"this\", \"is\", 1, True, \"list\"]\n",
    "\n",
    "d - x = [\"this\" + \"is\", 1, True, \"list\"]\n"
   ]
  },
  {
   "cell_type": "code",
   "execution_count": null,
   "metadata": {
    "collapsed": true
   },
   "outputs": [],
   "source": [
    "# Q16- Which three Python data types does this list contain?\n",
    "\n",
    "x = [\"you\", 2, \"are\", \"so\", True]\n",
    "\n",
    "a – int\n",
    "b – float\n",
    "c – str\n",
    "d – bool\n",
    "e – list\n"
   ]
  }
 ],
 "metadata": {
  "kernelspec": {
   "display_name": "Python 3",
   "language": "python",
   "name": "python3"
  },
  "language_info": {
   "codemirror_mode": {
    "name": "ipython",
    "version": 3
   },
   "file_extension": ".py",
   "mimetype": "text/x-python",
   "name": "python",
   "nbconvert_exporter": "python",
   "pygments_lexer": "ipython3",
   "version": "3.6.4"
  }
 },
 "nbformat": 4,
 "nbformat_minor": 1
}

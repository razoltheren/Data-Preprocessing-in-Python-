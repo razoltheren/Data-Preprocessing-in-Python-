{
 "cells": [
  {
   "cell_type": "markdown",
   "metadata": {},
   "source": [
    "##  Topics covered in the  jupyter notebook\n",
    "* Pandas one dimensional data structure introduction\n",
    "* How to index a series?\n",
    "* How to import the Series from a csv file?\n",
    "* Exercise on the topics covered."
   ]
  },
  {
   "cell_type": "code",
   "execution_count": null,
   "metadata": {},
   "outputs": [],
   "source": [
    "## Data Structure of Pandas:\n",
    "\n",
    "import pandas as pd\n",
    "counting = ['one','two','three','four','five']\n",
    "\n",
    "pd.Series(counting)\n",
    "\n",
    "# below the 'dtype: object': tells that the data type is of strings."
   ]
  },
  {
   "cell_type": "markdown",
   "metadata": {},
   "source": [
    "Question:  Is the above series stroed in memory?"
   ]
  },
  {
   "cell_type": "code",
   "execution_count": null,
   "metadata": {},
   "outputs": [],
   "source": []
  },
  {
   "cell_type": "code",
   "execution_count": null,
   "metadata": {},
   "outputs": [],
   "source": [
    "# Storing Series in this variable creating_variable.\n",
    "creating_variable = pd.Series(counting)\n",
    "creating_variable"
   ]
  },
  {
   "cell_type": "code",
   "execution_count": null,
   "metadata": {},
   "outputs": [],
   "source": []
  },
  {
   "cell_type": "code",
   "execution_count": null,
   "metadata": {},
   "outputs": [],
   "source": [
    "##. Please understand the attributes? We just try to understand the attribute of a varibale.\n",
    "\n",
    "# Attribute syntax is identical to the methods, just it(attributes) does not require the parenthesis.\n",
    "# Attribute can give us the description about the Series\n",
    "# Just that attributes does not do any sort of modification.\n",
    "\n",
    "\n",
    "# let us use few of the attriutes.\n",
    "\n",
    "\n",
    "creating_variable.values\n",
    "\n"
   ]
  },
  {
   "cell_type": "code",
   "execution_count": null,
   "metadata": {},
   "outputs": [],
   "source": [
    "creating_variable.argmin"
   ]
  },
  {
   "cell_type": "code",
   "execution_count": null,
   "metadata": {},
   "outputs": [],
   "source": [
    "## Introduction to method:\n",
    "# Method doe something to the series, e.g. sorting, calculation etc.\n",
    "# In contrast to the attributes here we have to use the parenthesis. \n",
    "\n",
    "numbers = [21,25,28,43,55.436]\n",
    "\n",
    "s = pd.Series(numbers)\n",
    "s"
   ]
  },
  {
   "cell_type": "code",
   "execution_count": null,
   "metadata": {},
   "outputs": [],
   "source": [
    "s.mean()      # over here some calculation has taken place."
   ]
  },
  {
   "cell_type": "code",
   "execution_count": null,
   "metadata": {},
   "outputs": [],
   "source": []
  },
  {
   "cell_type": "code",
   "execution_count": null,
   "metadata": {},
   "outputs": [],
   "source": [
    "## Parameters and arguments:     What are parameters?\n",
    "\n",
    "States = ['Arunachal Pradesh','Goa','Manipur','Meghalaya','Nagaland ']\n",
    "Capitals = ['Itanagar','Dispur','Imphal','Shillong','Nagaland ']\n",
    "\n",
    "pd.Series(States)"
   ]
  },
  {
   "cell_type": "code",
   "execution_count": null,
   "metadata": {},
   "outputs": [],
   "source": [
    "##. Now in order to look into the parameters (Press 'SHIFT' + 'TAB')\n",
    "\n",
    "pd.Series(States, Capitals )\n",
    "    \n",
    "## above we are using states as data and Index as Capitals\n",
    "# Above the sequence is most important"
   ]
  },
  {
   "cell_type": "code",
   "execution_count": null,
   "metadata": {},
   "outputs": [],
   "source": [
    "# Incase if we do not want to follow the sequence,then defining the name first and then putting the attribute will help\n",
    "\n",
    "pd.Series( index = Capitals, data =  States)"
   ]
  },
  {
   "cell_type": "code",
   "execution_count": null,
   "metadata": {},
   "outputs": [],
   "source": []
  },
  {
   "cell_type": "code",
   "execution_count": null,
   "metadata": {},
   "outputs": [],
   "source": [
    "# Importing a series with the csv.\n",
    "pokemon = pd.read_csv('pokemon.csv', usecols =['Pokemon'], squeeze = True)\n",
    "\n",
    "# squeeze - helps to import the column as a Series, else the default would be the DataFrame\n",
    "\n",
    "pokemon\n",
    "# Out of all the columns in the dataset we wre just considering this ('Pokemon') one. \n",
    "\n",
    "# We will just be able to see the first 30 and last 30 values, it is does by the means of truncation.\n"
   ]
  },
  {
   "cell_type": "code",
   "execution_count": null,
   "metadata": {},
   "outputs": [],
   "source": []
  },
  {
   "cell_type": "markdown",
   "metadata": {},
   "source": [
    "Question:  Please import the csv file by name 'google_stock_price' from the folder. Also change the \n",
    "dataset in the Series form?"
   ]
  },
  {
   "cell_type": "code",
   "execution_count": null,
   "metadata": {},
   "outputs": [],
   "source": [
    "sorted(pokemon)"
   ]
  }
 ],
 "metadata": {
  "kernelspec": {
   "display_name": "Python 3",
   "language": "python",
   "name": "python3"
  },
  "language_info": {
   "codemirror_mode": {
    "name": "ipython",
    "version": 3
   },
   "file_extension": ".py",
   "mimetype": "text/x-python",
   "name": "python",
   "nbconvert_exporter": "python",
   "pygments_lexer": "ipython3",
   "version": "3.6.4"
  }
 },
 "nbformat": 4,
 "nbformat_minor": 2
}

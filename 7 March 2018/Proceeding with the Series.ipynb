{
 "cells": [
  {
   "cell_type": "markdown",
   "metadata": {},
   "source": [
    "##     Things covered in This notebook\n",
    "*  Sorting values\n",
    "*  Inplace : for overwriting the existing Series\n",
    "*  Sorting the Series on the basis of INDEX\n",
    "* 'in' keyword in  SERIES \n",
    "* Extracting the values based on the Index position\n",
    "* Maths methos on the SERIES\n",
    "* idxmax(index max) and idxmin(index min) method\n",
    "* value_counts on Series\n",
    "* Using apply method over a Series\n",
    "* map for the Series"
   ]
  },
  {
   "cell_type": "code",
   "execution_count": null,
   "metadata": {},
   "outputs": [],
   "source": [
    "# definig a series:\n",
    "\n",
    "import pandas as pd\n",
    "\n",
    "data = pd.Series([21,3,43,66,435,63,24,67,67,88,43,2])\n",
    "data"
   ]
  },
  {
   "cell_type": "code",
   "execution_count": null,
   "metadata": {},
   "outputs": [],
   "source": [
    "# This is how we can sort the values in Series.\n",
    "data.sort_values()    # so 'sort_Values()' is the method for sorting the values in Python."
   ]
  },
  {
   "cell_type": "code",
   "execution_count": null,
   "metadata": {},
   "outputs": [],
   "source": [
    "#. Point to add here is that, we can even use more than one method in a Series. e.g.\n",
    "\n",
    "# Head method we have come across during the R session. In Python it does the same operation.\n",
    "\n",
    "data.sort_values().head()\n",
    "\n"
   ]
  },
  {
   "cell_type": "markdown",
   "metadata": {},
   "source": [
    "#### Question)                        Is the default sorting done in the ascending or descending order?\n"
   ]
  },
  {
   "cell_type": "code",
   "execution_count": null,
   "metadata": {},
   "outputs": [],
   "source": [
    "# So to reverse the sorting, we have to look into the parmeters that are existing in the parenthesis.\n",
    "# Please help me with it.\n",
    "\n",
    "\n",
    "# Ans.\n",
    "\n",
    "# Hint: Please remember that to check the parameters we have to press 'SHIFT' + 'TAB'."
   ]
  },
  {
   "cell_type": "code",
   "execution_count": null,
   "metadata": {},
   "outputs": [],
   "source": []
  },
  {
   "cell_type": "code",
   "execution_count": null,
   "metadata": {},
   "outputs": [],
   "source": []
  },
  {
   "cell_type": "code",
   "execution_count": null,
   "metadata": {},
   "outputs": [],
   "source": [
    "#. How to overwrite the existing series.\n",
    "\n",
    "# In the above scenario when we were writing the sort_values, though the operation was taking place unfortunately\n",
    "# we were not able to make it permanent. How can we say that. Again when wrote data below, it gave the orignal series.\n",
    "\n",
    "data "
   ]
  },
  {
   "cell_type": "code",
   "execution_count": null,
   "metadata": {},
   "outputs": [],
   "source": [
    "# Using the parameter: 'inplace', helps us in generating the updated Series.\n",
    "\n",
    "data.sort_values(inplace = True)\n",
    "data\n",
    "\n",
    "# So now we are able to overwrite the \n",
    "# another way could be by reassigning. This is the traditional way to go."
   ]
  },
  {
   "cell_type": "markdown",
   "metadata": {},
   "source": [
    "#### Please help me in sorting the data in th descending order and also make sure we are overwriting the data."
   ]
  },
  {
   "cell_type": "code",
   "execution_count": null,
   "metadata": {},
   "outputs": [],
   "source": [
    "# Ans. "
   ]
  },
  {
   "cell_type": "code",
   "execution_count": null,
   "metadata": {},
   "outputs": [],
   "source": []
  },
  {
   "cell_type": "code",
   "execution_count": null,
   "metadata": {},
   "outputs": [],
   "source": [
    "## In order to sort the values on the basis of the index, we have to write the below syntax.\n",
    "data.sort_index()\n",
    "\n",
    "# Above we can see how did the index looked like in the previous case. Now after using this syntax we have\n",
    "# just transformed the index value."
   ]
  },
  {
   "cell_type": "code",
   "execution_count": null,
   "metadata": {},
   "outputs": [],
   "source": []
  },
  {
   "cell_type": "code",
   "execution_count": null,
   "metadata": {},
   "outputs": [],
   "source": [
    "## 'in' keyword in a Series.\n",
    "\n",
    "# defining the new Series\n",
    "\n",
    "colors = pd.Series(['green','blue','red','black','white','pink'])\n"
   ]
  },
  {
   "cell_type": "code",
   "execution_count": null,
   "metadata": {},
   "outputs": [],
   "source": [
    "# Firstly let us discuss the usage of 'in' in the Python list. It was like:\n",
    "\n",
    "lists = ['green','blue','red','black','white','pink']\n",
    "'green' in lists   # look we are getting True"
   ]
  },
  {
   "cell_type": "code",
   "execution_count": null,
   "metadata": {},
   "outputs": [],
   "source": [
    "# Let us try the same with the Pandas Series as well.\n",
    "'green' in colors\n",
    "\n",
    "# Reason why False is: Python looks at the index labels not the values in the series."
   ]
  },
  {
   "cell_type": "code",
   "execution_count": null,
   "metadata": {},
   "outputs": [],
   "source": [
    "# see, if I am writing 3 as index, we are getting True. This proves the point!\n",
    "3 in colors.index\n",
    "\n",
    "# 3 is found in the Series index."
   ]
  },
  {
   "cell_type": "code",
   "execution_count": null,
   "metadata": {},
   "outputs": [],
   "source": [
    "# Now in order to get the values, we should use something like this:\n",
    "'green' in colors.values"
   ]
  },
  {
   "cell_type": "code",
   "execution_count": null,
   "metadata": {},
   "outputs": [],
   "source": []
  },
  {
   "cell_type": "code",
   "execution_count": null,
   "metadata": {},
   "outputs": [],
   "source": [
    "## Extracting the values based on the Index position:  I hope all of us remeber the Indexing. As it will\n",
    "#. come in use now.  In case of the Series also the square brackets come handy.\n",
    "\n",
    "colors[3]"
   ]
  },
  {
   "cell_type": "code",
   "execution_count": null,
   "metadata": {},
   "outputs": [],
   "source": [
    "# Incase we want more than one value, we can fetch many.\n",
    "\n",
    "colors[2:5]   # yes we are using the splicing here. And the fundamental rules are same here as well.\n",
    "# i.e. the first element is inclusive and the lst element is exclusive."
   ]
  },
  {
   "cell_type": "code",
   "execution_count": null,
   "metadata": {},
   "outputs": [],
   "source": []
  },
  {
   "cell_type": "code",
   "execution_count": null,
   "metadata": {},
   "outputs": [],
   "source": []
  },
  {
   "cell_type": "code",
   "execution_count": null,
   "metadata": {},
   "outputs": [],
   "source": [
    "## Maths methos on the SERIES:\n",
    "import numpy as np\n",
    "# For this getting a new list\n",
    "\n",
    "numbers = [432,23,134,77,5,245,67,99,156,753,np.NAN,44,39,8654,6,5]\n",
    "\n",
    "numbers = pd.Series(numbers)\n",
    "\n",
    "# Now please help me with this. (Why in the above case I hvae not used inplace?)"
   ]
  },
  {
   "cell_type": "code",
   "execution_count": null,
   "metadata": {},
   "outputs": [],
   "source": [
    "# count: It counts the values:\n",
    "\n",
    "numbers.count()\n",
    "# okey it is telling that we have the count of 15. Does it mean we have 15 elements?"
   ]
  },
  {
   "cell_type": "code",
   "execution_count": null,
   "metadata": {},
   "outputs": [],
   "source": [
    "# len: In order to know the number of elements in a Series, len has to be used cuz count does not take NAN into account\n",
    "len(numbers)"
   ]
  },
  {
   "cell_type": "code",
   "execution_count": null,
   "metadata": {},
   "outputs": [],
   "source": [
    "# sum: just the addition of all the elements.\n",
    "numbers.sum()"
   ]
  },
  {
   "cell_type": "code",
   "execution_count": null,
   "metadata": {},
   "outputs": [],
   "source": [
    "# mean: mean of all the values.\n",
    "numbers.mean()"
   ]
  },
  {
   "cell_type": "code",
   "execution_count": null,
   "metadata": {},
   "outputs": [],
   "source": [
    "# std: is also available here.\n",
    "numbers.std()"
   ]
  },
  {
   "cell_type": "code",
   "execution_count": null,
   "metadata": {},
   "outputs": [],
   "source": [
    "# median is also present/ also the mode is present.\n",
    "print(numbers.median())\n",
    "print(numbers.mode())"
   ]
  },
  {
   "cell_type": "code",
   "execution_count": null,
   "metadata": {},
   "outputs": [],
   "source": [
    "# describe: is interesting inbuilt. It does most of the things we have seen till now.\n",
    "numbers.describe()"
   ]
  },
  {
   "cell_type": "code",
   "execution_count": null,
   "metadata": {},
   "outputs": [],
   "source": []
  },
  {
   "cell_type": "code",
   "execution_count": null,
   "metadata": {},
   "outputs": [],
   "source": [
    "## idmax() and idmin() methods.\n",
    "numbers.idxmax()"
   ]
  },
  {
   "cell_type": "code",
   "execution_count": null,
   "metadata": {},
   "outputs": [],
   "source": [
    "# now in order to see this largest value, we could use the indexing.\n",
    "numbers[13]"
   ]
  },
  {
   "cell_type": "code",
   "execution_count": null,
   "metadata": {},
   "outputs": [],
   "source": [
    "# Here we will get to know the position of the smallest value. \n",
    "numbers.idxmin()"
   ]
  },
  {
   "cell_type": "code",
   "execution_count": null,
   "metadata": {},
   "outputs": [],
   "source": [
    "# Again using indexing to fetch the samllest value.\n",
    "numbers[]"
   ]
  },
  {
   "cell_type": "code",
   "execution_count": null,
   "metadata": {},
   "outputs": [],
   "source": [
    "## Or the easiest way to do the above in simple step is:\n",
    "numbers[numbers.idxmax()]   # here we go, everthing in one go. "
   ]
  },
  {
   "cell_type": "code",
   "execution_count": null,
   "metadata": {},
   "outputs": [],
   "source": []
  },
  {
   "cell_type": "code",
   "execution_count": null,
   "metadata": {},
   "outputs": [],
   "source": []
  },
  {
   "cell_type": "code",
   "execution_count": null,
   "metadata": {},
   "outputs": [],
   "source": [
    "### value_counts() over the Series is somewhat like pivot tables in excel.\n",
    "# for this again we have to define another kind of Series\n",
    "\n",
    "num = [12,3,23,4,32,12,55,434,12,3,np.NAN,23,9,0,23,4,115,np.NAN,12,546,32]\n",
    "num = pd.Series(num)"
   ]
  },
  {
   "cell_type": "code",
   "execution_count": null,
   "metadata": {},
   "outputs": [],
   "source": [
    "# value counts just loops through the entire Series and counts the value each time it occurs.\n",
    "num.value_counts()"
   ]
  },
  {
   "cell_type": "code",
   "execution_count": null,
   "metadata": {},
   "outputs": [],
   "source": []
  },
  {
   "cell_type": "markdown",
   "metadata": {},
   "source": [
    "### Also now please play with the parameter over here. \n",
    "ascending, dropna and bins"
   ]
  },
  {
   "cell_type": "code",
   "execution_count": null,
   "metadata": {},
   "outputs": [],
   "source": []
  },
  {
   "cell_type": "code",
   "execution_count": null,
   "metadata": {},
   "outputs": [],
   "source": []
  },
  {
   "cell_type": "code",
   "execution_count": null,
   "metadata": {},
   "outputs": [],
   "source": [
    "### apply() method over a Series:\n",
    "# apply absically expects us create a function and then apply on every elemt of the Series\n",
    "\n",
    "# we are taking the num series for this illustration."
   ]
  },
  {
   "cell_type": "code",
   "execution_count": null,
   "metadata": {},
   "outputs": [],
   "source": [
    "# we are going to define a functin, that will return 'too low' if the value is below 12 otherwise 'looks good'.\n",
    "\n",
    "def values(loading):\n",
    "    '''this function will return 'too low' if the value is below 12 otherwise 'looks good'.'''\n",
    "    if loading < 12:\n",
    "        return 'too low'\n",
    "    else: \n",
    "        return 'looks good'"
   ]
  },
  {
   "cell_type": "code",
   "execution_count": null,
   "metadata": {},
   "outputs": [],
   "source": [
    "# and now we are applying our function on the Series.\n",
    "num.apply(values)"
   ]
  },
  {
   "cell_type": "code",
   "execution_count": null,
   "metadata": {},
   "outputs": [],
   "source": []
  },
  {
   "cell_type": "code",
   "execution_count": null,
   "metadata": {},
   "outputs": [],
   "source": []
  },
  {
   "cell_type": "code",
   "execution_count": null,
   "metadata": {},
   "outputs": [],
   "source": [
    "##. map method on a Series.\n",
    "# Dataset that we would use to understand map is the pokemon dataset.\n",
    "\n",
    "pokemon_names = pd.read_csv('pokemon.csv', usecols = ['Pokemon'], squeeze = True)\n",
    "pokemon_names.head()"
   ]
  },
  {
   "cell_type": "code",
   "execution_count": null,
   "metadata": {},
   "outputs": [],
   "source": [
    "pokemon_types = pd.read_csv('pokemon.csv', index_col = 'Pokemon', squeeze = True)\n",
    "pokemon_types.head()"
   ]
  },
  {
   "cell_type": "code",
   "execution_count": null,
   "metadata": {},
   "outputs": [],
   "source": [
    "# suppose above two Series came from two different files. We want to perform Vlookup.\n",
    "pokemon_names.map(pokemon_types)\n",
    "\n",
    "# It has looked up for all the values on the basis of the Pokemon and given in form of a Vlookup.\n",
    "#It is handy when we have two datasets and we want to map them together specially when they come from different sources"
   ]
  },
  {
   "cell_type": "code",
   "execution_count": null,
   "metadata": {},
   "outputs": [],
   "source": []
  },
  {
   "cell_type": "markdown",
   "metadata": {},
   "source": [
    "####  Exercise:"
   ]
  },
  {
   "cell_type": "markdown",
   "metadata": {},
   "source": [
    "Q1- First we will learn how to get toy dataset from sklearn library. Then we will proceed further? "
   ]
  },
  {
   "cell_type": "code",
   "execution_count": null,
   "metadata": {},
   "outputs": [],
   "source": []
  }
 ],
 "metadata": {
  "kernelspec": {
   "display_name": "Python 3",
   "language": "python",
   "name": "python3"
  },
  "language_info": {
   "codemirror_mode": {
    "name": "ipython",
    "version": 3
   },
   "file_extension": ".py",
   "mimetype": "text/x-python",
   "name": "python",
   "nbconvert_exporter": "python",
   "pygments_lexer": "ipython3",
   "version": "3.6.4"
  }
 },
 "nbformat": 4,
 "nbformat_minor": 2
}

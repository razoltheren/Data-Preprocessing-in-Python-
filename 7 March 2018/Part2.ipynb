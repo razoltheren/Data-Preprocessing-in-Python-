{
 "cells": [
  {
   "cell_type": "markdown",
   "metadata": {
    "collapsed": true
   },
   "source": [
    "                                                  Objective of this sheet!\n",
    "\n",
    "* Handling missing value data using fillna as 0?\n",
    "* Filling NAN with different values for different columns?\n",
    "* Using ffill and bfill to copy the before and after value within a column\n",
    "* Replacing the NAN values vertically\n",
    "* Droping the NA values on the basis of the conditionality\n",
    "* When we want to replace the outliers(or other values) with NAN.\n",
    "* Replacing different values (column wise) not just the NAN ones, this time dictionary will come in rescue. \n",
    "* Giving numerical value to the categorical data for the problem solving purpose."
   ]
  },
  {
   "cell_type": "code",
   "execution_count": null,
   "metadata": {},
   "outputs": [],
   "source": [
    "import pandas as pd\n",
    "import numpy as np"
   ]
  },
  {
   "cell_type": "code",
   "execution_count": null,
   "metadata": {},
   "outputs": [],
   "source": [
    "# another way of importing the file\n",
    "df = pd.read_csv('weather.csv')"
   ]
  },
  {
   "cell_type": "code",
   "execution_count": null,
   "metadata": {},
   "outputs": [],
   "source": [
    "#1 we are going to put some other values instead of NA\n",
    "new_df = df.fillna(0)\n",
    "new_df"
   ]
  },
  {
   "cell_type": "code",
   "execution_count": null,
   "metadata": {},
   "outputs": [],
   "source": []
  },
  {
   "cell_type": "code",
   "execution_count": null,
   "metadata": {},
   "outputs": [],
   "source": [
    "#2 I am using dictionary to fill NA with the different values in specific columns\n",
    "new_df = df.fillna({'temperature':0,\n",
    "                   'windspeed': 99,\n",
    "                   'event': 'no event'})\n",
    "new_df"
   ]
  },
  {
   "cell_type": "code",
   "execution_count": null,
   "metadata": {},
   "outputs": [],
   "source": []
  },
  {
   "cell_type": "code",
   "execution_count": null,
   "metadata": {},
   "outputs": [],
   "source": [
    "#3  to carry forward previous day value for a NA value, we use ffill\n",
    "new_df = df.fillna(method = 'ffill')\n",
    "new_df"
   ]
  },
  {
   "cell_type": "code",
   "execution_count": null,
   "metadata": {},
   "outputs": [],
   "source": [
    "# to copy the next value in the row, we use bfill\n",
    "new_df = df.fillna(method = 'bfill')\n",
    "new_df"
   ]
  },
  {
   "cell_type": "code",
   "execution_count": null,
   "metadata": {},
   "outputs": [],
   "source": []
  },
  {
   "cell_type": "code",
   "execution_count": null,
   "metadata": {
    "scrolled": true
   },
   "outputs": [],
   "source": [
    "# 4 adding axis to the equation. It will copy vertically\n",
    "new_df = df.fillna(method = 'bfill', axis = 'columns')\n",
    "new_df"
   ]
  },
  {
   "cell_type": "code",
   "execution_count": null,
   "metadata": {},
   "outputs": [],
   "source": []
  },
  {
   "cell_type": "code",
   "execution_count": null,
   "metadata": {},
   "outputs": [],
   "source": [
    "#5 dropping the NA values\n",
    "new_df = df.dropna()\n",
    "new_df"
   ]
  },
  {
   "cell_type": "code",
   "execution_count": null,
   "metadata": {},
   "outputs": [],
   "source": [
    "# droping those rows where all the rows have na\n",
    "new_df = df.dropna(how = 'all')\n",
    "new_df"
   ]
  },
  {
   "cell_type": "code",
   "execution_count": null,
   "metadata": {},
   "outputs": [],
   "source": [
    "#  Importing another file for the coming events\n",
    "df = pd.read_excel('weather_nan.xlsx')\n",
    "df"
   ]
  },
  {
   "cell_type": "code",
   "execution_count": null,
   "metadata": {},
   "outputs": [],
   "source": []
  },
  {
   "cell_type": "code",
   "execution_count": null,
   "metadata": {},
   "outputs": [],
   "source": [
    "#6  When I want to replace my values with NaN\n",
    "new_df = df.replace(-99999, np.NAN)\n",
    "new_df"
   ]
  },
  {
   "cell_type": "code",
   "execution_count": null,
   "metadata": {},
   "outputs": [],
   "source": []
  },
  {
   "cell_type": "code",
   "execution_count": null,
   "metadata": {},
   "outputs": [],
   "source": [
    "#7 replace by using the dictionary, not just for the NAN but also could be handy for other values replacement\n",
    "\n",
    "new_df = df.replace({\n",
    "        'temperature': -99999,\n",
    "        'windspeed' : -88888,\n",
    "        'event' : '0'\n",
    "    },np.NaN)\n",
    "new_df"
   ]
  },
  {
   "cell_type": "code",
   "execution_count": null,
   "metadata": {},
   "outputs": [],
   "source": []
  },
  {
   "cell_type": "code",
   "execution_count": null,
   "metadata": {},
   "outputs": [],
   "source": [
    "#8    Again replacing the catg. or other string values to numerical.\n",
    "df = pd.DataFrame({\n",
    "        'score' : ['exceptional','average','good','poor','average','exceptional'],\n",
    "        'student': ['rob','maya','parthiv','tom','julain','erica']\n",
    "    })\n",
    "df"
   ]
  },
  {
   "cell_type": "code",
   "execution_count": null,
   "metadata": {},
   "outputs": [],
   "source": [
    "# now I want to replace some scores into numbers\n",
    "new_df = df.replace(['poor','average','good','exceptional'], [1,2,3,4])\n",
    "new_df"
   ]
  },
  {
   "cell_type": "markdown",
   "metadata": {
    "collapsed": true
   },
   "source": [
    "<div class=\"alert alert-info\">\n",
    "*Questions and Answers.*\n",
    "</div>"
   ]
  },
  {
   "cell_type": "markdown",
   "metadata": {
    "collapsed": true
   },
   "source": [
    "\n",
    "#### Q1 -  Please try the ffill and bfill for last element and first element of any column?\n"
   ]
  },
  {
   "cell_type": "code",
   "execution_count": null,
   "metadata": {},
   "outputs": [],
   "source": []
  },
  {
   "cell_type": "markdown",
   "metadata": {
    "collapsed": true
   },
   "source": [
    "#### Q2 - Please write few lines on what is interpolate, also how can it be of great use during modeling?\n"
   ]
  },
  {
   "cell_type": "code",
   "execution_count": null,
   "metadata": {},
   "outputs": [],
   "source": []
  },
  {
   "cell_type": "markdown",
   "metadata": {
    "collapsed": true
   },
   "source": [
    "#### Q3 - Please create(by using dict.) a dataset of your own choice and also keep some NAN in it, please demonstrate the bfill, ffil\n"
   ]
  },
  {
   "cell_type": "code",
   "execution_count": null,
   "metadata": {},
   "outputs": [],
   "source": []
  },
  {
   "cell_type": "markdown",
   "metadata": {
    "collapsed": true
   },
   "source": [
    "#### Q4 - Please use the column mean(average) in place of the missing values (NAN). Please carry this on the dataset created by you?\n"
   ]
  },
  {
   "cell_type": "code",
   "execution_count": null,
   "metadata": {},
   "outputs": [],
   "source": []
  }
 ],
 "metadata": {
  "kernelspec": {
   "display_name": "Python 3",
   "language": "python",
   "name": "python3"
  },
  "language_info": {
   "codemirror_mode": {
    "name": "ipython",
    "version": 3
   },
   "file_extension": ".py",
   "mimetype": "text/x-python",
   "name": "python",
   "nbconvert_exporter": "python",
   "pygments_lexer": "ipython3",
   "version": "3.6.4"
  }
 },
 "nbformat": 4,
 "nbformat_minor": 1
}

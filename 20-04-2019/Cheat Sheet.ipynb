{
 "cells": [
  {
   "cell_type": "code",
   "execution_count": 8,
   "metadata": {},
   "outputs": [],
   "source": [
    "import pandas as pd\n",
    "import numpy as np\n",
    "df = pd.DataFrame(\n",
    "              {\"a\" : [4 ,5, 6],\n",
    "               \"b\" : [7, 8, 9],\n",
    "               \"c\" : [10, 11, 12],\n",
    "              \"d\" : [\"first\",\"second\",\"third\"]},\n",
    "            index = [1, 2, 3])"
   ]
  },
  {
   "cell_type": "markdown",
   "metadata": {},
   "source": [
    "##  Reshaping Data – Change the layout of a data set\n",
    "\n",
    "\n",
    "* df.sort_values('mpg')   :: Order rows by values of a column (low to high).\n",
    " \n",
    "* df.rename(columns = {'y':'year'})   :: Rename the columns of a DataFrame\n",
    "\n",
    "* df.sort_index()   :: Sort the index of a DataFrame\n",
    "\n",
    "* df.reset_index()   :: Reset index of DataFrame to row numbers, moving index to columns.\n",
    "\n",
    "* df.drop(columns=['Length','Height'])    :: Drop columns from DataFrame\n",
    "\n"
   ]
  },
  {
   "cell_type": "markdown",
   "metadata": {},
   "source": [
    "##    Subset Observations (Rows)\n",
    "* df[df.Length > 7]   :: Extract rows that meet logical criteria.\n",
    "* df.drop_duplicates()   ::  Remove duplicate rows (only considers columns).\n",
    "* df.sample(n=10)   :: Randomly select fraction of rows\n",
    "* df.iloc[10:20]    :: Select rows by position.\n",
    "* df.nlargest(n, 'value')   :: Select and order top n entries.\n",
    "* df[['width','length','species']]   :: Select multiple columns with specific names.\n",
    "* df['width']   :: Select single column with specific name.\n",
    "* df.loc[:,'x2':'x4']   ::   Select all columns between x2 and x4 (inclusive)."
   ]
  },
  {
   "cell_type": "markdown",
   "metadata": {},
   "source": [
    "##  Summarize Data\n",
    "* df['w'].value_counts()   :: Count number of rows with each unique value of variable\n",
    "* len(df)    ::   number of rows in DataFrame.\n",
    "* df['w'].nunique()   ::   of distinct values in a column.\n",
    "* df.describe()   ::  Basic descriptive statistics for each column (or GroupBy)\n",
    "* sum(), min(), count(), max(), median(), var(), apply(function)\n",
    "* df.dropna()  ::  Drop rows with any column having NA/null data.\n",
    "* df.fillna(value)  :: Replace all NA/null data with value.\n",
    "* df['Volume'] = df.Length*df.Height*df.Depth  ::  Add single column.\n",
    "        "
   ]
  },
  {
   "cell_type": "markdown",
   "metadata": {},
   "source": [
    "##   Combining the dtaset:\n",
    "* pd.merge(adf, bdf, how='left', on='x1')   :: Join matching rows from bdf to adf.\n",
    "* pd.merge(adf, bdf,how='right', on='x1')   ::   Join matching rows from adf to bdf.\n",
    "* pd.merge(adf, bdf,how='inner', on='x1')   ::    Join data. Retain only rows in both sets.\n",
    "* df.concat([df1,df2], axis=1) :: concatenation"
   ]
  },
  {
   "cell_type": "markdown",
   "metadata": {},
   "source": [
    "##  Group Data\n",
    "* df.groupby(by=\"col\")  ::  Return a GroupBy object, grouped by values in column named \"col\".\n",
    "* df.pivot(columns='var', values='val')  :: Spread rows into columns.\n",
    "* df.stack   :: Stacking and unstacking"
   ]
  },
  {
   "cell_type": "markdown",
   "metadata": {},
   "source": [
    "## Common string methods on DataFrame:\n",
    " * lower()    :: turning everything into lowercase\n",
    " * title()    :: first character in uppercase, rest as lower case\n",
    " * len()      :: length of the characters present in each cell\n",
    " * replace()  :: replace any existing string value from the cell\n",
    " * contains() ::  whether some sub string is contained in the entire string.\n",
    " * strips()   ::  getting the whitespace out of the string\n",
    " * get()      ::  take out certain string from the cell. "
   ]
  },
  {
   "cell_type": "markdown",
   "metadata": {},
   "source": [
    "## Handling dates in Python:\n",
    "* pd.to_datetime(df[\"column\"])  :: converts the column from string to datetime\n",
    "* df['col'].dt.year,df['col'].dt.month, df['col'].dt.day     :: can fetch year, month and date from the column\n",
    "* df['col'].min() and df['col'].max()  ::  will give us the oldest and latest day in the column\n",
    "* pd.DateOffset(days = 3)   :: can increase the orignal date by hours, days and months\n",
    "* import datetime  :: datetime.now() - Will get the current datetime.  "
   ]
  }
 ],
 "metadata": {
  "kernelspec": {
   "display_name": "Python 3",
   "language": "python",
   "name": "python3"
  },
  "language_info": {
   "codemirror_mode": {
    "name": "ipython",
    "version": 3
   },
   "file_extension": ".py",
   "mimetype": "text/x-python",
   "name": "python",
   "nbconvert_exporter": "python",
   "pygments_lexer": "ipython3",
   "version": "3.6.4"
  }
 },
 "nbformat": 4,
 "nbformat_minor": 2
}

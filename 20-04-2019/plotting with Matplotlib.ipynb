{
 "cells": [
  {
   "cell_type": "markdown",
   "metadata": {},
   "source": [
    "<div class=\"alert alert-info\">\n",
    "*Objective of this sheet*\n",
    "</div>\n",
    "-  What is matplotlib? Introduction.(With an important tip)\n",
    "-  Building a graph. A step by step approach? Features of graph.\n",
    "-  Few more charts are coming our way. "
   ]
  },
  {
   "cell_type": "markdown",
   "metadata": {},
   "source": [
    "* Matplotlib makes simple things simpler and hard things possible, as the quality of figures are high\n",
    "\n",
    "`TIP` : The matplotlib gallery is here : My suggestion is to please go here and look very closely what we want to do.\n",
    "        Then we will tweak the code a bit and use for our purpose.\n",
    "\n",
    "[please click here for the matplotlib library](http://matplotlib.org/gallery.html)"
   ]
  },
  {
   "cell_type": "code",
   "execution_count": null,
   "metadata": {},
   "outputs": [],
   "source": [
    "import numpy as np\n",
    "import matplotlib.pyplot as plt\n",
    "%matplotlib inline"
   ]
  },
  {
   "cell_type": "markdown",
   "metadata": {},
   "source": [
    "#   The basic concepts we should know are:\n",
    "- FIGURE:   It is the overall window that everything is drawn on. Either we will have multiple independent figures or\n",
    "              figures will contain multiple axis.\n",
    "- SUBPLOTS: A Subplot object must belong to a Figure (and only one Figure). Most commands we will use with respect\n",
    "              to this Subplots object.\n",
    "- XAxis and a YAxis :  These contain the ticks, tick locations, labels, etc."
   ]
  },
  {
   "cell_type": "code",
   "execution_count": null,
   "metadata": {},
   "outputs": [],
   "source": [
    "# Before starting the matplotlib please run the below magic function. Why should we do this? Please read the below comment,\n",
    "# 'though I have copied it from the net'."
   ]
  },
  {
   "cell_type": "code",
   "execution_count": null,
   "metadata": {},
   "outputs": [],
   "source": [
    "%matplotlib inline"
   ]
  },
  {
   "cell_type": "markdown",
   "metadata": {},
   "source": [
    "Above we ran matplotlib inline. It sets the backend of matplotlib to the 'inline' backend. With this backend, the output of plotting commands is displayed inline within frontends like the Jupyter notebook, directly below the code cell that produced it.\n",
    "\n",
    "In simple English: I want to see the plots in the same file. Without this it would have opened in a new file."
   ]
  },
  {
   "cell_type": "code",
   "execution_count": null,
   "metadata": {},
   "outputs": [],
   "source": [
    "import matplotlib.pyplot as plt    # in pyplot we have 2D ploting features."
   ]
  },
  {
   "cell_type": "code",
   "execution_count": null,
   "metadata": {},
   "outputs": [],
   "source": [
    "#Let us create a simple figure(line graph): We put some points and draw a line over it.\n",
    "\n",
    "\n",
    "'''When to use line graph? - It shows the trend or progress over time. While charting a continous dataset it is good to use\n",
    "                     a line graph.Now the question: What is the continous data set?'''\n",
    "\n",
    "\n",
    "plt.plot([9,14,25,22]);\n",
    "# we are having both the figures and subfigures, they are not visible to the naked eye."
   ]
  },
  {
   "cell_type": "code",
   "execution_count": null,
   "metadata": {},
   "outputs": [],
   "source": [
    "# now let us label at least one axis and see how to do so\n",
    "plt.ylabel('first number')"
   ]
  },
  {
   "cell_type": "code",
   "execution_count": null,
   "metadata": {},
   "outputs": [],
   "source": [
    "#   Now lets check this out with two sets of argument i.e X versus Y.\n",
    "plt.plot([22,44,22,11],[55,68,99,124])  #by default it's the line graph\n",
    "\n",
    "# "
   ]
  },
  {
   "cell_type": "code",
   "execution_count": null,
   "metadata": {},
   "outputs": [],
   "source": []
  },
  {
   "cell_type": "code",
   "execution_count": null,
   "metadata": {},
   "outputs": [],
   "source": [
    "#2.A            Representing the graph. A step by step approach?\n",
    "#plt.plot([1, 2, 3, 4], [10, 20, 25, 30], color='darkgreen', linewidth=3)\n",
    "\n",
    "#or\n",
    "x = [1,2,3,4]\n",
    "y = [10,20,25,30]            # Please try increasing on element for y and then run\n",
    "\n",
    "plt.plot(x,y);\n",
    "#   Two added arguments are there:\n",
    "# color - different abbrevations e.g. b: blue, g: green, r: red, c: cyan,m: magenta,y: yellow,k: black and w: white\n",
    "# linewidth - to manage the thikness of the line, could be changed depending on what we want it to be."
   ]
  },
  {
   "cell_type": "code",
   "execution_count": null,
   "metadata": {},
   "outputs": [],
   "source": [
    "#2.B                                      Plotting the tile and labels\n",
    "\n",
    "A = [11,23,35,4]\n",
    "B = [10,20,25,30]  \n",
    "\n",
    "plt.plot(x,y)\n",
    "\n",
    "# they are as easy as we want them to be\n",
    "plt.title(\"Title of the plot\")\n",
    "plt.xlabel(\"This is the x-label\")\n",
    "plt.ylabel(\"This is the y-label\")"
   ]
  },
  {
   "cell_type": "code",
   "execution_count": null,
   "metadata": {},
   "outputs": [],
   "source": [
    "#2.C                                    Legends:to know what does the lines stand for.\n",
    "\n",
    "x = [1,2,3,4]\n",
    "y = [10,20,25,30] \n",
    "\n",
    "y1 = [12,2,45,18]\n",
    "\n",
    "plt.plot(x,y, label='Initial line')\n",
    "plt.plot(x,y1, label = 'New Line!')\n",
    "\n",
    "plt.legend()   # legends are empty cuz we have already defined it"
   ]
  },
  {
   "cell_type": "code",
   "execution_count": null,
   "metadata": {},
   "outputs": [],
   "source": []
  },
  {
   "cell_type": "code",
   "execution_count": null,
   "metadata": {},
   "outputs": [],
   "source": [
    "#3 Few more charts are coming our way.\n",
    "#3.A                                            Bar Graph\n",
    "\n",
    "\n",
    "'''When to use bar graph?    A bar chart, basically a horizontal column chart, should be used to avoid clutter \n",
    "                             when one data label is long or if you have more than 10 items to compare.'''\n",
    "\n",
    "\n",
    "\n",
    "\n",
    "plt.bar([1,3,5,7,9],[5,2,7,8,2], label=\"blue box\")\n",
    "\n",
    "plt.bar([2,4,6,8,10],[8,6,2,5,6], label=\"green box \", color='g')\n",
    "plt.legend()\n",
    "plt.xlabel('pointers of bars')\n",
    "plt.ylabel('length of bars')\n",
    "\n",
    "plt.title('Epic Graph\\nAnother Line! Whoa')"
   ]
  },
  {
   "cell_type": "code",
   "execution_count": null,
   "metadata": {},
   "outputs": [],
   "source": []
  },
  {
   "cell_type": "code",
   "execution_count": null,
   "metadata": {},
   "outputs": [],
   "source": [
    "#3.B                                                  Histograms\n",
    "\n",
    "\n",
    "'''When to use histograms?:    A histogram is the most commonly used graph to show frequency distributions. Histogram is \n",
    "                               only used to plot the frequency of score occurrences in a continuous data set that has been \n",
    "                               divided into classes, called bins.   '''\n",
    "\n",
    "\n",
    "# Binining\n",
    "x = [21,22,23,4,5,6,77,8,9,10,31,32,33,34,35,36,37,18,49,50,100]\n",
    "num_bins = 5\n",
    "n, bins, patches = plt.hist(x, num_bins, facecolor='blue', alpha=0.5)\n",
    "plt.show()"
   ]
  },
  {
   "cell_type": "code",
   "execution_count": null,
   "metadata": {},
   "outputs": [],
   "source": []
  },
  {
   "cell_type": "code",
   "execution_count": null,
   "metadata": {},
   "outputs": [],
   "source": [
    "#3. C                              Basic  Scatterplots\n",
    "\n",
    "\n",
    "\n",
    "'''When to use the scatter plots?  :   It should be used when there are many different data points,and we want to\n",
    "                                       highlight similarities in the data set. This is useful when looking for outliers or\n",
    "                                       or for understanding the distribution of our data. '''\n",
    "\n",
    "\n",
    "x = [2,4,5,6,9]\n",
    "y =  [8,11,9,15,5]\n",
    "z = [8,8,6,13,23]\n",
    "\n",
    "plt.scatter(x, y, marker = 'o', color='c')\n",
    "plt.scatter(x, z, marker='^', color = 'm')\n",
    "plt.show()"
   ]
  },
  {
   "cell_type": "code",
   "execution_count": null,
   "metadata": {},
   "outputs": [],
   "source": []
  },
  {
   "cell_type": "code",
   "execution_count": null,
   "metadata": {},
   "outputs": [],
   "source": []
  },
  {
   "cell_type": "code",
   "execution_count": null,
   "metadata": {},
   "outputs": [],
   "source": [
    "#3. D                                             Pie Chart\n",
    "\n",
    "\n",
    "\n",
    "'''When to use a pie-chart?  :   To show the composition of something. A pie chart shows a static number and \n",
    "                                 how categories represent part of a whole'''\n",
    "\n",
    "\n",
    "\n",
    "\n",
    "labels = 'Taxes','Overhead','Entertainment'\n",
    "\n",
    "sizes = [25,32,12]\n",
    "colors = ['c','m','b']\n",
    "          \n",
    "plt.pie(sizes, labels = labels, colors = colors, startangle = 90, shadow = True, explode = (0.03,0.05,0))\n",
    "plt.axis('equal')          \n",
    "plt.show()"
   ]
  },
  {
   "cell_type": "code",
   "execution_count": null,
   "metadata": {},
   "outputs": [],
   "source": []
  },
  {
   "cell_type": "code",
   "execution_count": null,
   "metadata": {},
   "outputs": [],
   "source": [
    "#3. E                                            heatmap()\n",
    "\n",
    "\"\"\" Why to consider the heatmap? - A heat map (or heatmap) is a graphical representation of data where \n",
    "    the individual values contained in a matrix are represented as colors. It is a bit like looking a\n",
    "    data table from above. It is really useful to display a general view of numerical data, not to\n",
    "    extract specific data point.\"\"\"\n",
    "\n",
    "import matplotlib.pyplot as plt\n",
    "import numpy as np\n",
    "\n",
    "a = np.random.random((16, 16))\n",
    "plt.imshow(a, cmap='hot', interpolation='nearest')\n",
    "plt.show()"
   ]
  }
 ],
 "metadata": {
  "kernelspec": {
   "display_name": "Python 3",
   "language": "python",
   "name": "python3"
  },
  "language_info": {
   "codemirror_mode": {
    "name": "ipython",
    "version": 3
   },
   "file_extension": ".py",
   "mimetype": "text/x-python",
   "name": "python",
   "nbconvert_exporter": "python",
   "pygments_lexer": "ipython3",
   "version": "3.6.4"
  }
 },
 "nbformat": 4,
 "nbformat_minor": 2
}

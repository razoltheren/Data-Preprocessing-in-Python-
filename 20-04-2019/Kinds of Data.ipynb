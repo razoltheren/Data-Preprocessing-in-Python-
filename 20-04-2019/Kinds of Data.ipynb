{
 "cells": [
  {
   "cell_type": "markdown",
   "metadata": {},
   "source": [
    "### There are two main reasons for creating visuals using data:\n",
    "\n",
    "Exploratory Analysis is done when you are searching for insights. These visualizations don't need to be perfect. You are using plots to find insights, but they don't need to be aesthetically appealing. You are the consumer, and you need to be able to find the answer to your question from these plots.\n",
    "\n",
    "\n",
    "Explanatory Analysis is done when you are providing your results for others. These visualizations need to provide you the emphasis you need to convey your message. They should be accurate, insightful, and visually appealing.\n",
    "\n",
    "##### The five steps of the data analysis process:\n",
    "\n",
    "* Extract - Obtain the data from a spreadsheet, SQL, the web, etc.\n",
    "\n",
    "* Clean - Here we could use exploratory visuals.\n",
    "\n",
    "* Explore - Here we use exploratory visuals.\n",
    "\n",
    "* Analyze - Here we might use either exploratory or explanatory visuals.\n",
    "\n",
    "* Share - Here is where explanatory visuals live."
   ]
  },
  {
   "cell_type": "markdown",
   "metadata": {},
   "source": [
    "### Python Data Visualization Libraries\n",
    "In this course, you will make use of the following libraries for creating data visualizations:\n",
    "\n",
    "* matplotlib: a versatile library for visualizations, but it can take some code effort to put together common visualizations.\n",
    "* seaborn: built on top of matplotlib, adds a number of functions to make common statistical visualizations easier to generate.\n",
    "* pandas: while this library includes some convenient methods for visualizing data that hook into matplotlib, we'll mainly be using it for its main purpose as a general tool for working with data.\n",
    "\n",
    "All together, these libraries will allow us to visualize data in a balance of productivity and flexibility, for both exploratory as well as explanatory analyses.\n"
   ]
  },
  {
   "cell_type": "code",
   "execution_count": null,
   "metadata": {},
   "outputs": [],
   "source": []
  },
  {
   "cell_type": "markdown",
   "metadata": {},
   "source": [
    "### Design of Visualizations"
   ]
  },
  {
   "cell_type": "markdown",
   "metadata": {},
   "source": [
    "#### Visuals can be bad if they:\n",
    "\n",
    "* Don't convey the message.\n",
    "* Are misleading."
   ]
  },
  {
   "cell_type": "markdown",
   "metadata": {},
   "source": [
    "### The Four Levels of Measurement\n",
    "In order to choose an appropriate plot type or method of analysis for your data, you need to understand the types of data you have. One common method divides the data into four levels of measurement:\n",
    "\n",
    "##### Qualitative or categorical types (non-numeric types)\n",
    "1. `Nominal data`: pure labels without inherent order\n",
    "2. `Ordinal data`: labels with an intrinsic order or ranking (comparison operations can be made between values)\n",
    "##### Quantitative or numeric types\n",
    "3. `Interval data`: numeric values where absolute differences are meaningful (addition and subtraction operations can be made)\n",
    "4. `Ratio data`: numeric values where relative differences are meaningful (multiplication and division operations can be made)\n",
    "All quantitative-type variables also come in one of two varieties: discrete and continuous.\n",
    "\n",
    "Discrete quantitative variables can only take on a specific set values at some maximum level of precision.\n",
    "Continuous quantitative variables can (hypothetically) take on values to any level of precision.\n",
    "When exploring your data, the most important thing to consider first is whether your data is qualitative or quantitative. In later lessons, you will see how this distinction impacts your choice of plots."
   ]
  },
  {
   "cell_type": "markdown",
   "metadata": {},
   "source": [
    "Color can both help and hurt a data visualization. Three tips for using color effectively.\n",
    "\n",
    "* Before adding color to a visualization, start with black and white.\n",
    "\n",
    "* When using color, use less intense colors - not all the colors of the rainbow, which is the default in many software applications.\n",
    "\n",
    "* Color for communication. Use color to highlight your message and separate groups of interest. Don't add color just to have color in your visualization."
   ]
  },
  {
   "cell_type": "code",
   "execution_count": null,
   "metadata": {},
   "outputs": [],
   "source": []
  },
  {
   "cell_type": "markdown",
   "metadata": {},
   "source": []
  },
  {
   "cell_type": "code",
   "execution_count": null,
   "metadata": {},
   "outputs": [],
   "source": [
    "## Constructing a graph for the nan values:\n",
    "import pandas as pd\n",
    "import numpy as np\n",
    "\n",
    "## visualization tools in Python:\n",
    "import matplotlib.pyplot as plt \n",
    "import seaborn as sb\n",
    "\n",
    "% matplotlib inline\n"
   ]
  },
  {
   "cell_type": "code",
   "execution_count": null,
   "metadata": {},
   "outputs": [],
   "source": [
    "pokemon = pd.read_csv('pokemon.csv')\n",
    "print(pokemon.shape)\n",
    "pokemon.head(3)"
   ]
  },
  {
   "cell_type": "code",
   "execution_count": null,
   "metadata": {},
   "outputs": [],
   "source": [
    "sb.countplot(data = pokemon, x = 'generation_id');\n",
    "\n",
    "## by using the  ';', I am suppressing the printing object information.\n",
    "## We can see that most pokemon's were introduced in generation 1,3 and 5\n"
   ]
  },
  {
   "cell_type": "code",
   "execution_count": null,
   "metadata": {},
   "outputs": [],
   "source": []
  },
  {
   "cell_type": "markdown",
   "metadata": {},
   "source": [
    "### We can see that most pokemon's were generated in the 1,3 and 5th generation and least in 6 and 7th."
   ]
  },
  {
   "cell_type": "code",
   "execution_count": null,
   "metadata": {},
   "outputs": [],
   "source": [
    "sb.color_palette()   # this list contains the colors in the set of the arguments. So accordingly I can choose colors."
   ]
  },
  {
   "cell_type": "code",
   "execution_count": null,
   "metadata": {},
   "outputs": [],
   "source": [
    "## as I want just one color I will take one tuple in the list, and will just assign it to the variable.\n",
    "base_color = sb.color_palette()[1]"
   ]
  },
  {
   "cell_type": "code",
   "execution_count": null,
   "metadata": {},
   "outputs": [],
   "source": [
    "## now the revised plot is much cleaner.\n",
    "sb.countplot(data = pokemon, x = 'generation_id', color = base_color);"
   ]
  },
  {
   "cell_type": "code",
   "execution_count": null,
   "metadata": {},
   "outputs": [],
   "source": [
    "## Now I want to order the plot. As it is ordinal. \n",
    "# So I can just leverage the pandas \n",
    "\n",
    "print(pokemon['generation_id'].value_counts().index)  #by . index I am sorting it on the frequecny basis.\n",
    "\n",
    "\n",
    "gen_order = pokemon['generation_id'].value_counts().index"
   ]
  },
  {
   "cell_type": "code",
   "execution_count": null,
   "metadata": {},
   "outputs": [],
   "source": [
    "# Now have sorted the values o the basis of frequencies.\n",
    "sb.countplot(data = pokemon, x = 'generation_id', color = base_color, order = gen_order);\n"
   ]
  },
  {
   "cell_type": "code",
   "execution_count": null,
   "metadata": {},
   "outputs": [],
   "source": []
  },
  {
   "cell_type": "code",
   "execution_count": null,
   "metadata": {},
   "outputs": [],
   "source": [
    "## Let us look at the 'type1' column. As it has got more frequencies:\n",
    "\n",
    "sb.countplot(data = pokemon, x = 'type_1', color = base_color);\n",
    "## we can notice that the column names are overlapping: This is something I need to avoid."
   ]
  },
  {
   "cell_type": "code",
   "execution_count": null,
   "metadata": {},
   "outputs": [],
   "source": [
    "## just in order ot get rid of the overlapping of the names I am writhng below thing.\n",
    "sb.countplot(data = pokemon, x = 'type_1', color = base_color);\n",
    "plt.xticks(rotation = 90);\n",
    "# I can use matplotliib function to rotate the variable names counter wise to restrain the overlap."
   ]
  },
  {
   "cell_type": "markdown",
   "metadata": {},
   "source": [
    "### we can see that grass and fire are the first type taken by the pokemon and flying with the least type"
   ]
  },
  {
   "cell_type": "code",
   "execution_count": null,
   "metadata": {},
   "outputs": [],
   "source": [
    "## Alternatively we can also change the frequencies from the rows to the columns:\n",
    "# just by changing the types from 'x' to y.\n",
    "sb.countplot(data = pokemon, y = 'type_1', color = base_color);"
   ]
  },
  {
   "cell_type": "code",
   "execution_count": null,
   "metadata": {},
   "outputs": [],
   "source": [
    "#3 just ordering the above types.\n",
    "print(pokemon['type_1'].value_counts().index);\n",
    "\n",
    "ordering = pokemon['type_1'].value_counts().index\n",
    "\n",
    "sb.countplot(data = pokemon, y = 'type_1', color = base_color, order = ordering);"
   ]
  },
  {
   "cell_type": "code",
   "execution_count": null,
   "metadata": {},
   "outputs": [],
   "source": []
  },
  {
   "cell_type": "code",
   "execution_count": null,
   "metadata": {},
   "outputs": [],
   "source": [
    "pokemon.columns"
   ]
  },
  {
   "cell_type": "code",
   "execution_count": null,
   "metadata": {},
   "outputs": [],
   "source": []
  },
  {
   "cell_type": "markdown",
   "metadata": {},
   "source": [
    "## Hitograms for Numerical data"
   ]
  },
  {
   "cell_type": "code",
   "execution_count": null,
   "metadata": {},
   "outputs": [],
   "source": [
    "\n",
    "plt.hist(data = pokemon, x = 'speed');\n",
    "\n",
    "## What will we notice here\n",
    "# by default matplotlib will plot 10 bins over here. \n",
    "# Bin boundaries are also not particularly aligned with tick marks making interpretation trickier"
   ]
  },
  {
   "cell_type": "code",
   "execution_count": null,
   "metadata": {},
   "outputs": [],
   "source": [
    "plt.hist(data = pokemon, x = 'speed', bins = 20)\n",
    "# here I can see the bins edges and counts return by hist \n",
    "# fact that bins eges are non integers and the data values are integers, will mean that some bins will \n",
    "# cover more integer values than others\n",
    "## Specifying the bin boundries explicitly will make bins more useful"
   ]
  },
  {
   "cell_type": "code",
   "execution_count": null,
   "metadata": {},
   "outputs": [],
   "source": []
  },
  {
   "cell_type": "code",
   "execution_count": null,
   "metadata": {},
   "outputs": [],
   "source": [
    "## seaborn can also help in creating the histogram by using distplot\n",
    "\n",
    "sb.distplot(pokemon['speed'])\n",
    "\n",
    "# a line here is the data density estimate of the data distribution. total area under the curve is set to be \n",
    "# equal to one. \n"
   ]
  },
  {
   "cell_type": "code",
   "execution_count": null,
   "metadata": {},
   "outputs": [],
   "source": [
    "## I can get rid of the density function \n",
    "sb.distplot(pokemon['speed'], kde = False);"
   ]
  },
  {
   "cell_type": "code",
   "execution_count": null,
   "metadata": {},
   "outputs": [],
   "source": []
  },
  {
   "cell_type": "code",
   "execution_count": null,
   "metadata": {},
   "outputs": [],
   "source": [
    "bins = np.arange(0, pokemon['height'].max()+ 0.5, 0.5)\n",
    "plt.hist(data = pokemon, x = 'height', bins = bins);"
   ]
  }
 ],
 "metadata": {
  "kernelspec": {
   "display_name": "Python 3",
   "language": "python",
   "name": "python3"
  },
  "language_info": {
   "codemirror_mode": {
    "name": "ipython",
    "version": 3
   },
   "file_extension": ".py",
   "mimetype": "text/x-python",
   "name": "python",
   "nbconvert_exporter": "python",
   "pygments_lexer": "ipython3",
   "version": "3.6.4"
  }
 },
 "nbformat": 4,
 "nbformat_minor": 2
}

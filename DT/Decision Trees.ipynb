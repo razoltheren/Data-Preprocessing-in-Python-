{
 "cells": [
  {
   "cell_type": "markdown",
   "metadata": {},
   "source": [
    "* ! pip install tree\n",
    "* from tree import *"
   ]
  },
  {
   "cell_type": "code",
   "execution_count": 1,
   "metadata": {},
   "outputs": [],
   "source": [
    "import pandas as pd, numpy as np, seaborn as sns, matplotlib.pyplot as plt, statsmodels.api as sm\n",
    "%matplotlib inline"
   ]
  },
  {
   "cell_type": "markdown",
   "metadata": {},
   "source": [
    "## Introduction to Decision Trees:\n",
    "\n",
    "Decision trees are machine learning models that try to find patterns in the features of data points. Take a look at the tree on this page. This tree tries to predict whether a student will get an A on their next test.\n",
    "\n",
    "By asking questions like “What is the student’s average grade in the class” the decision tree tries to get a better understanding of their chances on the next test.\n",
    "\n",
    "In order to make a classification, this classifier needs a data point with four features:\n",
    "\n",
    "The student’s average grade in the class.\n",
    "The number of hours the student plans on studying for the test.\n",
    "The number of hours the student plans on sleeping the night before the test.\n",
    "Whether or not the student plans on cheating.\n",
    "For example, let’s say that somebody has a “B” average in the class, studied for more than 3 hours, slept less than 5 hours before the test, and doesn’t plan to cheat. If we start at the top of the tree and take the correct path based on that data, we’ll arrive at a leaf node that predicts the person will not get an A on the next test.\n",
    "\n",
    "In this course, you’ll learn how to create a tree like this!"
   ]
  },
  {
   "cell_type": "markdown",
   "metadata": {},
   "source": [
    "### Cars\n",
    "In this lesson, we’ll create a decision tree build off of a dataset about cars. When considering buying a car, what factors go into making that decision?\n",
    "\n",
    "Each car can fall into four different classes which represent how satisfied someone would be with purchasing the car — unacc (unacceptable), acc (acceptable), good, vgood.\n",
    "\n",
    "Each car has 6 features:\n",
    "\n",
    "* The price of the car which can be \"vhigh\", \"high\", \"med\", or \"low\".\n",
    "* The cost of maintaining the car which can be \"vhigh\", \"high\", \"med\", or \"low\".\n",
    "* The number of doors which can be \"2\", \"3\", \"4\", \"5more\".\n",
    "* The number of people the car can hold which can be \"2\", \"4\", or \"more\".\n",
    "* The size of the trunk which can be \"small\", \"med\", or \"big\".\n",
    "* The safety rating of the car which can be \"low\", \"med\", or \"high\".\n",
    "\n",
    "We’ve imported a dataset of cars behind the scenes and created a decision tree using that data. In this lesson, you’ll learn how to build that tree yourself, but for now, let’s see what the tree can do!"
   ]
  },
  {
   "cell_type": "markdown",
   "metadata": {},
   "source": [
    "### Q1\n",
    "Create a variable named car. We’re going to be feeding car into tree, the decision tree we’ve made behind the scenes. car should be a list of six items — one value for each feature.\n",
    "\n",
    "Try to make is a car that you think would have the label vgood and we’ll see if the decision tree agrees with you!\n",
    "\n",
    "Make sure your features are in the order listed above."
   ]
  },
  {
   "cell_type": "code",
   "execution_count": 3,
   "metadata": {},
   "outputs": [],
   "source": [
    "car = ['low', 'vhigh','4','4','big','high']"
   ]
  },
  {
   "cell_type": "code",
   "execution_count": null,
   "metadata": {},
   "outputs": [],
   "source": []
  },
  {
   "cell_type": "markdown",
   "metadata": {},
   "source": [
    "### Gini Impurity\n",
    "Consider the two trees below. Which tree would be more useful as a model that tries to predict whether someone would get an A in a class?\n",
    "Let’s say you use the top tree. You’ll end up at a leaf node where the label is up for debate. The training data has labels from both classes! If you use the bottom tree, you’ll end up at a leaf where there’s only one type of label. There’s no debate at all! We’d be much more confident about our classification if we used the bottom tree.\n",
    "\n",
    "This idea can be quantified by calculating the Gini impurity of a set of data points. To find the Gini impurity, start at 1 and subtract the squared percentage of each label in the set. For example, if a data set had three items of class A and one item of class B, the Gini impurity of the set would be\n",
    "\n",
    "1 - (3/4)** 2 - (1/4)** 2 = 0.375\n",
    "\n",
    "\n",
    "If a data set has only one class, you’d end up with a Gini impurity of 0. The lower the impurity, the better the decision tree!\n",
    "\n"
   ]
  },
  {
   "cell_type": "markdown",
   "metadata": {},
   "source": [
    "## Ques 1\n",
    "Let’s find the Gini impurity of the set of labels we’ve given you.\n",
    "\n",
    "Let’s start by creating a variable named impurity and set it to 1."
   ]
  },
  {
   "cell_type": "code",
   "execution_count": 42,
   "metadata": {},
   "outputs": [],
   "source": [
    "labels = [\"unacc\", \"unacc\", \"acc\", \"acc\", \"good\", \"good\"]\n",
    "impurity = 1"
   ]
  },
  {
   "cell_type": "markdown",
   "metadata": {},
   "source": [
    "### Ques 2\n",
    "We now want to count up how many times every unique label is in the dataset. "
   ]
  },
  {
   "cell_type": "code",
   "execution_count": 43,
   "metadata": {},
   "outputs": [],
   "source": [
    "label_counts = {}\n",
    "for i in labels:\n",
    "    if i not in label_counts:\n",
    "        label_counts[i] = 1\n",
    "    else:\n",
    "        label_counts[i] += 1 "
   ]
  },
  {
   "cell_type": "markdown",
   "metadata": {},
   "source": [
    "### Ques 3\n",
    "Let’s find the probability of each label given the dataset. Loop through each label in label_counts.\n",
    "\n",
    "Inside the for loop, create a variable named probability_of_label. Set it equal to the label count divided by the total number of labels in the dataset.\n",
    "\n",
    "For every label, the count associated with that label can be found at label_counts[label].\n",
    "\n",
    "We can find the total number of labels in the dataset with len(labels)."
   ]
  },
  {
   "cell_type": "code",
   "execution_count": 44,
   "metadata": {},
   "outputs": [],
   "source": [
    "for label in label_counts:\n",
    "    probability_of_label = label_counts[label]/len(labels)\n",
    "    "
   ]
  },
  {
   "cell_type": "code",
   "execution_count": 45,
   "metadata": {},
   "outputs": [
    {
     "data": {
      "text/plain": [
       "0.3333333333333333"
      ]
     },
     "execution_count": 45,
     "metadata": {},
     "output_type": "execute_result"
    }
   ],
   "source": [
    "probability_of_label"
   ]
  },
  {
   "cell_type": "markdown",
   "metadata": {},
   "source": [
    "### Q4\n",
    "We now want to take probability_of_label, square it, and subtract it from impurity.\n",
    "\n",
    "Inside the for loop, subtract probability_of_label squared from impurity.\n",
    "\n",
    "In Python, you can square x by using x ** 2."
   ]
  },
  {
   "cell_type": "code",
   "execution_count": 46,
   "metadata": {},
   "outputs": [],
   "source": [
    "for label in label_counts:\n",
    "    probability_of_label = label_counts[label]/len(labels)\n",
    "    impurity -= (probability_of_label ** 2) "
   ]
  },
  {
   "cell_type": "code",
   "execution_count": 47,
   "metadata": {},
   "outputs": [
    {
     "data": {
      "text/plain": [
       "0.6666666666666665"
      ]
     },
     "execution_count": 47,
     "metadata": {},
     "output_type": "execute_result"
    }
   ],
   "source": [
    "impurity"
   ]
  },
  {
   "cell_type": "markdown",
   "metadata": {},
   "source": [
    "### Q5 \n",
    "Outside of the for loop, print impurity.\n",
    "\n",
    "Test out some of the other labels that we’ve given you by uncommenting them. Which one do you expect to have the lowest impurity?\n",
    "\n",
    "In the next exercise, we’ll put all of your code into a function. If you want a challenge, try creating the function yourself! Ours is named gini(), takes labels as a parameter, and returns impurity."
   ]
  },
  {
   "cell_type": "code",
   "execution_count": 49,
   "metadata": {},
   "outputs": [
    {
     "name": "stdout",
     "output_type": "stream",
     "text": [
      "Counter({'unacc': 6})\n",
      "0.0\n"
     ]
    }
   ],
   "source": [
    "#labels = [\"unacc\",\"unacc\",\"unacc\", \"good\", \"vgood\", \"vgood\"]\n",
    "#labels = [\"unacc\", \"unacc\", \"unacc\", \"unacc\", \"unacc\", \"unacc\"]\n",
    "impurity = 1\n",
    "label_counts = Counter(labels)\n",
    "print(label_counts)\n",
    "\n",
    "for label in label_counts:\n",
    "    probability_of_label = label_counts[label]/ len(labels)\n",
    "    impurity -= (probability_of_label ** 2)\n",
    "print(impurity)"
   ]
  },
  {
   "cell_type": "markdown",
   "metadata": {},
   "source": [
    "* The dataset that has only one type of label should have an impurity of 0"
   ]
  },
  {
   "cell_type": "code",
   "execution_count": null,
   "metadata": {},
   "outputs": [],
   "source": []
  },
  {
   "cell_type": "markdown",
   "metadata": {},
   "source": [
    "## Information Gain:\n",
    "We know that we want to end up with leaves with a low Gini Impurity, but we still need to figure out which features to split on in order to achieve this. For example, is it better if we split our dataset of students based on how much sleep they got or how much time they spent studying?\n",
    "\n",
    "To answer this question, we can calculate the information gain of splitting the data on a certain feature. Information gain measures difference in the impurity of the data before and after the split. For example, let’s say you had a dataset with an impurity of 0.5. After splitting the data based on a feature, you end up with three groups with impurities 0, 0.375, and 0. The information gain of splitting the data in that way is 0.5 - 0 - 0.375 - 0 = 0.125.\n",
    "\n"
   ]
  },
  {
   "cell_type": "code",
   "execution_count": 84,
   "metadata": {},
   "outputs": [
    {
     "data": {
      "image/png": "[encoded data removed]",
      "text/plain": [
       "<IPython.core.display.Image object>"
      ]
     },
     "execution_count": 84,
     "metadata": {},
     "output_type": "execute_result"
    }
   ],
   "source": [
    "Image('four.png')"
   ]
  },
  {
   "cell_type": "markdown",
   "metadata": {},
   "source": [
    "Not bad! By splitting the data in that way, we’ve gained some information about how the data is structured — the datasets after the split are purer than they were before the split. The higher the information gain the better — if information gain is 0, then splitting the data on that feature was useless! Unfortunately, right now it’s possible for information gain to be negative. In the next exercise, we’ll calculate weighted information gain to fix that problem."
   ]
  },
  {
   "cell_type": "markdown",
   "metadata": {},
   "source": [
    "### Q 1\n",
    "We’ve given you a set of labels named unsplit_labels and two different ways of splitting those labels into smaller subsets. Let’s calculate the information gain of splitting the labels in this way.\n",
    "\n",
    "At the bottom of your code, begin by creating a variable named info_gain. info_gain should start at the Gini impurity of the unsplit_labels."
   ]
  },
  {
   "cell_type": "code",
   "execution_count": 51,
   "metadata": {},
   "outputs": [],
   "source": [
    "from collections import Counter\n",
    "\n",
    "unsplit_labels = [\"unacc\", \"unacc\", \"unacc\", \"unacc\", \"unacc\", \"unacc\", \"good\", \"good\", \"good\", \"good\", \"vgood\", \"vgood\", \"vgood\"]\n",
    "\n",
    "split_labels_1 = [\n",
    "  [\"unacc\", \"unacc\", \"unacc\", \"unacc\", \"unacc\", \"unacc\", \"good\", \"good\", \"vgood\"], \n",
    "  [ \"good\", \"good\"], \n",
    "  [\"vgood\", \"vgood\"]\n",
    "]\n",
    "\n",
    "split_labels_2 = [\n",
    "  [\"unacc\", \"unacc\", \"unacc\", \"unacc\",\"unacc\", \"unacc\", \"good\", \"good\", \"good\", \"good\"], \n",
    "  [\"vgood\", \"vgood\", \"vgood\"]\n",
    "]\n",
    "\n",
    "def gini(dataset):\n",
    "    impurity = 1\n",
    "    label_counts = Counter(dataset)\n",
    "    for label in label_counts:\n",
    "        prob_of_label = label_counts[label] / len(dataset)\n",
    "        impurity -= prob_of_label ** 2\n",
    "    return impurity"
   ]
  },
  {
   "cell_type": "code",
   "execution_count": 53,
   "metadata": {},
   "outputs": [
    {
     "name": "stdout",
     "output_type": "stream",
     "text": [
      "0.6390532544378698\n"
     ]
    }
   ],
   "source": [
    "info_gain = gini(unsplit_labels)\n",
    "print(info_gain)"
   ]
  },
  {
   "cell_type": "markdown",
   "metadata": {},
   "source": [
    "### Ques 2\n",
    "\n",
    "We now want to subtract the impurity of each subset in split_labels_1 from info_gain.\n",
    "\n",
    "Loop through every subset in split_labels_1. We want to change the value of info_gain.\n",
    "\n",
    "For every subset, calculate the Gini impurity and subtract it from info_gain."
   ]
  },
  {
   "cell_type": "code",
   "execution_count": 54,
   "metadata": {},
   "outputs": [],
   "source": [
    "for subset in split_labels_1:\n",
    "    info_gain -= gini(subset)"
   ]
  },
  {
   "cell_type": "markdown",
   "metadata": {},
   "source": [
    "### Ques 3\n",
    "Outside of your loop, print info_gain.\n",
    "\n",
    "We’ve given you a second way to split the data. Instead of looping through the subsets in split_labels_1, loop through the subsets in split_labels_2.\n",
    "\n",
    "Which split resulted in more information gain?\n",
    "\n",
    "Once again, in the next exercise, we’ll put the code you wrote into a function named information_gain that takes unsplit_labels and split_labels as parameters."
   ]
  },
  {
   "cell_type": "code",
   "execution_count": 57,
   "metadata": {},
   "outputs": [
    {
     "name": "stdout",
     "output_type": "stream",
     "text": [
      "0.14522609394404257\n"
     ]
    }
   ],
   "source": [
    "print(info_gain)"
   ]
  },
  {
   "cell_type": "code",
   "execution_count": null,
   "metadata": {},
   "outputs": [],
   "source": []
  },
  {
   "cell_type": "markdown",
   "metadata": {},
   "source": [
    "## Weighted Information Gain\n",
    "\n",
    "We’re not quite done calculating the information gain of a set of objects. The sizes of the subset that get created after the split are important too! For example, the image below shows two sets with the same impurity. Which set would you rather have in your decision tree?\n",
    "\n",
    "\n"
   ]
  },
  {
   "cell_type": "code",
   "execution_count": 58,
   "metadata": {},
   "outputs": [
    {
     "data": {
      "image/png": "[encoded data removed]",
      "text/plain": [
       "<IPython.core.display.Image object>"
      ]
     },
     "execution_count": 58,
     "metadata": {},
     "output_type": "execute_result"
    }
   ],
   "source": [
    "from IPython.display import Image\n",
    "Image(\"one.png\")"
   ]
  },
  {
   "cell_type": "markdown",
   "metadata": {},
   "source": [
    "Both of these sets are perfectly pure, but the purity of the second set is much more meaningful. Because there are so many items in the second set, we can be confident that whatever we did to produce this set wasn’t an accident.\n",
    "\n",
    "It might be helpful to think about the inverse as well. Consider these two sets with the same impurity:\n",
    "\n",
    "\n"
   ]
  },
  {
   "cell_type": "code",
   "execution_count": 59,
   "metadata": {},
   "outputs": [
    {
     "data": {
      "image/png": "[encoded data removed]",
      "text/plain": [
       "<IPython.core.display.Image object>"
      ]
     },
     "execution_count": 59,
     "metadata": {},
     "output_type": "execute_result"
    }
   ],
   "source": [
    "Image(\"two.png\")"
   ]
  },
  {
   "cell_type": "markdown",
   "metadata": {},
   "source": [
    "Both of these sets are completely impure. However, that impurity is much more meaningful in the set with more instances. We know that we are going to have to do a lot more work in order to completely separate the two classes. Meanwhile, the impurity of the set with two items isn’t as important. We know that we’ll only need to split the set one more time in order to make two pure sets.\n",
    "\n",
    "Let’s modify the formula for information gain to reflect the fact that the size of the set is relevant. Instead of simply subtracting the impurity of each set, we’ll subtract the weighted impurity of each of the split sets. If the data before the split contained 20 items and one of the resulting splits contained 2 items, then the weighted impurity of that subset would be 2/20 * impurity. We’re lowering the importance of the impurity of sets with few elements.\n",
    "\n"
   ]
  },
  {
   "cell_type": "code",
   "execution_count": 60,
   "metadata": {},
   "outputs": [
    {
     "data": {
      "image/png": "[encoded data removed]",
      "text/plain": [
       "<IPython.core.display.Image object>"
      ]
     },
     "execution_count": 60,
     "metadata": {},
     "output_type": "execute_result"
    }
   ],
   "source": [
    "Image(\"three.png\")"
   ]
  },
  {
   "cell_type": "markdown",
   "metadata": {},
   "source": [
    "Now that we can calculate the information gain using weighted impurity, let’s do that for every possible feature. If we do this, we can find the best feature to split the data on."
   ]
  },
  {
   "cell_type": "code",
   "execution_count": 61,
   "metadata": {},
   "outputs": [],
   "source": [
    "from collections import Counter\n",
    "\n",
    "cars = [['med', 'low', '3', '4', 'med', 'med'], ['med', 'vhigh', '4', 'more', 'small', 'high'], ['high', 'med', '3', '2', 'med', 'low'], ['med', 'low', '4', '4', 'med', 'low'], ['med', 'low', '5more', '2', 'big', 'med'], ['med', 'med', '2', 'more', 'big', 'high'], ['med', 'med', '2', 'more', 'med', 'med'], ['vhigh', 'vhigh', '2', '2', 'med', 'low'], ['high', 'med', '4', '2', 'big', 'low'], ['low', 'low', '2', '4', 'big', 'med']]\n",
    "\n",
    "car_labels = ['acc', 'acc', 'unacc', 'unacc', 'unacc', 'vgood', 'acc', 'unacc', 'unacc', 'good']\n",
    "\n",
    "def split(dataset, labels, column):\n",
    "    data_subsets = []\n",
    "    label_subsets = []\n",
    "    counts = list(set([data[column] for data in dataset]))\n",
    "    counts.sort()\n",
    "    for k in counts:\n",
    "        new_data_subset = []\n",
    "        new_label_subset = []\n",
    "        for i in range(len(dataset)):\n",
    "            if dataset[i][column] == k:\n",
    "                new_data_subset.append(dataset[i])\n",
    "                new_label_subset.append(labels[i])\n",
    "        data_subsets.append(new_data_subset)\n",
    "        label_subsets.append(new_label_subset)\n",
    "    return data_subsets, label_subsets\n",
    "\n",
    "def gini(dataset):\n",
    "  impurity = 1\n",
    "  label_counts = Counter(dataset)\n",
    "  for label in label_counts:\n",
    "    prob_of_label = label_counts[label] / len(dataset)\n",
    "    impurity -= prob_of_label ** 2\n",
    "  return impurity\n",
    "\n",
    "def information_gain(starting_labels, split_labels):\n",
    "  info_gain = gini(starting_labels)\n",
    "  for subset in split_labels:\n",
    "    # Multiply gini(subset) by the correct percentage below\n",
    "    info_gain -= gini(subset)\n",
    "  return info_gain\n"
   ]
  },
  {
   "cell_type": "markdown",
   "metadata": {},
   "source": [
    "### Ques 1 \n",
    "Let’s update the information_gain function to make it calculate weighted information gain.\n",
    "\n",
    "When subtracting the impurity of a subset from info_gain, first multiply the impurity by the correct percentage.\n",
    "\n",
    "The percentage should be the number of labels in the subset, len(subset), divided by the number of labels before the split, len(starting_labels)."
   ]
  },
  {
   "cell_type": "code",
   "execution_count": 62,
   "metadata": {},
   "outputs": [],
   "source": [
    "def information_gain(starting_labels, split_labels):\n",
    "  info_gain = gini(starting_labels)\n",
    "  for subset in split_labels:\n",
    "    # Multiply gini(subset) by the correct percentage below\n",
    "    info_gain -= gini(subset) * len(subset)/len(starting_labels)\n",
    "  return info_gain"
   ]
  },
  {
   "cell_type": "markdown",
   "metadata": {},
   "source": [
    "### Ques 2\n",
    "We’ve given you a split() function along with ten cars and the car_labels associated with those cars.\n",
    "\n",
    "After your information_gain() function, call split() using cars, car_labels and 3 as a parameter. This will split the data based on the third index (That feature was the number of people the car could hold).\n",
    "\n",
    "split() returns two lists. Create two variables named split_data and split_labels and set them equal to the result of the split function.\n",
    "\n",
    "We’ll explore what these variables contain in a second!\n",
    "\n"
   ]
  },
  {
   "cell_type": "code",
   "execution_count": 63,
   "metadata": {},
   "outputs": [],
   "source": [
    "split_data, split_labels = split(cars, car_labels, 3)"
   ]
  },
  {
   "cell_type": "markdown",
   "metadata": {},
   "source": [
    "### Ques 3\n",
    "Take a look at what these variables are. Begin by printing split_data. It’s kind of hard to tell what’s going on there! There are so many lists of lists!\n",
    "\n",
    "Try printing the length of split_data. What do you think this is telling you?\n",
    "\n",
    "Also try printing split_data[0]. What do you notice about the items at index 3 of all these lists? (Remember, when we called split, we used 3 as the split index).\n",
    "\n",
    "Try printing split_data[1]. What do you notice about the items at index 3 of these lists?"
   ]
  },
  {
   "cell_type": "code",
   "execution_count": 65,
   "metadata": {},
   "outputs": [
    {
     "name": "stdout",
     "output_type": "stream",
     "text": [
      "3\n",
      "[['high', 'med', '3', '2', 'med', 'low'], ['med', 'low', '5more', '2', 'big', 'med'], ['vhigh', 'vhigh', '2', '2', 'med', 'low'], ['high', 'med', '4', '2', 'big', 'low']]\n",
      "[['med', 'low', '3', '4', 'med', 'med'], ['med', 'low', '4', '4', 'med', 'low'], ['low', 'low', '2', '4', 'big', 'med']]\n"
     ]
    }
   ],
   "source": [
    "print(len(split_data))\n",
    "print(split_data[0])\n",
    "print(split_data[1])"
   ]
  },
  {
   "cell_type": "code",
   "execution_count": null,
   "metadata": {},
   "outputs": [],
   "source": []
  },
  {
   "cell_type": "markdown",
   "metadata": {},
   "source": [
    "### Q4\n",
    "\n",
    "We now know that split_data contains the cars split into different subsets. split_labels contains the labels of those cars split into different subsets.\n",
    "\n",
    "Use those split labels to find the information gain of splitting on index 3! Remember, the information_gain() function takes a list of the labels before the split (car_labels), and a list of the subsets of labels after the split (split_labels).\n",
    "\n",
    "Call this function and print the result! How did we do when we split the function on index 3?"
   ]
  },
  {
   "cell_type": "code",
   "execution_count": 66,
   "metadata": {},
   "outputs": [
    {
     "name": "stdout",
     "output_type": "stream",
     "text": [
      "0.3066666666666667\n"
     ]
    }
   ],
   "source": [
    "print(information_gain(car_labels, split_labels))"
   ]
  },
  {
   "cell_type": "code",
   "execution_count": null,
   "metadata": {},
   "outputs": [],
   "source": []
  },
  {
   "cell_type": "markdown",
   "metadata": {},
   "source": [
    "### Ques 5\n",
    "\n",
    "We found the information gain when splitting on feature 3. Let’s do the same for every possible feature.\n",
    "\n",
    "Loop through all of the features of our data to find the best one to split on! Each car has six features, so we want to loop through the indices 0 through 5.\n",
    "\n",
    "Inside your for loop, call split() using the unsplit data, the unsplit labels, and the index that you’re looping through.\n",
    "\n",
    "Call information_gain() using the resulting split labels and print the results. Which feature produces the most information gain?"
   ]
  },
  {
   "cell_type": "code",
   "execution_count": 68,
   "metadata": {},
   "outputs": [
    {
     "name": "stdout",
     "output_type": "stream",
     "text": [
      "0.27333333333333343\n",
      "0.04000000000000001\n",
      "0.10666666666666669\n",
      "0.3066666666666667\n",
      "0.15000000000000002\n",
      "0.29000000000000004\n"
     ]
    }
   ],
   "source": [
    "for i in range(0, 6):\n",
    "    split_data, split_labels = split(cars, car_labels, i)\n",
    "    print(information_gain(car_labels, split_labels))"
   ]
  },
  {
   "cell_type": "code",
   "execution_count": null,
   "metadata": {},
   "outputs": [],
   "source": []
  },
  {
   "cell_type": "markdown",
   "metadata": {},
   "source": [
    "## Recursive Tree Building\n",
    "\n",
    "Now that we can find the best feature to split the dataset, we can repeat this process again and again to create the full tree. This is a recursive algorithm! We start with every data point from the training set, find the best feature to split the data, split the data based on that feature, and then recursively repeat the process again on each subset that was created from the split.\n",
    "\n",
    "We’ll stop the recursion when we can no longer find a feature that results in any information gain. In other words, we want to create a leaf of the tree when we can’t find a way to split the data that makes purer subsets.\n",
    "\n",
    "The leaf should keep track of the classes of the data points from the training set that ended up in the leaf. In our implementation, we’ll use a Counter object to keep track of the counts of labels.\n",
    "\n",
    "We’ll use these counts to make predictions about new data that we give the tree."
   ]
  },
  {
   "cell_type": "markdown",
   "metadata": {},
   "source": [
    "### Ques 1 \n",
    "We’ve given you the function find_best_split() that takes a set of data points and a set of labels.\n",
    "\n",
    "The function returns the index of the feature that causes the best split and the information gain caused by that split.\n",
    "\n",
    "For now, at the bottom of your code, call this function using car_data and car_labels as parameters and store the values in variables named best_feature and best_gain.\n",
    "\n",
    "Print those two variables. What was the best feature to split on and what was the information gain?"
   ]
  },
  {
   "cell_type": "code",
   "execution_count": 70,
   "metadata": {},
   "outputs": [],
   "source": [
    "\n",
    "car_data = [['med', 'low', '3', '4', 'med', 'med'], ['med', 'vhigh', '4', 'more', 'small', 'high'], ['high', 'med', '3', '2', 'med', 'low'], ['med', 'low', '4', '4', 'med', 'low'], ['med', 'low', '5more', '2', 'big', 'med'], ['med', 'med', '2', 'more', 'big', 'high'], ['med', 'med', '2', 'more', 'med', 'med'], ['vhigh', 'vhigh', '2', '2', 'med', 'low'], ['high', 'med', '4', '2', 'big', 'low'], ['low', 'low', '2', '4', 'big', 'med']]\n",
    "\n",
    "car_labels = ['acc', 'acc', 'unacc', 'unacc', 'unacc', 'vgood', 'acc', 'unacc', 'unacc', 'good']\n",
    "\n",
    "def find_best_split(dataset, labels):\n",
    "    best_gain = 0\n",
    "    best_feature = 0\n",
    "    for feature in range(len(dataset[0])):\n",
    "        data_subsets, label_subsets = split(dataset, labels, feature)\n",
    "        gain = information_gain(labels, label_subsets)\n",
    "        if gain > best_gain:\n",
    "            best_gain, best_feature = gain, feature\n",
    "    return best_feature, best_gain"
   ]
  },
  {
   "cell_type": "code",
   "execution_count": 71,
   "metadata": {},
   "outputs": [
    {
     "name": "stdout",
     "output_type": "stream",
     "text": [
      "3 0.3066666666666667\n"
     ]
    }
   ],
   "source": [
    "best_feature,best_gain =   find_best_split(car_data, car_labels) \n",
    "print(best_feature,best_gain)"
   ]
  },
  {
   "cell_type": "markdown",
   "metadata": {},
   "source": [
    "### Ques 2\n",
    "Let’s create a function called build_tree() that takes data and labels as parameters.\n",
    "\n",
    "Move your call of find_best_split() inside this function, but change the parameters from car_data and car_labels to data and labels.\n",
    "\n",
    "If best_gain is 0, return a Counter object of labels. We’ve reached the base case — there’s no way to gain any more information so we want to create a leaf."
   ]
  },
  {
   "cell_type": "code",
   "execution_count": 73,
   "metadata": {},
   "outputs": [],
   "source": [
    "def build_tree(data, labels):\n",
    "    best_feature, best_gain = find_best_split(data, labels)\n",
    "    if best_gain == 0:\n",
    "        return Counter(labels)"
   ]
  },
  {
   "cell_type": "markdown",
   "metadata": {},
   "source": [
    "### Ques 3\n",
    "After the if statement, we want to start working on the recursive case.\n",
    "\n",
    "In the recursive case, we want to split the data into subsets using the best feature, and then recursively call the build_tree() function on those subsets to create subtrees. Finally, we want to return a list of all those subtrees.\n",
    "\n",
    "Let’s begin by splitting the data. You can do this by using the split() function which takes three parameters — the data and labels that you want to split and the index of the feature you want to split on.\n",
    "\n",
    "Store the result of the split() function in two variables named data_subsets and label_subsets.\n",
    "\n",
    "For now, return data_subsets at the bottom of your function."
   ]
  },
  {
   "cell_type": "code",
   "execution_count": 74,
   "metadata": {},
   "outputs": [],
   "source": [
    "def build_tree(data, labels):\n",
    "    best_feature, best_gain = find_best_split(data, labels)\n",
    "    if best_gain == 0:\n",
    "        return Counter(labels)\n",
    "    data_subsets, label_subsets = split(data, labels, best_feature)\n"
   ]
  },
  {
   "cell_type": "markdown",
   "metadata": {},
   "source": [
    "### Ques 5\n",
    "Before that final return statement, create an empty list named branches. This list will store all of the subtrees we’re about to make from our recursive calls.\n",
    "\n",
    "We now want to loop through all of the subsets of data and labels. Set up your for loop like this\n",
    "\n",
    "Inside the for loop, call build_tree using data_subsets[i] and label_subsets[i] as parameters and append the result to branches.\n",
    "\n",
    "Finally outside the for loop, return branches instead of data_subsets."
   ]
  },
  {
   "cell_type": "code",
   "execution_count": 75,
   "metadata": {},
   "outputs": [],
   "source": [
    "def build_tree(data, labels):\n",
    "  best_feature, best_gain = find_best_split(data, labels)\n",
    "  if best_gain == 0:\n",
    "    return Counter(labels)\n",
    "  data_subsets, label_subsets = split(data, labels, best_feature)\n",
    "  branches = []\n",
    "  for i in range(len(data_subsets)):\n",
    "    branch = build_tree(data_subsets[i], label_subsets[i])\n",
    "    branches.append(branch)\n",
    "  return branches"
   ]
  },
  {
   "cell_type": "code",
   "execution_count": null,
   "metadata": {},
   "outputs": [],
   "source": []
  },
  {
   "cell_type": "markdown",
   "metadata": {},
   "source": [
    "## Classifying New Data\n",
    "\n",
    "We can finally use our tree as a classifier! Given a new data point, we start at the top of the tree and follow the path of the tree until we hit a leaf. Once we get to a leaf, we’ll use the classes of the points from the training set to make a classification.\n",
    "\n",
    "We’ve slightly changed the way our build_tree() function works. Instead of returning a list of branches or a Counter object, the build_tree() function now returns a Leaf object or an Internal_Node object. We’ll explain how to use these objects in the instructions!\n",
    "\n",
    "Let’s write a function that will use our tree to classify new points!"
   ]
  },
  {
   "cell_type": "code",
   "execution_count": null,
   "metadata": {},
   "outputs": [],
   "source": []
  }
 ],
 "metadata": {
  "kernelspec": {
   "display_name": "Python 3",
   "language": "python",
   "name": "python3"
  },
  "language_info": {
   "codemirror_mode": {
    "name": "ipython",
    "version": 3
   },
   "file_extension": ".py",
   "mimetype": "text/x-python",
   "name": "python",
   "nbconvert_exporter": "python",
   "pygments_lexer": "ipython3",
   "version": "3.7.4"
  }
 },
 "nbformat": 4,
 "nbformat_minor": 2
}

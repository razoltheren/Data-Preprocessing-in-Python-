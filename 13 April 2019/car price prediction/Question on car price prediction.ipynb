{
 "cells": [
  {
   "cell_type": "markdown",
   "metadata": {},
   "source": [
    "## Problem Description\n",
    "A Chinese automobile company Teclov_chinese aspires to enter the US\n",
    "market by setting up their manufacturing unit there and producing cars\n",
    "locally to give competition to their US and European counterparts.\n",
    "\n",
    "\n",
    "They have contracted an automobile consulting company to understand\n",
    "the factors on which the pricing of cars depends. Specifically, they want to\n",
    "understand the factors affecting the pricing of cars in the American market, since those may be very different from the Chinese market. \n",
    "\n",
    "\n",
    "### Essentially, the company wants to know:\n",
    "* Which variables are significant in predicting the price of a car\n",
    "* How well those variables describe the price of a car\n",
    "\n",
    "Based on various market surveys, the consulting firm has gathered a large\n",
    "dataset of different types of cars across the American market."
   ]
  },
  {
   "cell_type": "markdown",
   "metadata": {},
   "source": [
    "### Business Goal\n",
    "You are required to model the price of cars with the available independent\n",
    "variables. It will be used by the management to understand how exactly\n",
    "the prices vary with the independent variables. They can accordingly\n",
    "manipulate the design of the cars, the business strategy etc. to meet certain price levels. Further, the model will be a good way for the management to\n",
    "understand the pricing dynamics of a new market."
   ]
  },
  {
   "cell_type": "markdown",
   "metadata": {},
   "source": [
    "## This information will be vital once we get started with the ML course\n",
    "\n",
    "* Data Preparation\n",
    "\n",
    "There is a variable named CarName which is comprised of two parts - the first word is the name of 'car company' and the second is the 'car\n",
    "model'. For example, chevrolet impala has 'chevrolet' as the car\n",
    "company name and 'impala' as the car model name. You need to\n",
    "consider only company name as the independent variable for model\n",
    "building."
   ]
  },
  {
   "cell_type": "code",
   "execution_count": null,
   "metadata": {},
   "outputs": [],
   "source": []
  }
 ],
 "metadata": {
  "kernelspec": {
   "display_name": "Python 3",
   "language": "python",
   "name": "python3"
  },
  "language_info": {
   "codemirror_mode": {
    "name": "ipython",
    "version": 3
   },
   "file_extension": ".py",
   "mimetype": "text/x-python",
   "name": "python",
   "nbconvert_exporter": "python",
   "pygments_lexer": "ipython3",
   "version": "3.6.4"
  }
 },
 "nbformat": 4,
 "nbformat_minor": 2
}

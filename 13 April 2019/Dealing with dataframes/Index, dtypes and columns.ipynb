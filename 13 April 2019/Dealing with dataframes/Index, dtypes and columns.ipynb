{
 "cells": [
  {
   "cell_type": "markdown",
   "metadata": {},
   "source": [
    "<div class=\"alert alert-info\">\n",
    "*Objective of this sheet*\n",
    "</div>\n",
    "\n",
    "* How to set a meaningful column to be the index?\n",
    "* How to reindex a column from default one for a meaningful outcome.\n",
    "* How to check the data types of the imported file. If the type is wrong then how to transform it to the desired type?\n",
    "* Renaming a column?\n",
    "* Adding a new column to an existing dataframe\n",
    "* Deleting rows or columns from a dataframe\n",
    "* Sorting dataframes on the basis of columns"
   ]
  },
  {
   "cell_type": "code",
   "execution_count": null,
   "metadata": {},
   "outputs": [],
   "source": []
  },
  {
   "cell_type": "code",
   "execution_count": null,
   "metadata": {},
   "outputs": [],
   "source": [
    "#1 - How to set a meaningful column to be the index\n",
    "import pandas as pd\n",
    "excel_data = pd.read_excel('excel_tabs.xlsx')\n",
    "excel_data.head(2)"
   ]
  },
  {
   "cell_type": "code",
   "execution_count": null,
   "metadata": {},
   "outputs": [],
   "source": [
    "# index_col is the statement that will help us in resetting the index from the default to the desired.\n",
    "excel_data = pd.read_excel('excel_tabs.xlsx', index_col = 'STORECODE')\n",
    "excel_data.head(2)"
   ]
  },
  {
   "cell_type": "code",
   "execution_count": null,
   "metadata": {},
   "outputs": [],
   "source": []
  },
  {
   "cell_type": "code",
   "execution_count": null,
   "metadata": {},
   "outputs": [],
   "source": [
    "import pandas as pd\n",
    "import numpy as np"
   ]
  },
  {
   "cell_type": "code",
   "execution_count": null,
   "metadata": {},
   "outputs": [],
   "source": [
    "#2 How to reindex a column from default one for a meaningful outcome.\n",
    "\n",
    "df = pd.read_csv('weather.csv')\n",
    "df"
   ]
  },
  {
   "cell_type": "code",
   "execution_count": null,
   "metadata": {},
   "outputs": [],
   "source": [
    "# making date as index now\n",
    "df.set_index('day', inplace = True)   # please notice inplace here, now this makes it permanently placed here\n",
    "df"
   ]
  },
  {
   "cell_type": "code",
   "execution_count": null,
   "metadata": {},
   "outputs": [],
   "source": []
  },
  {
   "cell_type": "code",
   "execution_count": null,
   "metadata": {},
   "outputs": [],
   "source": [
    "# 3   - How to check the data types of the imported file. If the type is wrong then how to transform it to the desired type?\n",
    "\n",
    "To understand the data before we begin our analysis we should check:\n",
    "\n",
    "1 - data types\n",
    "2 -data distribution\n",
    "\n",
    "There are two reasons to check data types in a dataset:\n",
    "\n",
    "a - Pandas automatically assigns types based on the encoding it detects from the original data table.For a number of reasons\n",
    "this assignment may be incorrect.e.g Sales value may be 'string' type but we are expecting it to be continous.\n",
    "\n",
    "b -It allows us to see which python functions can be applied to a specific column.Some math\n",
    "function can only be applied to numerical data, if they are applied to non-numerical data an error may result."
   ]
  },
  {
   "cell_type": "code",
   "execution_count": null,
   "metadata": {},
   "outputs": [],
   "source": [
    "# how to check the data types\n",
    "excel_data = pd.read_excel('excel_string.xlsx')\n",
    "excel_data.head(2)\n",
    "excel_data.dtypes"
   ]
  },
  {
   "cell_type": "code",
   "execution_count": null,
   "metadata": {},
   "outputs": [],
   "source": [
    "excel_data['FRESHVALUE'] = excel_data['FRESHVALUE'].astype(str)"
   ]
  },
  {
   "cell_type": "code",
   "execution_count": null,
   "metadata": {},
   "outputs": [],
   "source": [
    "# Mathematical  caluculations for FRESHVALUE column will not run.\n",
    "excel_data['FRESHVALUE'] = excel_data['FRESHVALUE'] / 2"
   ]
  },
  {
   "cell_type": "code",
   "execution_count": null,
   "metadata": {},
   "outputs": [],
   "source": [
    "# Standardizing the data is essential. \n",
    "excel_data['FRESHVALUE'] = excel_data['FRESHVALUE'].astype(float)\n",
    "excel_data['FRESHVALUE'] = excel_data['FRESHVALUE'] / 2\n",
    "excel_data.head(2)\n",
    "\n",
    "# how will we be changing the data types for many columns?"
   ]
  },
  {
   "cell_type": "code",
   "execution_count": null,
   "metadata": {},
   "outputs": [],
   "source": []
  },
  {
   "cell_type": "code",
   "execution_count": null,
   "metadata": {},
   "outputs": [],
   "source": [
    "#4 - Renaming a column?\n",
    "excel_data.rename(columns = {'FRESHVALUE':'Salesvalue'}, inplace = True)\n",
    "excel_data\n",
    "\n",
    "# inplace = makes the changes made by us become permanent "
   ]
  },
  {
   "cell_type": "code",
   "execution_count": null,
   "metadata": {},
   "outputs": [],
   "source": [
    "# Making all the columns from uppercase to lowercase\n",
    "excel_data.columns = excel_data.columns.str.lower()\n",
    "excel_data.head(2)"
   ]
  },
  {
   "cell_type": "code",
   "execution_count": null,
   "metadata": {},
   "outputs": [],
   "source": []
  },
  {
   "cell_type": "code",
   "execution_count": null,
   "metadata": {},
   "outputs": [],
   "source": [
    "#4 Adding an extra column to the existing dataframe.\n",
    "excel_data['new_column'] = excel_data['sourceid'] + 5"
   ]
  },
  {
   "cell_type": "markdown",
   "metadata": {},
   "source": [
    "## What exactly has happend in the above cell?\n",
    "* added five to each cell in the salesvalue column\n",
    "* then assigned these values to the 'new_column', that is the new column that we have created create. \n",
    "* by default this new_column will get added at the end of the existing dataframe."
   ]
  },
  {
   "cell_type": "code",
   "execution_count": null,
   "metadata": {},
   "outputs": [],
   "source": []
  },
  {
   "cell_type": "code",
   "execution_count": null,
   "metadata": {},
   "outputs": [],
   "source": [
    "# Inserting the column in any position of the dataframe.\n",
    "\n",
    "# How to insert a column?\n",
    "excel_data.insert(2, column = 'adding_column_in_position_2', value = excel_data['sourceid'] + 5)"
   ]
  },
  {
   "cell_type": "markdown",
   "metadata": {},
   "source": [
    "## ## What is happening in the above cell?\n",
    "* This way we can insert the column in a desired location(position in a dataframe).\n",
    "* adjacent to the column we are giving the new column name\n",
    "* value speaks about the values we want in the column, it can be logical, mathematical or simply a string\n",
    "* `Bradcasting` is taking place for the calculation to happen."
   ]
  },
  {
   "cell_type": "code",
   "execution_count": null,
   "metadata": {},
   "outputs": [],
   "source": [
    "excel_data"
   ]
  },
  {
   "cell_type": "code",
   "execution_count": null,
   "metadata": {},
   "outputs": [],
   "source": []
  },
  {
   "cell_type": "code",
   "execution_count": null,
   "metadata": {},
   "outputs": [],
   "source": [
    "## Deleting rows or columns from a dataframe\n",
    "excel_data.drop(['new_column','storecode'], axis = 'columns')"
   ]
  },
  {
   "cell_type": "code",
   "execution_count": null,
   "metadata": {},
   "outputs": [],
   "source": [
    "# Second method is the pop method:\n",
    "excel_data.pop('sourceid')    # It jsut takes one execution. What is interesting here?\n",
    "# This column by name 'sourceid' has been removed from our dataframe.\n",
    "# Still it gives the entire column as an output, if we can assign some variable to this. So cut & paste can be done.\n"
   ]
  },
  {
   "cell_type": "code",
   "execution_count": null,
   "metadata": {},
   "outputs": [],
   "source": [
    "# The third way is to use del keyword.   This way we can just get rid of one variable, i.e. 'salesvalue'\n",
    "del excel_data['new_column']"
   ]
  },
  {
   "cell_type": "code",
   "execution_count": null,
   "metadata": {},
   "outputs": [],
   "source": []
  },
  {
   "cell_type": "code",
   "execution_count": null,
   "metadata": {},
   "outputs": [],
   "source": [
    "## Sorting a dataframe on the basis of columns.\n",
    "# Sorting a column is exactly like what we have seen in the case of a Serie. sort_values()\n",
    "# Only additional point is that here we can consider more one two column. That is what is mentioned below. \n",
    "excel_data.sort_values(['storecode', 'salesvalue'])\n",
    "\n",
    "# Again this method is prone to inplae, we can use that parameter value to make the changes permanent."
   ]
  },
  {
   "cell_type": "code",
   "execution_count": null,
   "metadata": {},
   "outputs": [],
   "source": []
  },
  {
   "cell_type": "markdown",
   "metadata": {
    "collapsed": true
   },
   "source": [
    "<div class=\"alert alert-info\">\n",
    "*Questions and Answers.*\n",
    "</div>"
   ]
  },
  {
   "cell_type": "markdown",
   "metadata": {
    "collapsed": true
   },
   "source": [
    "#### Q1 Take any data set from the above example and change the column names for the entire dataset?\n",
    "\n"
   ]
  },
  {
   "cell_type": "code",
   "execution_count": null,
   "metadata": {},
   "outputs": [],
   "source": []
  },
  {
   "cell_type": "markdown",
   "metadata": {
    "collapsed": true
   },
   "source": [
    "#### Q2 How can knowing the data types be handy?"
   ]
  },
  {
   "cell_type": "code",
   "execution_count": null,
   "metadata": {},
   "outputs": [],
   "source": []
  }
 ],
 "metadata": {
  "kernelspec": {
   "display_name": "Python 3",
   "language": "python",
   "name": "python3"
  },
  "language_info": {
   "codemirror_mode": {
    "name": "ipython",
    "version": 3
   },
   "file_extension": ".py",
   "mimetype": "text/x-python",
   "name": "python",
   "nbconvert_exporter": "python",
   "pygments_lexer": "ipython3",
   "version": "3.6.4"
  }
 },
 "nbformat": 4,
 "nbformat_minor": 1
}

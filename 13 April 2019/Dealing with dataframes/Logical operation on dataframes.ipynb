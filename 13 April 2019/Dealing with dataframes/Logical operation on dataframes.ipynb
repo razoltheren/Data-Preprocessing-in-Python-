{
 "cells": [
  {
   "cell_type": "markdown",
   "metadata": {},
   "source": [
    "<div class=\"alert alert-info\">\n",
    "*Objective of this sheet*\n",
    "</div>\n",
    "\n",
    "* Retaining the subset of the dataframe on basis of one condition\n",
    "* Applying multiple conditions on the datasets\n",
    "* Usage of isin for multliple conditions in a single column\n",
    "* Using the duplicate method over a dataframe\n",
    "* Cheking the unique and nunique methods\n",
    "* The copy() method"
   ]
  },
  {
   "cell_type": "code",
   "execution_count": null,
   "metadata": {},
   "outputs": [],
   "source": []
  },
  {
   "cell_type": "code",
   "execution_count": null,
   "metadata": {},
   "outputs": [],
   "source": [
    "import pandas as pd\n",
    "df = pd.read_csv('employees.csv')"
   ]
  },
  {
   "cell_type": "code",
   "execution_count": null,
   "metadata": {},
   "outputs": [],
   "source": [
    "df.columns"
   ]
  },
  {
   "cell_type": "code",
   "execution_count": null,
   "metadata": {},
   "outputs": [],
   "source": [
    "df['Bonus %'] < 1.5  # just gives the true and False"
   ]
  },
  {
   "cell_type": "code",
   "execution_count": null,
   "metadata": {},
   "outputs": [],
   "source": [
    "mask = df['Bonus %'] < 1.5     #  helping the masking\n",
    "df[mask]      # this mask is also pretty useful thing!"
   ]
  },
  {
   "cell_type": "code",
   "execution_count": null,
   "metadata": {},
   "outputs": [],
   "source": [
    "# filtering the dataframe with more than one condition.\n",
    "mask1 = df['Gender'] =='Male'\n",
    "mask2 = df['Team'] == 'Marketing'\n",
    "\n",
    "# as we want both the series to be true. It does not look that dirty! I like something like this one.\n",
    "df[mask1 & mask2]"
   ]
  },
  {
   "cell_type": "code",
   "execution_count": null,
   "metadata": {},
   "outputs": [],
   "source": [
    "# getting and on together.\n",
    "mask1 = df['First Name'] == 'Robert'\n",
    "mask2 = df[ 'Team'] == 'Client Services'\n",
    "mask3 = df['Start Date'] > '2016-06-01'\n",
    "\n",
    "df[(mask1 & mask2) | mask3]  #now it is not looking shabby. Easy to interpret as well."
   ]
  },
  {
   "cell_type": "code",
   "execution_count": null,
   "metadata": {},
   "outputs": [],
   "source": [
    "df.columns"
   ]
  },
  {
   "cell_type": "code",
   "execution_count": null,
   "metadata": {},
   "outputs": [],
   "source": [
    "##  If more than one condition I want to satisfy then isin method works better.\n",
    "mask = df['Team'].isin(['Legal','Product','Marketing'])\n",
    "df[mask]\n",
    "\n",
    "# isin can also take another Series as well, hence I think it is very very powerful."
   ]
  },
  {
   "cell_type": "code",
   "execution_count": null,
   "metadata": {},
   "outputs": [],
   "source": [
    "# isnull and notnll methods. These two are the complementory methods.\n",
    "condition = df['Gender'].notnull()\n",
    "df[condition]\n",
    "# it becomes very easy to get the data on this condition.\n",
    "#likewise isnull is also very effective"
   ]
  },
  {
   "cell_type": "code",
   "execution_count": null,
   "metadata": {},
   "outputs": [],
   "source": [
    "## between method -( it is pretty effective one)\n",
    "\n",
    "df[df['Salary'].between(60000, 70000)]   #So I am collapsing this."
   ]
  },
  {
   "cell_type": "code",
   "execution_count": null,
   "metadata": {},
   "outputs": [],
   "source": [
    "# duplicated method. to keep what all have occured just once.\n",
    "~df['First Name'].duplicated(keep = False)  #this symbol  at the starting is interesting."
   ]
  },
  {
   "cell_type": "code",
   "execution_count": null,
   "metadata": {},
   "outputs": [],
   "source": [
    "# if we want to keep those values which has occured once, for that:\n",
    "mask = ~df['First Name'].duplicated(keep = False)\n",
    "df[mask]"
   ]
  },
  {
   "cell_type": "code",
   "execution_count": null,
   "metadata": {},
   "outputs": [],
   "source": [
    "# drop_duplicates() method:  any more than two occurances will be washed out.\n",
    "df.drop_duplicates(subset = ['First Name'], keep = False)"
   ]
  },
  {
   "cell_type": "code",
   "execution_count": null,
   "metadata": {},
   "outputs": [],
   "source": [
    "# unique & nunique\n",
    "df['Team'].unique()"
   ]
  },
  {
   "cell_type": "code",
   "execution_count": null,
   "metadata": {},
   "outputs": [],
   "source": [
    "df['Team'].nunique()  # it's default parameter just excluders the default NAN values, so we need to tweak the data"
   ]
  },
  {
   "cell_type": "code",
   "execution_count": null,
   "metadata": {},
   "outputs": [],
   "source": []
  },
  {
   "cell_type": "code",
   "execution_count": null,
   "metadata": {},
   "outputs": [],
   "source": [
    "## Copy method on a dataframe.\n",
    "bond = pd.read_csv('jamesbond.csv', index_col = 'Film')\n",
    "bond.sort_index(inplace = True)\n",
    "bond.head(3)"
   ]
  },
  {
   "cell_type": "code",
   "execution_count": null,
   "metadata": {},
   "outputs": [],
   "source": [
    "# Let us make a new varibale, from one of the column of our dataframe.\n",
    "directors = bond['Director']\n",
    "directors.head(2)"
   ]
  },
  {
   "cell_type": "code",
   "execution_count": null,
   "metadata": {},
   "outputs": [],
   "source": [
    "# Now let us try to overwrite the first value of the directors.\n",
    "directors['A View to a Kill'] = 'Mister John Glen'\n",
    "\n",
    "# we are getting the warning message. # though the name has changed. Lets check in the below cell."
   ]
  },
  {
   "cell_type": "code",
   "execution_count": null,
   "metadata": {},
   "outputs": [],
   "source": [
    "directors.head(3)   # here we can see in the first row that the value has changed. So what is the problem?"
   ]
  },
  {
   "cell_type": "code",
   "execution_count": null,
   "metadata": {},
   "outputs": [],
   "source": [
    "# now let us check the orignal dataframe, i.e.the bond one.\n",
    "bond.head(3)      # In the first row of the Director, we can see that the Mister has got added up. Now this is alarming\n",
    "\n",
    "# Now the question is?\n",
    "# If we want our orignal dataframes to be affected, then this method is fine.\n",
    "# But if we do not want anything to happen with our orignal dataframes, in that case.\n",
    "# So if we do not want to happen, then we have to use this method by name, copy().\n",
    "# For that we have to use bond['Director'].copy().  Now this is separate islated object.\n",
    "# Now any modification will not lead to any change in the orignal "
   ]
  },
  {
   "cell_type": "code",
   "execution_count": null,
   "metadata": {},
   "outputs": [],
   "source": []
  }
 ],
 "metadata": {
  "kernelspec": {
   "display_name": "Python 3",
   "language": "python",
   "name": "python3"
  },
  "language_info": {
   "codemirror_mode": {
    "name": "ipython",
    "version": 3
   },
   "file_extension": ".py",
   "mimetype": "text/x-python",
   "name": "python",
   "nbconvert_exporter": "python",
   "pygments_lexer": "ipython3",
   "version": "3.6.4"
  }
 },
 "nbformat": 4,
 "nbformat_minor": 2
}

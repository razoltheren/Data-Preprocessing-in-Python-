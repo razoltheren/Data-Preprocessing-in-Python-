{
 "cells": [
  {
   "cell_type": "markdown",
   "metadata": {},
   "source": [
    "<div class=\"alert alert-info\">\n",
    "*Exercise Questions* : Attached 'loan grant' file is having the loan history of the XYZ bank. Please answer the following question on the\n",
    "basis of the given dataset.\n",
    "</div>\n",
    "\n",
    "* Q1 - How many maried peopel have applied for the loan?\n",
    "* Q2 - Does education have any role in getting the loan?\n",
    "* Q3 - Which property area is calling for the highest demand for the loan?\n",
    "* Q4 - What is the mean income of the mean for whom the loan got approved?\n",
    "* Q5 - What is the maximum loan amount that got approved?\n",
    "* Q6 - How many women who are self self employed were granted the loan?\n"
   ]
  },
  {
   "cell_type": "code",
   "execution_count": null,
   "metadata": {},
   "outputs": [],
   "source": []
  }
 ],
 "metadata": {
  "kernelspec": {
   "display_name": "Python 3",
   "language": "python",
   "name": "python3"
  },
  "language_info": {
   "codemirror_mode": {
    "name": "ipython",
    "version": 3
   },
   "file_extension": ".py",
   "mimetype": "text/x-python",
   "name": "python",
   "nbconvert_exporter": "python",
   "pygments_lexer": "ipython3",
   "version": "3.6.4"
  }
 },
 "nbformat": 4,
 "nbformat_minor": 2
}

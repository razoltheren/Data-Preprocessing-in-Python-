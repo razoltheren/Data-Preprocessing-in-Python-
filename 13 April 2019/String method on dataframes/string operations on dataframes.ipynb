{
 "cells": [
  {
   "cell_type": "markdown",
   "metadata": {},
   "source": [
    "<div class=\"alert alert-info\">\n",
    "*Objective of this sheet*\n",
    "</div>\n",
    "\n",
    "* How categorization of a string can save on the memory\n",
    "* String operations on column values:\n",
    " * lower()    - turning everything into lowercase\n",
    " * title()    - first character in uppercase, rest as lower case\n",
    " * len()      - length of the characters present in each cell\n",
    " * replace()  - replace any existing string value from the cell\n",
    " * contains() - whether some sub string is contained in the entire string.\n",
    " * strips()   - getting the whitespace out of the string\n",
    " * get()      - take out certain string from the cell. "
   ]
  },
  {
   "cell_type": "code",
   "execution_count": null,
   "metadata": {},
   "outputs": [],
   "source": [
    "## Dealing with the strings in a column.\n",
    "import pandas as pd\n",
    "chicago = pd.read_csv('chicago.csv')\n",
    "chicago.head(3)   "
   ]
  },
  {
   "cell_type": "code",
   "execution_count": null,
   "metadata": {},
   "outputs": [],
   "source": [
    "# just seing the summary.\n",
    "chicago.info()   #here the Salary is coming as strings, just due to Dollar sign."
   ]
  },
  {
   "cell_type": "code",
   "execution_count": null,
   "metadata": {},
   "outputs": [],
   "source": [
    "# rather than having 32 thousand string objects, we can have 35 category objects, so that less space would be taken\n",
    "\n",
    "chicago['Department'].nunique()"
   ]
  },
  {
   "cell_type": "code",
   "execution_count": null,
   "metadata": {},
   "outputs": [],
   "source": [
    "# else we would have to go with the 32062 strings object, so the 35 categories are better.\n",
    "chicago['Department'].count()"
   ]
  },
  {
   "cell_type": "code",
   "execution_count": null,
   "metadata": {},
   "outputs": [],
   "source": [
    "# hence now converting the chicago from strings to category\n",
    "chicago['Department'] = chicago['Department'].astype('category')"
   ]
  },
  {
   "cell_type": "code",
   "execution_count": null,
   "metadata": {},
   "outputs": [],
   "source": [
    "# Now if we would return the import command and then look at the info, there would be less space used.\n",
    "chicago = pd.read_csv('chicago.csv')\n",
    "chicago['Department'] = chicago['Department'].astype('category')\n",
    "chicago.head(3)   "
   ]
  },
  {
   "cell_type": "code",
   "execution_count": null,
   "metadata": {},
   "outputs": [],
   "source": [
    "chicago.info()   # the space has reduced from 1000 KB to 780 KB"
   ]
  },
  {
   "cell_type": "code",
   "execution_count": null,
   "metadata": {},
   "outputs": [],
   "source": [
    "chicago['Name'].str.lower()    #everything becomes lower case."
   ]
  },
  {
   "cell_type": "code",
   "execution_count": null,
   "metadata": {},
   "outputs": [],
   "source": [
    "chicago['Name'].str.title()        # will keep the first word as capital, rest as small"
   ]
  },
  {
   "cell_type": "code",
   "execution_count": null,
   "metadata": {},
   "outputs": [],
   "source": [
    "# to find out the number of characters in all the single values.\n",
    "chicago['Department'].str.len()      # some common string method. str prefix is compulsory before any of str operation"
   ]
  },
  {
   "cell_type": "code",
   "execution_count": null,
   "metadata": {},
   "outputs": [],
   "source": [
    "chicago['Department'] = chicago['Department'].str.replace('Mgmnt', 'Management')"
   ]
  },
  {
   "cell_type": "code",
   "execution_count": null,
   "metadata": {},
   "outputs": [],
   "source": [
    "# to change the column from string to float by removing the $ sign.\n",
    "chicago['Employee Annual Salary'] = chicago['Employee Annual Salary'].str.replace('$', '').astype(float)"
   ]
  },
  {
   "cell_type": "code",
   "execution_count": null,
   "metadata": {},
   "outputs": [],
   "source": [
    "chicago.dtypes"
   ]
  },
  {
   "cell_type": "code",
   "execution_count": null,
   "metadata": {},
   "outputs": [],
   "source": [
    "chicago['Employee Annual Salary'].nlargest(5)   # to get the largest values."
   ]
  },
  {
   "cell_type": "code",
   "execution_count": null,
   "metadata": {},
   "outputs": [],
   "source": [
    "# providing the conditions to the column comprising of the strings.\n",
    "chicago['Position Title'].str.lower().str.contains('water') \n",
    "\n",
    "# contains looks for the substrings within a string.\n",
    "# likewise we can also use the startswith  and also endswith"
   ]
  },
  {
   "cell_type": "code",
   "execution_count": null,
   "metadata": {},
   "outputs": [],
   "source": [
    "# removing the whitespace from a string.\n",
    "chicago['Name'].str.strip().str.lstrip()"
   ]
  },
  {
   "cell_type": "code",
   "execution_count": null,
   "metadata": {},
   "outputs": [],
   "source": [
    "# if we want to set all the column headers in uppercase!\n",
    "chicago.columns =  chicago.columns.str.upper()  "
   ]
  },
  {
   "cell_type": "code",
   "execution_count": null,
   "metadata": {},
   "outputs": [],
   "source": [
    "chicago"
   ]
  },
  {
   "cell_type": "code",
   "execution_count": null,
   "metadata": {},
   "outputs": [],
   "source": [
    "chicago.columns"
   ]
  },
  {
   "cell_type": "code",
   "execution_count": null,
   "metadata": {},
   "outputs": [],
   "source": [
    "# post split: just want the first element. \n",
    "chicago['NAME'].str.split(',').str.get(0)"
   ]
  },
  {
   "cell_type": "code",
   "execution_count": null,
   "metadata": {},
   "outputs": [],
   "source": [
    "# If we want first name, then:\n",
    "\n",
    "# Questin - What are the popular employees name? \n",
    "chicago['NAME'].str.split(',').str.get(1).str.strip().str.split(\" \").str.get(0).value_counts().head()"
   ]
  }
 ],
 "metadata": {
  "kernelspec": {
   "display_name": "Python 3",
   "language": "python",
   "name": "python3"
  },
  "language_info": {
   "codemirror_mode": {
    "name": "ipython",
    "version": 3
   },
   "file_extension": ".py",
   "mimetype": "text/x-python",
   "name": "python",
   "nbconvert_exporter": "python",
   "pygments_lexer": "ipython3",
   "version": "3.6.4"
  }
 },
 "nbformat": 4,
 "nbformat_minor": 2
}

{
 "cells": [
  {
   "cell_type": "code",
   "execution_count": 2,
   "metadata": {},
   "outputs": [],
   "source": [
    "import pandas as pd, numpy as np, seaborn as sns, matplotlib.pyplot as plt, statsmodels.api as sm\n",
    "%matplotlib inline"
   ]
  },
  {
   "cell_type": "markdown",
   "metadata": {},
   "source": [
    "## Introduction to Clustering\n",
    "\n",
    "Often, the data you encounter in the real world won’t have flags attached and won’t provide labeled answers to your question. Finding patterns in this type of data, unlabeled data, is a common theme in many machine learning applications. Unsupervised Learning is how we find patterns and structure in these data.\n",
    "\n",
    "`Clustering` is the most well-known unsupervised learning technique. It finds structure in unlabeled data by identifying similar groups, or clusters. Examples of clustering applications are:\n",
    "\n",
    "* `Recommendation engines`: group products to personalize the user experience\n",
    "* `Search engines`: group news topics and search results\n",
    "* `Market segmentation`: group customers based on geography, demography, and behaviors\n",
    "* `Image segmentation`: medical imaging or road scene segmentation on self-driving cars"
   ]
  },
  {
   "cell_type": "markdown",
   "metadata": {},
   "source": [
    "### K-Means Clustering\n",
    "\n",
    "The goal of clustering is to separate data so that data similar to one another are in the same group, while data different from one another are in different groups. \n",
    "\n",
    "So two questions arise:\n",
    "* many groups do we choose?\n",
    "* How do we define similarity?\n",
    "\n",
    "\n",
    "* $K-Means$ * is the most popular and well-known clustering algorithm, and it tries to address these two questions.\n",
    "  * The “K” refers to the number of clusters (groups) we expect to find in a dataset.\n",
    "  * The “Means” refers to the average distance of data to each cluster center, also known as the centroid, which we are trying to minimize.\n",
    "\n",
    "* It is an iterative approach:\n",
    " * Place k random centroids for the initial clusters.\n",
    " * Assign data samples to the nearest centroid.\n",
    " * Update centroids based on the above-assigned data samples.\n",
    " \n",
    "Repeat Steps 2 and 3 until convergence (when points don’t move between clusters and centroids stabilize).\n",
    "\n",
    "Once we are happy with our clusters, we can take a new unlabeled datapoint and quickly assign it to the appropriate cluster."
   ]
  },
  {
   "cell_type": "code",
   "execution_count": null,
   "metadata": {},
   "outputs": [],
   "source": []
  },
  {
   "cell_type": "code",
   "execution_count": 3,
   "metadata": {},
   "outputs": [],
   "source": [
    "from sklearn import  datasets\n",
    "iris = datasets.load_iris()"
   ]
  },
  {
   "cell_type": "code",
   "execution_count": 4,
   "metadata": {},
   "outputs": [
    {
     "data": {
      "image/png": "[encoded data removed]",
      "text/plain": [
       "<Figure size 432x288 with 1 Axes>"
      ]
     },
     "metadata": {
      "needs_background": "light"
     },
     "output_type": "display_data"
    }
   ],
   "source": [
    "#### Q 1\n",
    "# Store iris.data\n",
    "samples = iris.data\n",
    "# Create x and y\n",
    "x = samples[:,0]\n",
    "y = samples[:,1]\n",
    "# Plot x and y\n",
    "plt.scatter(x, y, alpha = 0.5)\n",
    "# Show the plot\n",
    "plt.show()"
   ]
  },
  {
   "cell_type": "markdown",
   "metadata": {},
   "source": [
    "## Implementing K-Means: Step 1\n",
    "* The K-Means algorithm:\n",
    "\n",
    "* 1 Place k random centroids for the initial clusters.\n",
    "* 2 Assign data samples to the nearest centroid.\n",
    "* 3 Update centroids based on the above-assigned data samples.\n",
    "\n",
    "Repeat Steps 2 and 3 until convergence.\n",
    "\n",
    "Because we expect there to be three clusters (for the three species of flowers), let’s implement K-Means where the k is 3.\n",
    "\n"
   ]
  },
  {
   "cell_type": "code",
   "execution_count": 5,
   "metadata": {},
   "outputs": [
    {
     "data": {
      "image/png": "[encoded data removed]",
      "text/plain": [
       "<Figure size 432x288 with 1 Axes>"
      ]
     },
     "metadata": {
      "needs_background": "light"
     },
     "output_type": "display_data"
    }
   ],
   "source": [
    "## Using the NumPy library, we will create 3 random initial centroids and plot them along with our samples.\n",
    "\n",
    "\n",
    "x = samples[:,0]\n",
    "y = samples[:,1]\n",
    "\n",
    "sepal_length_width = np.array(list(zip(x, y)))\n",
    "\n",
    "# Number of clusters\n",
    "k = 3\n",
    "# Create x coordinates of k random centroids\n",
    "centroids_x = np.random.uniform(min(x), max(x), size = k)\n",
    "# Create y coordinates of k random centroids\n",
    "centroids_y = np.random.uniform(min(y), max(y), size = k)\n",
    "# Create centroids array\n",
    "centroids = np.array(list(zip(centroids_x, centroids_y)))\n",
    "# Make a scatter plot of x, y\n",
    "plt.scatter(x, y)\n",
    "# Make a scatter plot of the centroids\n",
    "plt.scatter(centroids_x, centroids_y )\n",
    "# Display plot\n",
    "plt.show()"
   ]
  },
  {
   "cell_type": "code",
   "execution_count": null,
   "metadata": {},
   "outputs": [],
   "source": []
  },
  {
   "cell_type": "markdown",
   "metadata": {},
   "source": [
    "## Implementing K-Means: Step 2\n",
    "\n",
    "The K-Means algorithm:\n",
    "\n",
    "* 1 Place k random centroids for the initial clusters.\n",
    "* 2 Assign data samples to the nearest centroid.\n",
    "* 3 Update centroids based on the above-assigned data samples.\n",
    "\n",
    "Repeat Steps 2 and 3 until convergence."
   ]
  },
  {
   "cell_type": "markdown",
   "metadata": {},
   "source": [
    "Now we have the 3 random centroids. Let’s assign data points to their nearest centroids.\n",
    "\n",
    "To do this we’re going to use the Distance Formula to write a distance() function. Then, we are going to iterate through our data samples and compute the distance from each data point to each of the 3 centroids.\n",
    "\n",
    "Suppose we have a point and a list of three distances in distances and it looks like [15, 20, 5], then we would want to assign the data point to the 3rd centroid. The argmin(distances) would return the index of the lowest corresponding distance, 2, because the index 2 contains the minimum value."
   ]
  },
  {
   "cell_type": "code",
   "execution_count": 6,
   "metadata": {},
   "outputs": [],
   "source": [
    "## Write a distance() function.\n",
    "\n",
    "# It should be able to take in a and b and return the distance between the two points.\n",
    "\n",
    "def distance(a, b):\n",
    "    one = (a[0] - b[0]) ** 2\n",
    "    two = (a[1] - b[1]) ** 2\n",
    "    distance = (one+two) ** 0.5\n",
    "    return distance"
   ]
  },
  {
   "cell_type": "markdown",
   "metadata": {},
   "source": [
    "#### Q4\n",
    "Create an array called labels that will hold the cluster labels for each data point. Its size should be the length of the data sample.\n",
    "\n",
    "It should look something like:[ 0.  0.  0.  0.  0.  0.  ...  0.]\n",
    "Create an array called distances that will hold the distances for each centroid. It should have the size of k.\n",
    "\n",
    "It should look something like:[ 0.  0.  0.]"
   ]
  },
  {
   "cell_type": "code",
   "execution_count": 7,
   "metadata": {},
   "outputs": [],
   "source": [
    "labels = np.zeros(len(x))\n",
    "distances = np.zeros((k))"
   ]
  },
  {
   "cell_type": "markdown",
   "metadata": {},
   "source": [
    "### Q5\n",
    "\n",
    "To assign each data point to the closest centroid, we need to iterate through the whole data sample and calculate each data point’s distance to each centroid.\n",
    "\n",
    "We can get the index of the smallest distance of distances by doing:\n",
    "\n",
    "cluster = np.argmin(distances)\n",
    "\n",
    "Then, assign the cluster to each index of the labels array."
   ]
  },
  {
   "cell_type": "code",
   "execution_count": 8,
   "metadata": {},
   "outputs": [],
   "source": [
    "# Assign to the closest centroid\n",
    "\n",
    "for i in range(len(samples)):\n",
    "    distances[0] = distance(sepal_length_width[i], centroids[0])\n",
    "    distances[1] = distance(sepal_length_width[i], centroids[1])\n",
    "    distances[2] = distance(sepal_length_width[i], centroids[2])\n",
    "    cluster = np.argmin(distances)\n",
    "    labels[i] = cluster"
   ]
  },
  {
   "cell_type": "markdown",
   "metadata": {},
   "source": [
    "## Then, print labels (outside of the for loop)."
   ]
  },
  {
   "cell_type": "code",
   "execution_count": 9,
   "metadata": {},
   "outputs": [
    {
     "name": "stdout",
     "output_type": "stream",
     "text": [
      "[1. 1. 1. 1. 1. 1. 1. 1. 1. 1. 1. 1. 1. 1. 1. 1. 1. 1. 1. 1. 1. 1. 1. 1.\n",
      " 1. 1. 1. 1. 1. 1. 1. 1. 1. 1. 1. 1. 1. 1. 1. 1. 1. 0. 1. 1. 1. 1. 1. 1.\n",
      " 1. 1. 1. 1. 1. 0. 0. 1. 1. 0. 0. 1. 0. 1. 0. 1. 1. 1. 1. 0. 0. 0. 1. 0.\n",
      " 0. 0. 0. 1. 0. 1. 1. 0. 0. 0. 0. 0. 1. 1. 1. 0. 1. 0. 0. 1. 0. 0. 0. 1.\n",
      " 1. 1. 0. 1. 1. 0. 0. 1. 1. 0. 0. 0. 0. 1. 1. 0. 0. 0. 1. 1. 1. 2. 0. 0.\n",
      " 1. 1. 0. 0. 1. 1. 0. 1. 0. 0. 0. 2. 0. 0. 0. 0. 1. 1. 1. 1. 1. 1. 0. 1.\n",
      " 1. 1. 0. 1. 1. 1.]\n"
     ]
    }
   ],
   "source": [
    "print(labels)"
   ]
  },
  {
   "cell_type": "code",
   "execution_count": null,
   "metadata": {},
   "outputs": [],
   "source": []
  },
  {
   "cell_type": "markdown",
   "metadata": {},
   "source": [
    "## Implementing K-Means: Step 3\n",
    "Update centroids based on the above-assigned data samples.\n",
    "\n",
    "Find new cluster centers by taking the average of the assigned points. To find the average of the assigned points, we can use the .mean() function."
   ]
  },
  {
   "cell_type": "code",
   "execution_count": 11,
   "metadata": {},
   "outputs": [],
   "source": [
    "#### Q1\n",
    "# Save the old centroids value before updating.\n",
    "\n",
    "# We have already imported deepcopy for you:\n",
    "    \n",
    "from copy import deepcopy"
   ]
  },
  {
   "cell_type": "code",
   "execution_count": 13,
   "metadata": {},
   "outputs": [],
   "source": [
    "centroids_old = deepcopy(centroids)"
   ]
  },
  {
   "cell_type": "markdown",
   "metadata": {},
   "source": [
    "### Q3\n",
    "Then, create a for loop that iterates k times.\n",
    "\n",
    "Since k = 3, as we are iterating through the forloop each time, we can calculate mean of the points that have the same cluster label.\n",
    "\n",
    "Inside the for loop, create an array named points where we get all the data points that have the cluster label i.\n",
    "\n",
    "There are two ways to do this, check the hints to see both!"
   ]
  },
  {
   "cell_type": "code",
   "execution_count": 16,
   "metadata": {},
   "outputs": [],
   "source": [
    "for i in range(k):\n",
    "    points = []\n",
    "    for j in range(len(sepal_length_width)):\n",
    "        if labels[j] == i:\n",
    "            points.append(sepal_length_width[j])"
   ]
  },
  {
   "cell_type": "markdown",
   "metadata": {},
   "source": [
    "#### Q4\n",
    "Then (still inside the for loop), calculate the mean of those points using .mean() to get the new centroid.\n",
    "\n",
    "Store the new centroid in centroids[i].\n",
    "\n",
    "The .mean() fucntion looks like:"
   ]
  },
  {
   "cell_type": "code",
   "execution_count": 19,
   "metadata": {},
   "outputs": [],
   "source": [
    "for i in range(k):\n",
    "    points = [sepal_length_width[j] for j in range(len(sepal_length_width)) if labels[j] == i]\n",
    "    centroids[i] = np.mean(points, axis=0)"
   ]
  },
  {
   "cell_type": "code",
   "execution_count": 20,
   "metadata": {},
   "outputs": [
    {
     "name": "stdout",
     "output_type": "stream",
     "text": [
      "[[6.98658851 2.54516989]\n",
      " [6.75831758 3.49929454]\n",
      " [7.68597721 4.37268443]]\n",
      "- - - - - - - - - - - - - -\n",
      "[[6.148      2.626     ]\n",
      " [5.64795918 3.2622449 ]\n",
      " [7.8        3.8       ]]\n"
     ]
    }
   ],
   "source": [
    "print(centroids_old)\n",
    "print(\"- - - - - - - - - - - - - -\")\n",
    "print(centroids)"
   ]
  },
  {
   "cell_type": "code",
   "execution_count": null,
   "metadata": {},
   "outputs": [],
   "source": []
  },
  {
   "cell_type": "markdown",
   "metadata": {},
   "source": [
    "#### This is the part of the algorithm where we repeatedly execute Step 2 and 3 until the centroids stabilize (convergence).\n",
    "\n",
    "We can do this using a while loop. And everything from Step 2 and 3 goes inside the loop.\n",
    "\n",
    "For the condition of the while loop, we need to create an array named errors. In each error index, we calculate the difference between the updated centroid (centroids) and the old centroid (centroids_old).\n",
    "\n",
    "The loop ends when all three values in errors are 0."
   ]
  },
  {
   "cell_type": "markdown",
   "metadata": {},
   "source": [
    "#### Q1 Initialize error\n",
    "\n",
    "Then, use the distance() function to calculate the distance between the updated centroid and the old centroid and put them in error:\n"
   ]
  },
  {
   "cell_type": "code",
   "execution_count": 22,
   "metadata": {},
   "outputs": [],
   "source": [
    "error = np.zeros(3)\n",
    "\n",
    "error[0] = distance(centroids[0], centroids_old[0])"
   ]
  },
  {
   "cell_type": "markdown",
   "metadata": {},
   "source": [
    "#### Q2 After that, add a while loop:\n",
    "And move everything below (from Step 2 and 3) inside.\n",
    "\n",
    "And recalculate error again at the end of each iteration of the while loop:"
   ]
  },
  {
   "cell_type": "code",
   "execution_count": 24,
   "metadata": {},
   "outputs": [],
   "source": [
    "error[0] = distance(centroids[0], centroids_old[0])\n",
    "error[1] = distance(centroids[1],   centroids_old[1])\n",
    "error[2] = distance(centroids[2], centroids_old[2])"
   ]
  },
  {
   "cell_type": "code",
   "execution_count": null,
   "metadata": {},
   "outputs": [],
   "source": [
    "  for i in range(3):\n",
    "    points = [sepal_length_width[j] for j in range(len(sepal_length_width)) if labels[j] == i]\n",
    "    centroids[i] = np.mean(points, axis=0)\n",
    "\n",
    "  error[0] = distance(centroids[0], centroids_old[0])\n",
    "  error[1] = distance(centroids[1],   centroids_old[1])\n",
    "  error[2] = distance(centroids[2], centroids_old[2])"
   ]
  },
  {
   "cell_type": "code",
   "execution_count": null,
   "metadata": {},
   "outputs": [],
   "source": []
  },
  {
   "cell_type": "markdown",
   "metadata": {},
   "source": [
    "#### Q4 \n",
    "Awesome, now you have everything, let’s visualize it.\n",
    "\n",
    "After the while loop finishes, let’s create an array of colors:\n",
    "\n",
    "colors = ['r', 'g', 'b']\n",
    "\n",
    "Then, create a for loop that iterates k times.\n",
    "\n",
    "Inside the for loop (similar to what we did in the last exercise), create an array named points where we get all the data points that have the cluster label i.\n",
    "\n",
    "Then we are going to make a scatter plot of points[:, 0] vs points[:, 1] using the scatter() function:\n",
    "\n",
    "Then, paste the following code at the very end. Here, we are visualizing all the points in each of the labels a different color."
   ]
  },
  {
   "cell_type": "code",
   "execution_count": 25,
   "metadata": {},
   "outputs": [
    {
     "data": {
      "image/png": "[encoded data removed]",
      "text/plain": [
       "<Figure size 432x288 with 1 Axes>"
      ]
     },
     "metadata": {
      "needs_background": "light"
     },
     "output_type": "display_data"
    }
   ],
   "source": [
    "colors = ['r', 'g', 'b']\n",
    "\n",
    "for i in range(k):\n",
    "  points = np.array([sepal_length_width[j] for j in range(len(samples)) if labels[j] == i])\n",
    "  plt.scatter(points[:, 0], points[:, 1], c=colors[i], alpha=0.5)\n",
    "\n",
    "plt.scatter(centroids[:, 0], centroids[:, 1], marker='D', s=150)\n",
    "\n",
    "plt.xlabel('sepal length (cm)')\n",
    "plt.ylabel('sepal width (cm)')\n",
    "\n",
    "plt.show()"
   ]
  },
  {
   "cell_type": "code",
   "execution_count": null,
   "metadata": {},
   "outputs": [],
   "source": []
  }
 ],
 "metadata": {
  "kernelspec": {
   "display_name": "Python 3",
   "language": "python",
   "name": "python3"
  },
  "language_info": {
   "codemirror_mode": {
    "name": "ipython",
    "version": 3
   },
   "file_extension": ".py",
   "mimetype": "text/x-python",
   "name": "python",
   "nbconvert_exporter": "python",
   "pygments_lexer": "ipython3",
   "version": "3.7.4"
  }
 },
 "nbformat": 4,
 "nbformat_minor": 2
}
